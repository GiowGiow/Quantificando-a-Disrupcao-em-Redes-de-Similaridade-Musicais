{
 "cells": [
  {
   "cell_type": "markdown",
   "source": [
    "# Imports"
   ],
   "metadata": {}
  },
  {
   "cell_type": "code",
   "execution_count": 72,
   "source": [
    "import numpy as np\n",
    "import pandas as pd\n",
    "import matplotlib.pyplot as plt\n",
    "import seaborn as sns\n",
    "from pathlib import Path\n",
    "# from src.utils import plot_genre_distribution\n",
    "\n",
    "# IPython Magic Functions\n",
    "# will make plot outputs appear and be stored within the notebook.\n",
    "%matplotlib inline \n",
    "\n",
    "# Turn on interactive mode\n",
    "sns.set_theme()\n",
    "plt.rcParams['figure.figsize']  = (11.7, 8.27)"
   ],
   "outputs": [],
   "metadata": {
    "scrolled": true
   }
  },
  {
   "cell_type": "markdown",
   "source": [
    "# Loading datasets into Dataframes"
   ],
   "metadata": {}
  },
  {
   "cell_type": "code",
   "execution_count": 73,
   "source": [
    "dataset_name = \"music4all\"\n",
    "dataset_relative_location = \"../../dataset\"\n",
    "\n",
    "dataset_path = Path(dataset_relative_location) / dataset_name\n",
    "\n",
    "### Get datset CSVs\n",
    "csvsPattern = \"*.csv\"\n",
    "csvs = list(dataset_path.glob(csvsPattern))\n",
    "csvs\n",
    "\n",
    "datasets = {}\n",
    "\n",
    "for csv in csvs:\n",
    "    datasets[csv.stem] = pd.read_csv(csv, delimiter=\"\\t\")\n",
    "\n",
    "# Taking a look at the datasets we have\n",
    "datasets.keys()"
   ],
   "outputs": [
    {
     "output_type": "execute_result",
     "data": {
      "text/plain": [
       "dict_keys(['id_tags', 'id_metadata', 'id_information', 'listening_history', 'id_lang', 'id_genres'])"
      ]
     },
     "metadata": {},
     "execution_count": 73
    }
   ],
   "metadata": {}
  },
  {
   "cell_type": "markdown",
   "source": [
    "## Loading Processed Dataframe"
   ],
   "metadata": {}
  },
  {
   "cell_type": "code",
   "execution_count": 74,
   "source": [
    "dataset_size = 109178\n",
    "feat_type = \"transfer_learning\"\n",
    "\n",
    "DATASETS_FOLDER = Path(\"../code/dataset\")\n",
    "DATAFRAME_PATH = DATASETS_FOLDER / \"cleaned_datasets\" \n",
    "DF_FILENAME = f\"cleaned_song_info_{dataset_size}_entries.csv\"\n",
    "\n",
    "dataframe = pd.read_csv(DATAFRAME_PATH / DF_FILENAME)\n",
    "print(f\"columns: {dataframe.columns}\\nsize: {len(dataframe)}\")"
   ],
   "outputs": [
    {
     "output_type": "stream",
     "name": "stdout",
     "text": [
      "columns: Index(['id', 'artist', 'song', 'album_name', 'genres', 'spotify_id',\n",
      "       'popularity', 'release', 'danceability', 'energy', 'key', 'mode',\n",
      "       'valence', 'tempo', 'duration_ms'],\n",
      "      dtype='object')\n",
      "size: 109178\n"
     ]
    }
   ],
   "metadata": {}
  },
  {
   "cell_type": "markdown",
   "source": [
    "# How many artists, songs and albuns do we have in the dataset ?"
   ],
   "metadata": {}
  },
  {
   "cell_type": "markdown",
   "source": [
    "### Merging the datasets in one that has meaningfull song information"
   ],
   "metadata": {}
  },
  {
   "cell_type": "code",
   "execution_count": 75,
   "source": [
    "song_info = pd.merge(datasets['id_information'], datasets['id_genres'], on='id')\n",
    "song_info = pd.merge(song_info, datasets['id_metadata'], on='id') # has release date info\n",
    "song_info.describe()"
   ],
   "outputs": [
    {
     "output_type": "execute_result",
     "data": {
      "text/html": [
       "<div>\n",
       "<style scoped>\n",
       "    .dataframe tbody tr th:only-of-type {\n",
       "        vertical-align: middle;\n",
       "    }\n",
       "\n",
       "    .dataframe tbody tr th {\n",
       "        vertical-align: top;\n",
       "    }\n",
       "\n",
       "    .dataframe thead th {\n",
       "        text-align: right;\n",
       "    }\n",
       "</style>\n",
       "<table border=\"1\" class=\"dataframe\">\n",
       "  <thead>\n",
       "    <tr style=\"text-align: right;\">\n",
       "      <th></th>\n",
       "      <th>popularity</th>\n",
       "      <th>release</th>\n",
       "      <th>danceability</th>\n",
       "      <th>energy</th>\n",
       "      <th>key</th>\n",
       "      <th>mode</th>\n",
       "      <th>valence</th>\n",
       "      <th>tempo</th>\n",
       "      <th>duration_ms</th>\n",
       "    </tr>\n",
       "  </thead>\n",
       "  <tbody>\n",
       "    <tr>\n",
       "      <th>count</th>\n",
       "      <td>109269.000000</td>\n",
       "      <td>109269.000000</td>\n",
       "      <td>109269.000000</td>\n",
       "      <td>109269.000000</td>\n",
       "      <td>109269.000000</td>\n",
       "      <td>109269.000000</td>\n",
       "      <td>109269.000000</td>\n",
       "      <td>109269.000000</td>\n",
       "      <td>1.092690e+05</td>\n",
       "    </tr>\n",
       "    <tr>\n",
       "      <th>mean</th>\n",
       "      <td>35.080608</td>\n",
       "      <td>2005.813488</td>\n",
       "      <td>0.520449</td>\n",
       "      <td>0.667162</td>\n",
       "      <td>5.284079</td>\n",
       "      <td>0.624669</td>\n",
       "      <td>0.445504</td>\n",
       "      <td>122.753032</td>\n",
       "      <td>2.425046e+05</td>\n",
       "    </tr>\n",
       "    <tr>\n",
       "      <th>std</th>\n",
       "      <td>14.756258</td>\n",
       "      <td>14.335056</td>\n",
       "      <td>0.173008</td>\n",
       "      <td>0.241372</td>\n",
       "      <td>3.560797</td>\n",
       "      <td>0.484210</td>\n",
       "      <td>0.252159</td>\n",
       "      <td>28.997936</td>\n",
       "      <td>1.003360e+05</td>\n",
       "    </tr>\n",
       "    <tr>\n",
       "      <th>min</th>\n",
       "      <td>0.000000</td>\n",
       "      <td>1013.000000</td>\n",
       "      <td>0.000000</td>\n",
       "      <td>0.000000</td>\n",
       "      <td>0.000000</td>\n",
       "      <td>0.000000</td>\n",
       "      <td>0.000000</td>\n",
       "      <td>0.000000</td>\n",
       "      <td>7.229000e+03</td>\n",
       "    </tr>\n",
       "    <tr>\n",
       "      <th>25%</th>\n",
       "      <td>25.000000</td>\n",
       "      <td>2001.000000</td>\n",
       "      <td>0.403000</td>\n",
       "      <td>0.502000</td>\n",
       "      <td>2.000000</td>\n",
       "      <td>0.000000</td>\n",
       "      <td>0.236000</td>\n",
       "      <td>100.194000</td>\n",
       "      <td>1.934810e+05</td>\n",
       "    </tr>\n",
       "    <tr>\n",
       "      <th>50%</th>\n",
       "      <td>34.000000</td>\n",
       "      <td>2011.000000</td>\n",
       "      <td>0.528000</td>\n",
       "      <td>0.712000</td>\n",
       "      <td>5.000000</td>\n",
       "      <td>1.000000</td>\n",
       "      <td>0.424000</td>\n",
       "      <td>121.079000</td>\n",
       "      <td>2.275330e+05</td>\n",
       "    </tr>\n",
       "    <tr>\n",
       "      <th>75%</th>\n",
       "      <td>45.000000</td>\n",
       "      <td>2016.000000</td>\n",
       "      <td>0.645000</td>\n",
       "      <td>0.872000</td>\n",
       "      <td>9.000000</td>\n",
       "      <td>1.000000</td>\n",
       "      <td>0.639000</td>\n",
       "      <td>140.047000</td>\n",
       "      <td>2.715330e+05</td>\n",
       "    </tr>\n",
       "    <tr>\n",
       "      <th>max</th>\n",
       "      <td>95.000000</td>\n",
       "      <td>2019.000000</td>\n",
       "      <td>0.988000</td>\n",
       "      <td>1.000000</td>\n",
       "      <td>11.000000</td>\n",
       "      <td>1.000000</td>\n",
       "      <td>0.998000</td>\n",
       "      <td>242.903000</td>\n",
       "      <td>4.995315e+06</td>\n",
       "    </tr>\n",
       "  </tbody>\n",
       "</table>\n",
       "</div>"
      ],
      "text/plain": [
       "          popularity        release   danceability         energy  \\\n",
       "count  109269.000000  109269.000000  109269.000000  109269.000000   \n",
       "mean       35.080608    2005.813488       0.520449       0.667162   \n",
       "std        14.756258      14.335056       0.173008       0.241372   \n",
       "min         0.000000    1013.000000       0.000000       0.000000   \n",
       "25%        25.000000    2001.000000       0.403000       0.502000   \n",
       "50%        34.000000    2011.000000       0.528000       0.712000   \n",
       "75%        45.000000    2016.000000       0.645000       0.872000   \n",
       "max        95.000000    2019.000000       0.988000       1.000000   \n",
       "\n",
       "                 key           mode        valence          tempo  \\\n",
       "count  109269.000000  109269.000000  109269.000000  109269.000000   \n",
       "mean        5.284079       0.624669       0.445504     122.753032   \n",
       "std         3.560797       0.484210       0.252159      28.997936   \n",
       "min         0.000000       0.000000       0.000000       0.000000   \n",
       "25%         2.000000       0.000000       0.236000     100.194000   \n",
       "50%         5.000000       1.000000       0.424000     121.079000   \n",
       "75%         9.000000       1.000000       0.639000     140.047000   \n",
       "max        11.000000       1.000000       0.998000     242.903000   \n",
       "\n",
       "        duration_ms  \n",
       "count  1.092690e+05  \n",
       "mean   2.425046e+05  \n",
       "std    1.003360e+05  \n",
       "min    7.229000e+03  \n",
       "25%    1.934810e+05  \n",
       "50%    2.275330e+05  \n",
       "75%    2.715330e+05  \n",
       "max    4.995315e+06  "
      ]
     },
     "metadata": {},
     "execution_count": 75
    }
   ],
   "metadata": {}
  },
  {
   "cell_type": "markdown",
   "source": [
    "# What is the genre distribution ?"
   ],
   "metadata": {}
  },
  {
   "cell_type": "code",
   "execution_count": 76,
   "source": [
    "def plot_genre_distribution(df, most_popular=10):\n",
    "    \"\"\" Plots the genre distribution of the most popular genres in the dataframe\n",
    "    - Needs a genre column in the dataframe\n",
    "    \"\"\"\n",
    "    \n",
    "    # Join all the genres in a string and the split them\n",
    "    genres = \",\".join(df['genres']).split(\",\")\n",
    "    \n",
    "    # That way we can count the occurrences of all genres in the dataframe\n",
    "    genres_series = pd.Series(genres)\n",
    "    print(f\"Number of unique genres in the dataset: {genres_series.nunique()}\")\n",
    "    \n",
    "    genres_count = genres_series.value_counts()\n",
    "    fig = genres_count[:most_popular].plot.barh(title=\"Distribuição de Gêneros no dataset\")\n",
    "    fig.invert_yaxis()\n",
    "    ax = fig.figure.gca()\n",
    "    ax.set(xlabel=\"Quantidade de Músicas\")\n",
    "    fig.figure.savefig(\"images/Gêneros no Dataset.png\")\n",
    "    \n",
    "\n",
    "plot_genre_distribution(dataframe)"
   ],
   "outputs": [
    {
     "output_type": "stream",
     "name": "stdout",
     "text": [
      "Number of unique genres in the dataset: 853\n"
     ]
    },
    {
     "output_type": "display_data",
     "data": {
      "image/png": "[encoded data removed]",
      "text/plain": [
       "<Figure size 842.4x595.44 with 1 Axes>"
      ]
     },
     "metadata": {}
    }
   ],
   "metadata": {
    "scrolled": true
   }
  },
  {
   "cell_type": "markdown",
   "source": [
    "We have less songs/albuns/artists than ids because there are songs, albuns and artists with the same name"
   ],
   "metadata": {}
  },
  {
   "cell_type": "code",
   "execution_count": 77,
   "source": [
    "fig = dataframe.groupby((dataframe.release//10)*10).count()[\"song\"].plot.bar() \\\n",
    "    .set_title(\"Distribuição de Décadas\") \\\n",
    "    .get_figure()\n",
    "ax = fig.gca()\n",
    "\n",
    "ax.set(ylabel=\"Número de Músicas\")\n",
    "ax.tick_params(axis='x', rotation=0)\n",
    "\n",
    "fig.savefig(\"images/Distribuição de Décadas.png\")"
   ],
   "outputs": [
    {
     "output_type": "display_data",
     "data": {
      "image/png": "[encoded data removed]",
      "text/plain": [
       "<Figure size 842.4x595.44 with 1 Axes>"
      ]
     },
     "metadata": {}
    }
   ],
   "metadata": {}
  },
  {
   "cell_type": "code",
   "execution_count": 78,
   "source": [
    "fig = dataframe.groupby((dataframe.release//10)*10).count()[\"song\"][:-1].plot.bar() \\\n",
    "    .set_title(\"Distribuição de Décadas\") \\\n",
    "    .get_figure()\n",
    "ax = fig.gca()\n",
    "\n",
    "ax.set(ylabel=\"Número de Músicas\")\n",
    "ax.tick_params(axis='x', rotation=0)\n",
    "\n",
    "fig.savefig(\"images/Distribuição de Décadas Até 2000.png\")"
   ],
   "outputs": [
    {
     "output_type": "display_data",
     "data": {
      "image/png": "[encoded data removed]",
      "text/plain": [
       "<Figure size 842.4x595.44 with 1 Axes>"
      ]
     },
     "metadata": {}
    }
   ],
   "metadata": {}
  },
  {
   "cell_type": "code",
   "execution_count": 79,
   "source": [
    "df_info = datasets[\"id_information\"]\n",
    "unique = df_info.nunique()\n",
    "\n",
    "print(unique)\n",
    "print(f\"\\nSongs: {unique[0]}\\nArtists: {unique[1]}\\nAlbuns: {unique[3]}\")\n",
    "fig = unique.plot.bar(title=\"Musicas, artistas, musicas únicas e albuns\") \\\n",
    "    .get_figure()\n",
    "ax = fig.gca()\n",
    "ax.tick_params(axis='x', rotation=0)\n",
    "fig.savefig(\"images/Musicas, artistas, musicas únicas e albuns.png\")"
   ],
   "outputs": [
    {
     "output_type": "stream",
     "name": "stdout",
     "text": [
      "id            109269\n",
      "artist         16269\n",
      "song           87915\n",
      "album_name     38363\n",
      "dtype: int64\n",
      "\n",
      "Songs: 109269\n",
      "Artists: 16269\n",
      "Albuns: 38363\n"
     ]
    },
    {
     "output_type": "display_data",
     "data": {
      "image/png": "[encoded data removed]",
      "text/plain": [
       "<Figure size 842.4x595.44 with 1 Axes>"
      ]
     },
     "metadata": {}
    }
   ],
   "metadata": {}
  },
  {
   "cell_type": "code",
   "execution_count": 40,
   "source": [
    "genres_df = datasets[\"id_genres\"].copy(deep=True)\n",
    "genres = \",\".join(genres_df['genres']).split(\",\")\n",
    "genres[:10]"
   ],
   "outputs": [
    {
     "output_type": "execute_result",
     "data": {
      "text/plain": [
       "['pop',\n",
       " 'underground hip hop',\n",
       " 'hard rock',\n",
       " 'rock',\n",
       " 'classic rock',\n",
       " 'symphonic metal',\n",
       " 'power metal',\n",
       " 'symphonic power metal',\n",
       " 'post-punk',\n",
       " 'new wave']"
      ]
     },
     "metadata": {},
     "execution_count": 40
    }
   ],
   "metadata": {}
  },
  {
   "cell_type": "code",
   "execution_count": 41,
   "source": [
    "# Get the the series as dataframe to count the values\n",
    "genres_count = pd.Series(genres).value_counts()\n",
    "\n",
    "# Get the first 100 most common\n",
    "most_common_genres = genres_count[:100]\n",
    "most_common_genres"
   ],
   "outputs": [
    {
     "output_type": "execute_result",
     "data": {
      "text/plain": [
       "rock                25731\n",
       "pop                 22013\n",
       "electronic          12769\n",
       "alternative rock     8103\n",
       "indie rock           7943\n",
       "                    ...  \n",
       "christian rock        350\n",
       "drone                 346\n",
       "avant-garde           343\n",
       "mathcore              337\n",
       "grindcore             334\n",
       "Length: 100, dtype: int64"
      ]
     },
     "metadata": {},
     "execution_count": 41
    }
   ],
   "metadata": {}
  },
  {
   "cell_type": "code",
   "execution_count": 42,
   "source": [
    "ax = most_common_genres[:15].plot.bar(title=\"Distribuição de Gêneros no dataset\")"
   ],
   "outputs": [
    {
     "output_type": "display_data",
     "data": {
      "image/png": "[encoded data removed]",
      "text/plain": [
       "<Figure size 1152x720 with 1 Axes>"
      ]
     },
     "metadata": {}
    }
   ],
   "metadata": {}
  },
  {
   "cell_type": "markdown",
   "source": [
    "# Qual a distribuição das tags ?"
   ],
   "metadata": {}
  },
  {
   "cell_type": "code",
   "execution_count": 65,
   "source": [
    "# Getting the tags\n",
    "tags_df = datasets[\"id_tags\"].copy(deep=True)\n",
    "\n",
    "# Counting the tags\n",
    "tags = \",\".join(tags_df['tags']).split(\",\")\n",
    "tags_count = pd.Series(tags).value_counts()\n",
    "\n",
    "# Getting the most common tags in the dataset\n",
    "most_common_tags = tags_count[:100]\n",
    "most_common_tags"
   ],
   "outputs": [
    {
     "output_type": "execute_result",
     "data": {
      "text/plain": [
       "rock              25731\n",
       "pop               22013\n",
       "indie             17539\n",
       "alternative       13114\n",
       "electronic        12769\n",
       "                  ...  \n",
       "downtempo           936\n",
       "trap                917\n",
       "male vocalists      881\n",
       "garage rock         878\n",
       "nu metal            856\n",
       "Length: 100, dtype: int64"
      ]
     },
     "metadata": {},
     "execution_count": 65
    }
   ],
   "metadata": {}
  },
  {
   "cell_type": "code",
   "execution_count": 66,
   "source": [
    "ax = most_common_tags[:15].plot.bar(title=\"Distribuição de tags no dataset\")"
   ],
   "outputs": [
    {
     "output_type": "display_data",
     "data": {
      "image/png": "[encoded data removed]",
      "text/plain": [
       "<Figure size 1152x720 with 1 Axes>"
      ]
     },
     "metadata": {}
    }
   ],
   "metadata": {
    "scrolled": true
   }
  },
  {
   "cell_type": "markdown",
   "source": [
    "# Taking a look at the listening history of the users"
   ],
   "metadata": {}
  },
  {
   "cell_type": "code",
   "execution_count": 8,
   "source": [
    "datasets['listening_history'].describe()"
   ],
   "outputs": [
    {
     "output_type": "display_data",
     "data": {
      "text/html": [
       "<div>\n",
       "<style scoped>\n",
       "    .dataframe tbody tr th:only-of-type {\n",
       "        vertical-align: middle;\n",
       "    }\n",
       "\n",
       "    .dataframe tbody tr th {\n",
       "        vertical-align: top;\n",
       "    }\n",
       "\n",
       "    .dataframe thead th {\n",
       "        text-align: right;\n",
       "    }\n",
       "</style>\n",
       "<table border=\"1\" class=\"dataframe\">\n",
       "  <thead>\n",
       "    <tr style=\"text-align: right;\">\n",
       "      <th></th>\n",
       "      <th>user</th>\n",
       "      <th>song</th>\n",
       "      <th>timestamp</th>\n",
       "    </tr>\n",
       "  </thead>\n",
       "  <tbody>\n",
       "    <tr>\n",
       "      <th>count</th>\n",
       "      <td>5109592</td>\n",
       "      <td>5109592</td>\n",
       "      <td>5109592</td>\n",
       "    </tr>\n",
       "    <tr>\n",
       "      <th>unique</th>\n",
       "      <td>14127</td>\n",
       "      <td>99596</td>\n",
       "      <td>122340</td>\n",
       "    </tr>\n",
       "    <tr>\n",
       "      <th>top</th>\n",
       "      <td>user_dndf78il</td>\n",
       "      <td>32m5suoC94ytD8Ed</td>\n",
       "      <td>2019-02-08 20:35</td>\n",
       "    </tr>\n",
       "    <tr>\n",
       "      <th>freq</th>\n",
       "      <td>500</td>\n",
       "      <td>82871</td>\n",
       "      <td>175</td>\n",
       "    </tr>\n",
       "  </tbody>\n",
       "</table>\n",
       "</div>"
      ],
      "text/plain": [
       "                 user              song         timestamp\n",
       "count         5109592           5109592           5109592\n",
       "unique          14127             99596            122340\n",
       "top     user_dndf78il  32m5suoC94ytD8Ed  2019-02-08 20:35\n",
       "freq              500             82871               175"
      ]
     },
     "metadata": {}
    }
   ],
   "metadata": {}
  },
  {
   "cell_type": "code",
   "execution_count": 14,
   "source": [
    "listening_history = datasets['listening_history']\n",
    "listening_history"
   ],
   "outputs": [
    {
     "output_type": "display_data",
     "data": {
      "text/html": [
       "<div>\n",
       "<style scoped>\n",
       "    .dataframe tbody tr th:only-of-type {\n",
       "        vertical-align: middle;\n",
       "    }\n",
       "\n",
       "    .dataframe tbody tr th {\n",
       "        vertical-align: top;\n",
       "    }\n",
       "\n",
       "    .dataframe thead th {\n",
       "        text-align: right;\n",
       "    }\n",
       "</style>\n",
       "<table border=\"1\" class=\"dataframe\">\n",
       "  <thead>\n",
       "    <tr style=\"text-align: right;\">\n",
       "      <th></th>\n",
       "      <th>user</th>\n",
       "      <th>song</th>\n",
       "      <th>timestamp</th>\n",
       "    </tr>\n",
       "  </thead>\n",
       "  <tbody>\n",
       "    <tr>\n",
       "      <th>0</th>\n",
       "      <td>user_007XIjOr</td>\n",
       "      <td>DaTQ53TUmfP93FSr</td>\n",
       "      <td>2019-02-20 12:28</td>\n",
       "    </tr>\n",
       "    <tr>\n",
       "      <th>1</th>\n",
       "      <td>user_007XIjOr</td>\n",
       "      <td>dGeyvi5WCOjDU7da</td>\n",
       "      <td>2019-02-20 12:35</td>\n",
       "    </tr>\n",
       "    <tr>\n",
       "      <th>2</th>\n",
       "      <td>user_007XIjOr</td>\n",
       "      <td>qUm54NYOjeFhmKYx</td>\n",
       "      <td>2019-02-20 12:48</td>\n",
       "    </tr>\n",
       "    <tr>\n",
       "      <th>3</th>\n",
       "      <td>user_007XIjOr</td>\n",
       "      <td>FtnuMT1DlevSR2n5</td>\n",
       "      <td>2019-02-20 12:52</td>\n",
       "    </tr>\n",
       "    <tr>\n",
       "      <th>4</th>\n",
       "      <td>user_007XIjOr</td>\n",
       "      <td>LHETTZcSZLeaVOGh</td>\n",
       "      <td>2019-02-20 13:09</td>\n",
       "    </tr>\n",
       "    <tr>\n",
       "      <th>...</th>\n",
       "      <td>...</td>\n",
       "      <td>...</td>\n",
       "      <td>...</td>\n",
       "    </tr>\n",
       "    <tr>\n",
       "      <th>5109587</th>\n",
       "      <td>user_zzWscYTy</td>\n",
       "      <td>BBiswLufo26YQCT7</td>\n",
       "      <td>2019-01-10 15:57</td>\n",
       "    </tr>\n",
       "    <tr>\n",
       "      <th>5109588</th>\n",
       "      <td>user_zzWscYTy</td>\n",
       "      <td>5ZHgff3sjETIiedr</td>\n",
       "      <td>2019-01-10 16:21</td>\n",
       "    </tr>\n",
       "    <tr>\n",
       "      <th>5109589</th>\n",
       "      <td>user_zzWscYTy</td>\n",
       "      <td>m4O1iLh6fC43xjRy</td>\n",
       "      <td>2019-01-10 16:48</td>\n",
       "    </tr>\n",
       "    <tr>\n",
       "      <th>5109590</th>\n",
       "      <td>user_zzWscYTy</td>\n",
       "      <td>mvUaP8k67qOFfA65</td>\n",
       "      <td>2019-01-10 21:13</td>\n",
       "    </tr>\n",
       "    <tr>\n",
       "      <th>5109591</th>\n",
       "      <td>user_zzWscYTy</td>\n",
       "      <td>BBiswLufo26YQCT7</td>\n",
       "      <td>2019-01-10 21:16</td>\n",
       "    </tr>\n",
       "  </tbody>\n",
       "</table>\n",
       "<p>5109592 rows × 3 columns</p>\n",
       "</div>"
      ],
      "text/plain": [
       "                  user              song         timestamp\n",
       "0        user_007XIjOr  DaTQ53TUmfP93FSr  2019-02-20 12:28\n",
       "1        user_007XIjOr  dGeyvi5WCOjDU7da  2019-02-20 12:35\n",
       "2        user_007XIjOr  qUm54NYOjeFhmKYx  2019-02-20 12:48\n",
       "3        user_007XIjOr  FtnuMT1DlevSR2n5  2019-02-20 12:52\n",
       "4        user_007XIjOr  LHETTZcSZLeaVOGh  2019-02-20 13:09\n",
       "...                ...               ...               ...\n",
       "5109587  user_zzWscYTy  BBiswLufo26YQCT7  2019-01-10 15:57\n",
       "5109588  user_zzWscYTy  5ZHgff3sjETIiedr  2019-01-10 16:21\n",
       "5109589  user_zzWscYTy  m4O1iLh6fC43xjRy  2019-01-10 16:48\n",
       "5109590  user_zzWscYTy  mvUaP8k67qOFfA65  2019-01-10 21:13\n",
       "5109591  user_zzWscYTy  BBiswLufo26YQCT7  2019-01-10 21:16\n",
       "\n",
       "[5109592 rows x 3 columns]"
      ]
     },
     "metadata": {}
    }
   ],
   "metadata": {}
  },
  {
   "cell_type": "markdown",
   "source": [
    "# Selecting one user to check its listening history to see what it is like"
   ],
   "metadata": {}
  },
  {
   "cell_type": "code",
   "execution_count": 15,
   "source": [
    "some_user = lh[lh[\"user\"] == \"user_007XIjOr\"]\n",
    "some_user"
   ],
   "outputs": [
    {
     "output_type": "display_data",
     "data": {
      "text/html": [
       "<div>\n",
       "<style scoped>\n",
       "    .dataframe tbody tr th:only-of-type {\n",
       "        vertical-align: middle;\n",
       "    }\n",
       "\n",
       "    .dataframe tbody tr th {\n",
       "        vertical-align: top;\n",
       "    }\n",
       "\n",
       "    .dataframe thead th {\n",
       "        text-align: right;\n",
       "    }\n",
       "</style>\n",
       "<table border=\"1\" class=\"dataframe\">\n",
       "  <thead>\n",
       "    <tr style=\"text-align: right;\">\n",
       "      <th></th>\n",
       "      <th>user</th>\n",
       "      <th>song</th>\n",
       "      <th>timestamp</th>\n",
       "    </tr>\n",
       "  </thead>\n",
       "  <tbody>\n",
       "    <tr>\n",
       "      <th>0</th>\n",
       "      <td>user_007XIjOr</td>\n",
       "      <td>DaTQ53TUmfP93FSr</td>\n",
       "      <td>2019-02-20 12:28</td>\n",
       "    </tr>\n",
       "    <tr>\n",
       "      <th>1</th>\n",
       "      <td>user_007XIjOr</td>\n",
       "      <td>dGeyvi5WCOjDU7da</td>\n",
       "      <td>2019-02-20 12:35</td>\n",
       "    </tr>\n",
       "    <tr>\n",
       "      <th>2</th>\n",
       "      <td>user_007XIjOr</td>\n",
       "      <td>qUm54NYOjeFhmKYx</td>\n",
       "      <td>2019-02-20 12:48</td>\n",
       "    </tr>\n",
       "    <tr>\n",
       "      <th>3</th>\n",
       "      <td>user_007XIjOr</td>\n",
       "      <td>FtnuMT1DlevSR2n5</td>\n",
       "      <td>2019-02-20 12:52</td>\n",
       "    </tr>\n",
       "    <tr>\n",
       "      <th>4</th>\n",
       "      <td>user_007XIjOr</td>\n",
       "      <td>LHETTZcSZLeaVOGh</td>\n",
       "      <td>2019-02-20 13:09</td>\n",
       "    </tr>\n",
       "    <tr>\n",
       "      <th>...</th>\n",
       "      <td>...</td>\n",
       "      <td>...</td>\n",
       "      <td>...</td>\n",
       "    </tr>\n",
       "    <tr>\n",
       "      <th>435</th>\n",
       "      <td>user_007XIjOr</td>\n",
       "      <td>1gEApUktf4hN25zC</td>\n",
       "      <td>2019-03-05 23:14</td>\n",
       "    </tr>\n",
       "    <tr>\n",
       "      <th>436</th>\n",
       "      <td>user_007XIjOr</td>\n",
       "      <td>LxpGP4Ys3MgvhqRZ</td>\n",
       "      <td>2019-03-05 23:32</td>\n",
       "    </tr>\n",
       "    <tr>\n",
       "      <th>437</th>\n",
       "      <td>user_007XIjOr</td>\n",
       "      <td>LxpGP4Ys3MgvhqRZ</td>\n",
       "      <td>2019-03-05 23:32</td>\n",
       "    </tr>\n",
       "    <tr>\n",
       "      <th>438</th>\n",
       "      <td>user_007XIjOr</td>\n",
       "      <td>LxpGP4Ys3MgvhqRZ</td>\n",
       "      <td>2019-03-05 23:38</td>\n",
       "    </tr>\n",
       "    <tr>\n",
       "      <th>439</th>\n",
       "      <td>user_007XIjOr</td>\n",
       "      <td>ANgqdprgC44Bj6Bv</td>\n",
       "      <td>2019-03-06 00:45</td>\n",
       "    </tr>\n",
       "  </tbody>\n",
       "</table>\n",
       "<p>440 rows × 3 columns</p>\n",
       "</div>"
      ],
      "text/plain": [
       "              user              song         timestamp\n",
       "0    user_007XIjOr  DaTQ53TUmfP93FSr  2019-02-20 12:28\n",
       "1    user_007XIjOr  dGeyvi5WCOjDU7da  2019-02-20 12:35\n",
       "2    user_007XIjOr  qUm54NYOjeFhmKYx  2019-02-20 12:48\n",
       "3    user_007XIjOr  FtnuMT1DlevSR2n5  2019-02-20 12:52\n",
       "4    user_007XIjOr  LHETTZcSZLeaVOGh  2019-02-20 13:09\n",
       "..             ...               ...               ...\n",
       "435  user_007XIjOr  1gEApUktf4hN25zC  2019-03-05 23:14\n",
       "436  user_007XIjOr  LxpGP4Ys3MgvhqRZ  2019-03-05 23:32\n",
       "437  user_007XIjOr  LxpGP4Ys3MgvhqRZ  2019-03-05 23:32\n",
       "438  user_007XIjOr  LxpGP4Ys3MgvhqRZ  2019-03-05 23:38\n",
       "439  user_007XIjOr  ANgqdprgC44Bj6Bv  2019-03-06 00:45\n",
       "\n",
       "[440 rows x 3 columns]"
      ]
     },
     "metadata": {}
    }
   ],
   "metadata": {
    "scrolled": true
   }
  },
  {
   "cell_type": "code",
   "execution_count": 22,
   "source": [
    "## Ranaming column to make a merge\n",
    "renamed_df = some_user.rename(columns = {'song':'id'})\n",
    "some_user_songs = pd.merge(renamed_df, song_info, on='id')\n",
    "some_user_songs"
   ],
   "outputs": [
    {
     "output_type": "execute_result",
     "data": {
      "text/html": [
       "<div>\n",
       "<style scoped>\n",
       "    .dataframe tbody tr th:only-of-type {\n",
       "        vertical-align: middle;\n",
       "    }\n",
       "\n",
       "    .dataframe tbody tr th {\n",
       "        vertical-align: top;\n",
       "    }\n",
       "\n",
       "    .dataframe thead th {\n",
       "        text-align: right;\n",
       "    }\n",
       "</style>\n",
       "<table border=\"1\" class=\"dataframe\">\n",
       "  <thead>\n",
       "    <tr style=\"text-align: right;\">\n",
       "      <th></th>\n",
       "      <th>user</th>\n",
       "      <th>id</th>\n",
       "      <th>timestamp</th>\n",
       "      <th>artist</th>\n",
       "      <th>song</th>\n",
       "      <th>album_name</th>\n",
       "      <th>genres</th>\n",
       "    </tr>\n",
       "  </thead>\n",
       "  <tbody>\n",
       "    <tr>\n",
       "      <th>0</th>\n",
       "      <td>user_007XIjOr</td>\n",
       "      <td>DaTQ53TUmfP93FSr</td>\n",
       "      <td>2019-02-20 12:28</td>\n",
       "      <td>Mitski</td>\n",
       "      <td>Your Best American Girl</td>\n",
       "      <td>Puberty 2</td>\n",
       "      <td>indie rock,noise pop,indie rock,dream pop</td>\n",
       "    </tr>\n",
       "    <tr>\n",
       "      <th>1</th>\n",
       "      <td>user_007XIjOr</td>\n",
       "      <td>DaTQ53TUmfP93FSr</td>\n",
       "      <td>2019-02-26 18:09</td>\n",
       "      <td>Mitski</td>\n",
       "      <td>Your Best American Girl</td>\n",
       "      <td>Puberty 2</td>\n",
       "      <td>indie rock,noise pop,indie rock,dream pop</td>\n",
       "    </tr>\n",
       "    <tr>\n",
       "      <th>2</th>\n",
       "      <td>user_007XIjOr</td>\n",
       "      <td>dGeyvi5WCOjDU7da</td>\n",
       "      <td>2019-02-20 12:35</td>\n",
       "      <td>ionnalee</td>\n",
       "      <td>LIKE HELL</td>\n",
       "      <td>EVERYONE AFRAID TO BE FORGOTTEN</td>\n",
       "      <td>synthpop,art pop,downtempo</td>\n",
       "    </tr>\n",
       "    <tr>\n",
       "      <th>3</th>\n",
       "      <td>user_007XIjOr</td>\n",
       "      <td>dGeyvi5WCOjDU7da</td>\n",
       "      <td>2019-02-25 13:25</td>\n",
       "      <td>ionnalee</td>\n",
       "      <td>LIKE HELL</td>\n",
       "      <td>EVERYONE AFRAID TO BE FORGOTTEN</td>\n",
       "      <td>synthpop,art pop,downtempo</td>\n",
       "    </tr>\n",
       "    <tr>\n",
       "      <th>4</th>\n",
       "      <td>user_007XIjOr</td>\n",
       "      <td>dGeyvi5WCOjDU7da</td>\n",
       "      <td>2019-02-28 23:25</td>\n",
       "      <td>ionnalee</td>\n",
       "      <td>LIKE HELL</td>\n",
       "      <td>EVERYONE AFRAID TO BE FORGOTTEN</td>\n",
       "      <td>synthpop,art pop,downtempo</td>\n",
       "    </tr>\n",
       "    <tr>\n",
       "      <th>...</th>\n",
       "      <td>...</td>\n",
       "      <td>...</td>\n",
       "      <td>...</td>\n",
       "      <td>...</td>\n",
       "      <td>...</td>\n",
       "      <td>...</td>\n",
       "      <td>...</td>\n",
       "    </tr>\n",
       "    <tr>\n",
       "      <th>435</th>\n",
       "      <td>user_007XIjOr</td>\n",
       "      <td>0jx1O7OwEExV2q1y</td>\n",
       "      <td>2019-03-05 22:44</td>\n",
       "      <td>Sufjan Stevens</td>\n",
       "      <td>I Walked</td>\n",
       "      <td>The Age of Adz</td>\n",
       "      <td>singer-songwriter,electronic,experimental,elec...</td>\n",
       "    </tr>\n",
       "    <tr>\n",
       "      <th>436</th>\n",
       "      <td>user_007XIjOr</td>\n",
       "      <td>0jx1O7OwEExV2q1y</td>\n",
       "      <td>2019-03-05 22:49</td>\n",
       "      <td>Sufjan Stevens</td>\n",
       "      <td>I Walked</td>\n",
       "      <td>The Age of Adz</td>\n",
       "      <td>singer-songwriter,electronic,experimental,elec...</td>\n",
       "    </tr>\n",
       "    <tr>\n",
       "      <th>437</th>\n",
       "      <td>user_007XIjOr</td>\n",
       "      <td>LxpGP4Ys3MgvhqRZ</td>\n",
       "      <td>2019-03-05 23:32</td>\n",
       "      <td>Julia Holter</td>\n",
       "      <td>Maxim's II</td>\n",
       "      <td>Loud City Song</td>\n",
       "      <td>experimental</td>\n",
       "    </tr>\n",
       "    <tr>\n",
       "      <th>438</th>\n",
       "      <td>user_007XIjOr</td>\n",
       "      <td>LxpGP4Ys3MgvhqRZ</td>\n",
       "      <td>2019-03-05 23:32</td>\n",
       "      <td>Julia Holter</td>\n",
       "      <td>Maxim's II</td>\n",
       "      <td>Loud City Song</td>\n",
       "      <td>experimental</td>\n",
       "    </tr>\n",
       "    <tr>\n",
       "      <th>439</th>\n",
       "      <td>user_007XIjOr</td>\n",
       "      <td>LxpGP4Ys3MgvhqRZ</td>\n",
       "      <td>2019-03-05 23:38</td>\n",
       "      <td>Julia Holter</td>\n",
       "      <td>Maxim's II</td>\n",
       "      <td>Loud City Song</td>\n",
       "      <td>experimental</td>\n",
       "    </tr>\n",
       "  </tbody>\n",
       "</table>\n",
       "<p>440 rows × 7 columns</p>\n",
       "</div>"
      ],
      "text/plain": [
       "              user                id         timestamp          artist  \\\n",
       "0    user_007XIjOr  DaTQ53TUmfP93FSr  2019-02-20 12:28          Mitski   \n",
       "1    user_007XIjOr  DaTQ53TUmfP93FSr  2019-02-26 18:09          Mitski   \n",
       "2    user_007XIjOr  dGeyvi5WCOjDU7da  2019-02-20 12:35        ionnalee   \n",
       "3    user_007XIjOr  dGeyvi5WCOjDU7da  2019-02-25 13:25        ionnalee   \n",
       "4    user_007XIjOr  dGeyvi5WCOjDU7da  2019-02-28 23:25        ionnalee   \n",
       "..             ...               ...               ...             ...   \n",
       "435  user_007XIjOr  0jx1O7OwEExV2q1y  2019-03-05 22:44  Sufjan Stevens   \n",
       "436  user_007XIjOr  0jx1O7OwEExV2q1y  2019-03-05 22:49  Sufjan Stevens   \n",
       "437  user_007XIjOr  LxpGP4Ys3MgvhqRZ  2019-03-05 23:32    Julia Holter   \n",
       "438  user_007XIjOr  LxpGP4Ys3MgvhqRZ  2019-03-05 23:32    Julia Holter   \n",
       "439  user_007XIjOr  LxpGP4Ys3MgvhqRZ  2019-03-05 23:38    Julia Holter   \n",
       "\n",
       "                        song                       album_name  \\\n",
       "0    Your Best American Girl                        Puberty 2   \n",
       "1    Your Best American Girl                        Puberty 2   \n",
       "2                  LIKE HELL  EVERYONE AFRAID TO BE FORGOTTEN   \n",
       "3                  LIKE HELL  EVERYONE AFRAID TO BE FORGOTTEN   \n",
       "4                  LIKE HELL  EVERYONE AFRAID TO BE FORGOTTEN   \n",
       "..                       ...                              ...   \n",
       "435                 I Walked                   The Age of Adz   \n",
       "436                 I Walked                   The Age of Adz   \n",
       "437               Maxim's II                   Loud City Song   \n",
       "438               Maxim's II                   Loud City Song   \n",
       "439               Maxim's II                   Loud City Song   \n",
       "\n",
       "                                                genres  \n",
       "0            indie rock,noise pop,indie rock,dream pop  \n",
       "1            indie rock,noise pop,indie rock,dream pop  \n",
       "2                           synthpop,art pop,downtempo  \n",
       "3                           synthpop,art pop,downtempo  \n",
       "4                           synthpop,art pop,downtempo  \n",
       "..                                                 ...  \n",
       "435  singer-songwriter,electronic,experimental,elec...  \n",
       "436  singer-songwriter,electronic,experimental,elec...  \n",
       "437                                       experimental  \n",
       "438                                       experimental  \n",
       "439                                       experimental  \n",
       "\n",
       "[440 rows x 7 columns]"
      ]
     },
     "metadata": {},
     "execution_count": 22
    }
   ],
   "metadata": {
    "scrolled": true
   }
  },
  {
   "cell_type": "code",
   "execution_count": 24,
   "source": [
    "def get_transition_timestamps(df):\n",
    "    list_of_lists = []\n",
    "    \n",
    "    # first row is a transition to itself, # source, # target, # timestamp\n",
    "    list_of_lists.append([df.loc[0, \"song\"], df.loc[0, \"song\"],  df.loc[0, \"timestamp\"]])\n",
    "\n",
    "    # from 0 to n-1\n",
    "    for i in range(0, len(df) - 1) :\n",
    "        list_of_lists.append([df.loc[i, \"song\"], df.loc[i + 1, \"song\"],  df.loc[i + 1, \"timestamp\"]])\n",
    "\n",
    "    return list_of_lists    \n",
    "\n",
    "def get_transition_df(transition_ts):\n",
    "    return pd.DataFrame(transition_ts, columns=[\"source\", \"target\", \"timestamp\"])\n",
    "\n",
    "# Get the listening history of the user as a dataset that every line is a transition\n",
    "transition_ts = get_transition_timestamps(some_user_songs)\n",
    "\n",
    "# Making into a dataframe \n",
    "transitions = pd.DataFrame(transition_ts, columns=[\"source\", \"target\", \"timestamp\"])\n",
    "transitions"
   ],
   "outputs": [
    {
     "output_type": "execute_result",
     "data": {
      "text/html": [
       "<div>\n",
       "<style scoped>\n",
       "    .dataframe tbody tr th:only-of-type {\n",
       "        vertical-align: middle;\n",
       "    }\n",
       "\n",
       "    .dataframe tbody tr th {\n",
       "        vertical-align: top;\n",
       "    }\n",
       "\n",
       "    .dataframe thead th {\n",
       "        text-align: right;\n",
       "    }\n",
       "</style>\n",
       "<table border=\"1\" class=\"dataframe\">\n",
       "  <thead>\n",
       "    <tr style=\"text-align: right;\">\n",
       "      <th></th>\n",
       "      <th>source</th>\n",
       "      <th>target</th>\n",
       "      <th>timestamp</th>\n",
       "    </tr>\n",
       "  </thead>\n",
       "  <tbody>\n",
       "    <tr>\n",
       "      <th>0</th>\n",
       "      <td>Your Best American Girl</td>\n",
       "      <td>Your Best American Girl</td>\n",
       "      <td>2019-02-20 12:28</td>\n",
       "    </tr>\n",
       "    <tr>\n",
       "      <th>1</th>\n",
       "      <td>Your Best American Girl</td>\n",
       "      <td>Your Best American Girl</td>\n",
       "      <td>2019-02-26 18:09</td>\n",
       "    </tr>\n",
       "    <tr>\n",
       "      <th>2</th>\n",
       "      <td>Your Best American Girl</td>\n",
       "      <td>LIKE HELL</td>\n",
       "      <td>2019-02-20 12:35</td>\n",
       "    </tr>\n",
       "    <tr>\n",
       "      <th>3</th>\n",
       "      <td>LIKE HELL</td>\n",
       "      <td>LIKE HELL</td>\n",
       "      <td>2019-02-25 13:25</td>\n",
       "    </tr>\n",
       "    <tr>\n",
       "      <th>4</th>\n",
       "      <td>LIKE HELL</td>\n",
       "      <td>LIKE HELL</td>\n",
       "      <td>2019-02-28 23:25</td>\n",
       "    </tr>\n",
       "    <tr>\n",
       "      <th>...</th>\n",
       "      <td>...</td>\n",
       "      <td>...</td>\n",
       "      <td>...</td>\n",
       "    </tr>\n",
       "    <tr>\n",
       "      <th>435</th>\n",
       "      <td>Abbey</td>\n",
       "      <td>I Walked</td>\n",
       "      <td>2019-03-05 22:44</td>\n",
       "    </tr>\n",
       "    <tr>\n",
       "      <th>436</th>\n",
       "      <td>I Walked</td>\n",
       "      <td>I Walked</td>\n",
       "      <td>2019-03-05 22:49</td>\n",
       "    </tr>\n",
       "    <tr>\n",
       "      <th>437</th>\n",
       "      <td>I Walked</td>\n",
       "      <td>Maxim's II</td>\n",
       "      <td>2019-03-05 23:32</td>\n",
       "    </tr>\n",
       "    <tr>\n",
       "      <th>438</th>\n",
       "      <td>Maxim's II</td>\n",
       "      <td>Maxim's II</td>\n",
       "      <td>2019-03-05 23:32</td>\n",
       "    </tr>\n",
       "    <tr>\n",
       "      <th>439</th>\n",
       "      <td>Maxim's II</td>\n",
       "      <td>Maxim's II</td>\n",
       "      <td>2019-03-05 23:38</td>\n",
       "    </tr>\n",
       "  </tbody>\n",
       "</table>\n",
       "<p>440 rows × 3 columns</p>\n",
       "</div>"
      ],
      "text/plain": [
       "                      source                   target         timestamp\n",
       "0    Your Best American Girl  Your Best American Girl  2019-02-20 12:28\n",
       "1    Your Best American Girl  Your Best American Girl  2019-02-26 18:09\n",
       "2    Your Best American Girl                LIKE HELL  2019-02-20 12:35\n",
       "3                  LIKE HELL                LIKE HELL  2019-02-25 13:25\n",
       "4                  LIKE HELL                LIKE HELL  2019-02-28 23:25\n",
       "..                       ...                      ...               ...\n",
       "435                    Abbey                 I Walked  2019-03-05 22:44\n",
       "436                 I Walked                 I Walked  2019-03-05 22:49\n",
       "437                 I Walked               Maxim's II  2019-03-05 23:32\n",
       "438               Maxim's II               Maxim's II  2019-03-05 23:32\n",
       "439               Maxim's II               Maxim's II  2019-03-05 23:38\n",
       "\n",
       "[440 rows x 3 columns]"
      ]
     },
     "metadata": {},
     "execution_count": 24
    }
   ],
   "metadata": {
    "scrolled": true
   }
  }
 ],
 "metadata": {
  "kernelspec": {
   "name": "python3",
   "display_name": "Python 3.8.10 64-bit ('venv')"
  },
  "language_info": {
   "codemirror_mode": {
    "name": "ipython",
    "version": 3
   },
   "file_extension": ".py",
   "mimetype": "text/x-python",
   "name": "python",
   "nbconvert_exporter": "python",
   "pygments_lexer": "ipython3",
   "version": "3.8.10"
  },
  "interpreter": {
   "hash": "a1b5e73f98ecc5046ac4ff6f8b5b285cd0127d9ded83ed20db3ab3b6bcfe82a1"
  }
 },
 "nbformat": 4,
 "nbformat_minor": 5
}
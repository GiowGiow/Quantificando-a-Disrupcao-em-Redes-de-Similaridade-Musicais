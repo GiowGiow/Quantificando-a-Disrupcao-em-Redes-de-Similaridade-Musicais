{
 "cells": [
  {
   "cell_type": "code",
   "execution_count": 5,
   "metadata": {},
   "outputs": [],
   "source": [
    "from sklearn.metrics.pairwise import rbf_kernel\n",
    "import numpy as np"
   ]
  },
  {
   "cell_type": "code",
   "execution_count": 6,
   "metadata": {},
   "outputs": [
    {
     "data": {
      "text/plain": [
       "128"
      ]
     },
     "execution_count": 6,
     "metadata": {},
     "output_type": "execute_result"
    }
   ],
   "source": [
    "matriz = np.matrix([[1, 2, 3, 4 ],\n",
    "                    [5, 6, 7, 8 ],\n",
    "                    [9,10,11,12],\n",
    "                    [9,10,11,11]])\n",
    "\n",
    "\n",
    "matriz.nbytes"
   ]
  },
  {
   "cell_type": "code",
   "execution_count": 17,
   "metadata": {},
   "outputs": [
    {
     "data": {
      "text/plain": [
       "matrix([[ 2,  3],\n",
       "        [ 6, 11]])"
      ]
     },
     "execution_count": 17,
     "metadata": {},
     "output_type": "execute_result"
    }
   ],
   "source": [
    "mat = np.matrix([[0,1],\n",
    "                 [2,3]])\n",
    "m = mat**2\n",
    "z = mat * mat\n",
    "\n",
    "m"
   ]
  },
  {
   "cell_type": "code",
   "execution_count": 13,
   "metadata": {},
   "outputs": [
    {
     "data": {
      "text/plain": [
       "matrix([[ 74,  84,  94, 100],\n",
       "        [170, 196, 222, 240],\n",
       "        [266, 308, 350, 380],\n",
       "        [257, 298, 339, 369]])"
      ]
     },
     "execution_count": 13,
     "metadata": {},
     "output_type": "execute_result"
    }
   ],
   "source": [
    "matriz ** 2"
   ]
  },
  {
   "cell_type": "code",
   "execution_count": 48,
   "metadata": {},
   "outputs": [
    {
     "data": {
      "text/plain": [
       "array([[1.        , 0.938005  , 0.77414197, 0.78584163],\n",
       "       [0.938005  , 1.        , 0.938005  , 0.94459407],\n",
       "       [0.77414197, 0.938005  , 1.        , 0.9990005 ],\n",
       "       [0.78584163, 0.94459407, 0.9990005 , 1.        ]])"
      ]
     },
     "execution_count": 48,
     "metadata": {},
     "output_type": "execute_result"
    }
   ],
   "source": [
    "result = rbf_kernel(matriz, gamma=0.001)\n",
    "result"
   ]
  },
  {
   "cell_type": "code",
   "execution_count": 49,
   "metadata": {},
   "outputs": [
    {
     "data": {
      "text/plain": [
       "128"
      ]
     },
     "execution_count": 49,
     "metadata": {},
     "output_type": "execute_result"
    }
   ],
   "source": [
    "# Tamanho da matriz:\n",
    "mem_size = result.nbytes\n",
    "mem_size"
   ]
  },
  {
   "cell_type": "markdown",
   "metadata": {},
   "source": [
    "### Tentando implementar o rbf kernel na mão...\n"
   ]
  },
  {
   "cell_type": "code",
   "execution_count": 36,
   "metadata": {},
   "outputs": [],
   "source": [
    "def rbf_kernel(X, Y=None, gamma=None):\n",
    "    \"\"\"\n",
    "    Compute the rbf (gaussian) kernel between X and Y::\n",
    "\n",
    "        K(x, y) = exp(-gamma ||x-y||^2)\n",
    "\n",
    "    for each pair of rows x in X and y in Y.\n",
    "\n",
    "    Read more in the :ref:`User Guide <rbf_kernel>`.\n",
    "\n",
    "    Parameters\n",
    "    ----------\n",
    "    X : array of shape (n_samples_X, n_features)\n",
    "\n",
    "    Y : array of shape (n_samples_Y, n_features)\n",
    "\n",
    "    gamma : float, default None\n",
    "        If None, defaults to 1.0 / n_features\n",
    "\n",
    "    Returns\n",
    "    -------\n",
    "    kernel_matrix : array of shape (n_samples_X, n_samples_Y)\n",
    "    \"\"\"\n",
    "    X, Y = check_pairwise_arrays(X, Y)\n",
    "    if gamma is None:\n",
    "        gamma = 1.0 / X.shape[1]\n",
    "\n",
    "    K = euclidean_distances(X, Y, squared=True)\n",
    "    K *= -gamma\n",
    "    np.exp(K, K)  # exponentiate K in-place\n",
    "    return K\n"
   ]
  },
  {
   "cell_type": "code",
   "execution_count": null,
   "metadata": {},
   "outputs": [],
   "source": []
  }
 ],
 "metadata": {
  "kernelspec": {
   "display_name": "Python 3",
   "language": "python",
   "name": "python3"
  },
  "language_info": {
   "codemirror_mode": {
    "name": "ipython",
    "version": 3
   },
   "file_extension": ".py",
   "mimetype": "text/x-python",
   "name": "python",
   "nbconvert_exporter": "python",
   "pygments_lexer": "ipython3",
   "version": "3.8.5"
  }
 },
 "nbformat": 4,
 "nbformat_minor": 2
}

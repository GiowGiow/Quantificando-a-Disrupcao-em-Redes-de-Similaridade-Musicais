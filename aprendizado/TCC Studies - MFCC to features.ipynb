{
 "cells": [
  {
   "cell_type": "markdown",
   "metadata": {},
   "source": [
    "# Transfer learning feature compactation\n",
    "The objetive is understand how an mfcc is compacted to a feature vector"
   ]
  },
  {
   "cell_type": "code",
   "execution_count": null,
   "metadata": {},
   "outputs": [],
   "source": [
    "# It means it will be 20 mfccs, in the example below it is over 97 frames\n",
    "mfcc = librosa.feature.mfcc(src, SR, n_mfcc=20) # shape = (20, 97) \n",
    "\n",
    "dmfcc = mfcc[:, 1:] - mfcc[:, :-1]\n",
    "ddmfcc = dmfcc[:, 1:] - dmfcc[:, :-1]\n",
    "return np.concatenate(\n",
    "                        (np.mean(mfcc, axis=1  ), # to take the mean of each row\n",
    "                         np.std(mfcc, axis=1   ), # to take the std deviation of each row\n",
    "                         np.mean(dmfcc, axis=1 ), # to take the std mean of the dmfcc on each row\n",
    "                         np.std(dmfcc, axis=1  ),\n",
    "                         np.mean(ddmfcc, axis=1), \n",
    "                         np.std(ddmfcc, axis=1))\n",
    "                          , axis=0\n",
    "                        )\n",
    "                    )\n"
   ]
  },
  {
   "cell_type": "code",
   "execution_count": 2,
   "metadata": {},
   "outputs": [],
   "source": [
    "import librosa\n",
    "import librosa.display\n",
    "import numpy as np"
   ]
  },
  {
   "cell_type": "code",
   "execution_count": 3,
   "metadata": {},
   "outputs": [
    {
     "data": {
      "text/plain": [
       "<matplotlib.collections.PolyCollection at 0x7fc9ecdfe5f8>"
      ]
     },
     "execution_count": 3,
     "metadata": {},
     "output_type": "execute_result"
    }
   ],
   "source": [
    "x, fs = librosa.load('audio_simple_loop.wav')\n",
    "librosa.display.waveplot(x, sr=fs)"
   ]
  },
  {
   "cell_type": "code",
   "execution_count": 5,
   "metadata": {},
   "outputs": [
    {
     "name": "stdout",
     "output_type": "stream",
     "text": [
      "(20, 97)\n"
     ]
    }
   ],
   "source": [
    "mfcc = librosa.feature.mfcc(x, sr=fs)\n",
    "print(mfcc.shape)"
   ]
  },
  {
   "cell_type": "code",
   "execution_count": 6,
   "metadata": {},
   "outputs": [],
   "source": [
    "def mfcc_to_feature(mfcc):\n",
    "    dmfcc = mfcc[:, 1:] - mfcc[:, :-1] # ignore the first mfcc that does not convey info\n",
    "    ddmfcc = dmfcc[:, 1:] - dmfcc[:, :-1]\n",
    "    return np.concatenate((np.mean(mfcc, axis=1), np.std(mfcc, axis=1),\n",
    "                           np.mean(dmfcc, axis=1), np.std(dmfcc, axis=1),\n",
    "                           np.mean(ddmfcc, axis=1), np.std(ddmfcc, axis=1))\n",
    "                          , axis=0)"
   ]
  },
  {
   "cell_type": "code",
   "execution_count": 7,
   "metadata": {},
   "outputs": [
    {
     "data": {
      "text/plain": [
       "(120,)"
      ]
     },
     "execution_count": 7,
     "metadata": {},
     "output_type": "execute_result"
    }
   ],
   "source": [
    "res = mfcc_to_feature(mfcc)\n",
    "res.shape"
   ]
  },
  {
   "cell_type": "code",
   "execution_count": 17,
   "metadata": {},
   "outputs": [
    {
     "name": "stdout",
     "output_type": "stream",
     "text": [
      "[[1 2 3]\n",
      " [4 5 6]\n",
      " [7 8 9]]\n",
      "[[2 3]\n",
      " [5 6]\n",
      " [8 9]]\n",
      "[[1 2]\n",
      " [4 5]\n",
      " [7 8]]\n"
     ]
    },
    {
     "data": {
      "text/plain": [
       "matrix([[1, 1],\n",
       "        [1, 1],\n",
       "        [1, 1]])"
      ]
     },
     "execution_count": 17,
     "metadata": {},
     "output_type": "execute_result"
    }
   ],
   "source": [
    "# I wanna understand how this matrix operation works\n",
    "mat_example = [[1,2,3],\n",
    "               [4,5,6],\n",
    "               [7,8,9]]\n",
    "\n",
    "mat_example = np.matrix(mat_example)\n",
    "print(mat_example)\n",
    "\n",
    "slice_mat1 = mat_example[:, 1:]\n",
    "print(slice_mat1)\n",
    "\n",
    "slice_mat2 = mat_example[:, :-1]\n",
    "print(slice_mat2)\n",
    "\n",
    "dmat_example = mat_example[:, 1:] - mat_example[:, :-1]\n",
    "dmat_example"
   ]
  }
 ],
 "metadata": {
  "kernelspec": {
   "display_name": "Python 3",
   "language": "python",
   "name": "python3"
  },
  "language_info": {
   "codemirror_mode": {
    "name": "ipython",
    "version": 3
   },
   "file_extension": ".py",
   "mimetype": "text/x-python",
   "name": "python",
   "nbconvert_exporter": "python",
   "pygments_lexer": "ipython3",
   "version": "3.8.5"
  }
 },
 "nbformat": 4,
 "nbformat_minor": 2
}

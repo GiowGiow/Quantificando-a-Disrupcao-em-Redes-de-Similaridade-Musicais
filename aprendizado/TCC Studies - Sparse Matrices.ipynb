{
 "cells": [
  {
   "cell_type": "markdown",
   "metadata": {},
   "source": [
    "# TCC Studies: Sparse Matrices\n"
   ]
  },
  {
   "cell_type": "code",
   "execution_count": 10,
   "metadata": {},
   "outputs": [],
   "source": [
    "from numpy import array, count_nonzero\n",
    "from scipy.sparse import csr_matrix"
   ]
  },
  {
   "cell_type": "markdown",
   "metadata": {},
   "source": [
    "### Dense to sparse\n",
    "\n",
    "A sparse matrix is a matrix that is comprised of mostly zero values.\n",
    "Sparse matrices are distinct from matrices with mostly non-zero values, which are referred to as dense matrices.\n",
    "Can lead to enormous computational savings and because many large matrix problems that occur in practice are sparse\n",
    "Very large matrices require a lot of memory, and some very large matrices that we wish to work with are sparse.\n",
    "In practice, most large matrices are sparse — almost all entries are zeros"
   ]
  },
  {
   "cell_type": "markdown",
   "metadata": {},
   "source": [
    "### Working with Sparse Matrices\n",
    "\n",
    "The solution to representing and working with sparse matrices is to use an alternate data structure to represent the sparse data.\n",
    "The zero values can be ignored and only the data or non-zero values in the sparse matrix need to be stored or acted upon.\n"
   ]
  },
  {
   "cell_type": "markdown",
   "metadata": {},
   "source": [
    "There are multiple data structures that can be used to efficiently construct a sparse matrix; three common examples are listed below.\n",
    "- **Dictionary of Keys**. A dictionary is used where a row and column index is mapped to a value.\n",
    "- **List of Lists**. Each row of the matrix is stored as a list, with each sublist containing the column index and the value.\n",
    "- **Coordinate List**. A list of tuples is stored with each tuple containing the row index, column index, and the value.\n",
    "\n",
    "There are also data structures that are more suitable for performing efficient operations; two commonly used examples are listed below.\n",
    "- **Compressed Sparse Row**. The sparse matrix is represented using three one-dimensional arrays for the non-zero values, the extents of the rows, and the column indexes.\n",
    "- **Compressed Sparse Column**. The same as the Compressed Sparse Row method except the column indices are compressed and read first before the row indices."
   ]
  },
  {
   "cell_type": "code",
   "execution_count": 13,
   "metadata": {},
   "outputs": [
    {
     "data": {
      "text/plain": [
       "array([[1, 0, 0, 1, 0, 0],\n",
       "       [0, 0, 2, 0, 0, 1],\n",
       "       [0, 0, 0, 2, 0, 0]])"
      ]
     },
     "execution_count": 13,
     "metadata": {},
     "output_type": "execute_result"
    }
   ],
   "source": [
    "# Create dense matrix\n",
    "A = array([[1, 0, 0, 1, 0, 0], [0, 0, 2, 0, 0, 1], [0, 0, 0, 2, 0, 0]])\n",
    "A"
   ]
  },
  {
   "cell_type": "code",
   "execution_count": 14,
   "metadata": {},
   "outputs": [
    {
     "name": "stdout",
     "output_type": "stream",
     "text": [
      "  (0, 0)\t1\n",
      "  (0, 3)\t1\n",
      "  (1, 2)\t2\n",
      "  (1, 5)\t1\n",
      "  (2, 3)\t2\n"
     ]
    }
   ],
   "source": [
    "# Convert to sparse matrix (CSR method)\n",
    "S = csr_matrix(A)\n",
    "print(S)"
   ]
  },
  {
   "cell_type": "code",
   "execution_count": 15,
   "metadata": {},
   "outputs": [
    {
     "data": {
      "text/plain": [
       "matrix([[1, 0, 0, 1, 0, 0],\n",
       "        [0, 0, 2, 0, 0, 1],\n",
       "        [0, 0, 0, 2, 0, 0]])"
      ]
     },
     "execution_count": 15,
     "metadata": {},
     "output_type": "execute_result"
    }
   ],
   "source": [
    "# Reconstruct dense matrix\n",
    "B = S.todense()\n",
    "B"
   ]
  },
  {
   "cell_type": "markdown",
   "metadata": {},
   "source": [
    "NumPy does not provide a function to calculate the sparsity of a matrix.\n",
    "\n",
    "Nevertheless, we can calculate it easily by first finding the density of the matrix and subtracting it from one. The number of non-zero elements in a NumPy array can be given by the count_nonzero() function and the total number of elements in the array can be given by the size property of the array. Array sparsity can therefore be calculated as"
   ]
  },
  {
   "cell_type": "code",
   "execution_count": 16,
   "metadata": {},
   "outputs": [
    {
     "data": {
      "text/plain": [
       "0.7222222222222222"
      ]
     },
     "execution_count": 16,
     "metadata": {},
     "output_type": "execute_result"
    }
   ],
   "source": [
    "sparsity = 1.0 - count_nonzero(A) / A.size\n",
    "sparsity"
   ]
  }
 ],
 "metadata": {
  "kernelspec": {
   "display_name": "Python 3",
   "language": "python",
   "name": "python3"
  },
  "language_info": {
   "codemirror_mode": {
    "name": "ipython",
    "version": 3
   },
   "file_extension": ".py",
   "mimetype": "text/x-python",
   "name": "python",
   "nbconvert_exporter": "python",
   "pygments_lexer": "ipython3",
   "version": "3.6.9"
  }
 },
 "nbformat": 4,
 "nbformat_minor": 2
}

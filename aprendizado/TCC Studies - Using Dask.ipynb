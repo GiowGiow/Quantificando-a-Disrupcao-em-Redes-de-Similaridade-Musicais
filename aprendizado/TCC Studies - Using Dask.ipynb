{
 "cells": [
  {
   "cell_type": "code",
   "execution_count": 1,
   "metadata": {},
   "outputs": [],
   "source": [
    "import dask\n",
    "import h5py\n",
    "\n",
    "import numpy as np\n",
    "import dask.array as da\n",
    "\n",
    "import memory_profiler\n",
    "from dask.diagnostics import ProgressBar\n",
    "%load_ext memory_profiler"
   ]
  },
  {
   "cell_type": "code",
   "execution_count": 2,
   "metadata": {},
   "outputs": [],
   "source": [
    "def vectorized_RBF_kernel(X, sigma):\n",
    "    # % This is equivalent to computing the kernel on every pair of examples\n",
    "    X2 = np.sum(np.multiply(X, X), 1) # sum colums of the matrix\n",
    "    K0 = X2 + X2.T - 2 * X * X.T\n",
    "    K = np.power(np.exp(-1.0 / sigma ** 2), K0)\n",
    "    return K\n",
    "\n",
    "def vectorized_RBF_kernel2(X, sigma):\n",
    "    # % This is equivalent to computing the kernel on every pair of examples\n",
    "    X2 = np.sum(np.multiply(X, X), 1) # sum colums of the matrix\n",
    "    K0 = X2 + X2.T - 2 * X.dot(X.T) \n",
    "    print(K0)\n",
    "    K = np.power(np.exp(-1.0 / sigma ** 2), K0)\n",
    "    return K"
   ]
  },
  {
   "cell_type": "code",
   "execution_count": 3,
   "metadata": {},
   "outputs": [],
   "source": [
    "def load_features_from_file(path):\n",
    "    with open(path, 'r') as features_file:\n",
    "        return [[float(feature) for feature in feature_set.split()] for feature_set in features_file.readlines()]"
   ]
  },
  {
   "cell_type": "code",
   "execution_count": 4,
   "metadata": {},
   "outputs": [],
   "source": [
    "def read_hdf5_from_file(file, path):\n",
    "    f = h5py.File(file)     # HDF5 file\n",
    "    return f[path]          # Pointer on on-disk array"
   ]
  },
  {
   "cell_type": "code",
   "execution_count": 5,
   "metadata": {},
   "outputs": [],
   "source": [
    "features_matrix = np.matrix(load_features_from_file(\n",
    "    '../../dataset/condensed_features/all_features-music4all.txt'\n",
    "    ))"
   ]
  },
  {
   "cell_type": "code",
   "execution_count": 6,
   "metadata": {},
   "outputs": [
    {
     "data": {
      "text/plain": [
       "(400, 120)"
      ]
     },
     "execution_count": 6,
     "metadata": {},
     "output_type": "execute_result"
    }
   ],
   "source": [
    "features_matrix_slice = features_matrix[:400]\n",
    "features_matrix_slice.shape"
   ]
  },
  {
   "cell_type": "code",
   "execution_count": 7,
   "metadata": {
    "scrolled": true
   },
   "outputs": [
    {
     "name": "stdout",
     "output_type": "stream",
     "text": [
      "[[-7.27595761e-12  4.36420881e+04  1.34811375e+04 ...  6.06565623e+03\n",
      "   4.17865990e+03  5.86061907e+04]\n",
      " [ 4.36420881e+04  2.91038305e-11  3.02426916e+04 ...  4.42278724e+04\n",
      "   3.13091022e+04  9.56625761e+03]\n",
      " [ 1.34811375e+04  3.02426916e+04  0.00000000e+00 ...  1.77228353e+04\n",
      "   7.90285750e+03  4.19229694e+04]\n",
      " ...\n",
      " [ 6.06565623e+03  4.42278724e+04  1.77228353e+04 ... -3.63797881e-11\n",
      "   1.09344929e+04  6.16629751e+04]\n",
      " [ 4.17865990e+03  3.13091022e+04  7.90285750e+03 ...  1.09344929e+04\n",
      "  -7.27595761e-12  4.08263440e+04]\n",
      " [ 5.86061907e+04  9.56625761e+03  4.19229694e+04 ...  6.16629751e+04\n",
      "   4.08263440e+04  8.73114914e-11]]\n"
     ]
    },
    {
     "data": {
      "text/plain": [
       "matrix([[1.        , 0.        , 0.        , ..., 0.        , 0.        ,\n",
       "         0.        ],\n",
       "        [0.        , 1.        , 0.        , ..., 0.        , 0.        ,\n",
       "         0.        ],\n",
       "        [0.        , 0.        , 1.        , ..., 0.        , 0.        ,\n",
       "         0.        ],\n",
       "        ...,\n",
       "        [0.        , 0.        , 0.        , ..., 1.        , 0.        ,\n",
       "         0.        ],\n",
       "        [0.        , 0.        , 0.        , ..., 0.        , 1.        ,\n",
       "         0.        ],\n",
       "        [0.        , 0.        , 0.        , ..., 0.        , 0.        ,\n",
       "         0.99999999]])"
      ]
     },
     "execution_count": 7,
     "metadata": {},
     "output_type": "execute_result"
    }
   ],
   "source": [
    "vectorized_RBF_kernel2(features_matrix_slice, 0.1)"
   ]
  },
  {
   "cell_type": "code",
   "execution_count": 8,
   "metadata": {},
   "outputs": [
    {
     "data": {
      "text/plain": [
       "matrix([[1.        , 0.        , 0.        , ..., 0.        , 0.        ,\n",
       "         0.        ],\n",
       "        [0.        , 1.        , 0.        , ..., 0.        , 0.        ,\n",
       "         0.        ],\n",
       "        [0.        , 0.        , 1.        , ..., 0.        , 0.        ,\n",
       "         0.        ],\n",
       "        ...,\n",
       "        [0.        , 0.        , 0.        , ..., 1.        , 0.        ,\n",
       "         0.        ],\n",
       "        [0.        , 0.        , 0.        , ..., 0.        , 1.        ,\n",
       "         0.        ],\n",
       "        [0.        , 0.        , 0.        , ..., 0.        , 0.        ,\n",
       "         0.99999999]])"
      ]
     },
     "execution_count": 8,
     "metadata": {},
     "output_type": "execute_result"
    }
   ],
   "source": [
    "vectorized_RBF_kernel(features_matrix_slice, 0.1)"
   ]
  },
  {
   "cell_type": "code",
   "execution_count": 9,
   "metadata": {
    "scrolled": false
   },
   "outputs": [
    {
     "data": {
      "text/plain": [
       "(109269, 120)"
      ]
     },
     "execution_count": 9,
     "metadata": {},
     "output_type": "execute_result"
    }
   ],
   "source": [
    "X = features_matrix\n",
    "X.shape"
   ]
  },
  {
   "cell_type": "code",
   "execution_count": 10,
   "metadata": {},
   "outputs": [],
   "source": [
    "!rm *.hdf5"
   ]
  },
  {
   "cell_type": "code",
   "execution_count": 11,
   "metadata": {
    "scrolled": false
   },
   "outputs": [
    {
     "name": "stdout",
     "output_type": "stream",
     "text": [
      "Making X2\n",
      "Making K0\n",
      "[                                        ] | 0% Completed |  0.0s"
     ]
    },
    {
     "name": "stderr",
     "output_type": "stream",
     "text": [
      "/home/giovanni-server/dev/college/TCC/venv/lib/python3.8/site-packages/dask/array/core.py:4292: PerformanceWarning: Increasing number of chunks by factor of 11\n",
      "  result = blockwise(\n"
     ]
    },
    {
     "name": "stdout",
     "output_type": "stream",
     "text": [
      "[########################################] | 100% Completed | 13min 30.9s\n"
     ]
    },
    {
     "name": "stderr",
     "output_type": "stream",
     "text": [
      "/home/giovanni-server/dev/college/TCC/venv/lib/python3.8/site-packages/dask/array/routines.py:255: PerformanceWarning: Increasing number of chunks by factor of 11\n",
      "  intermediate = blockwise(\n"
     ]
    },
    {
     "name": "stdout",
     "output_type": "stream",
     "text": [
      "[########################################] | 100% Completed | 16min 52.5s\n",
      "[########################################] | 100% Completed | 46min 14.1s\n",
      "Making K\n",
      "[########################################] | 100% Completed | 25min 25.2s\n"
     ]
    }
   ],
   "source": [
    "sigma = 0.1\n",
    "with ProgressBar():\n",
    "    print(\"Making X2\")\n",
    "    # X2 = np.sum(np.multiply(X, X), 1) # sum colums of the matrix\n",
    "    X2 = np.sum(np.multiply(X,X), 1)\n",
    "    X2_da = da.from_array(X2, chunks=(10000,10000))\n",
    "    X_da = da.from_array(X,   chunks=(10000,10000))\n",
    "\n",
    "    print(\"Making K0\")\n",
    "    # K0 = X2 + X2.T - 2 * X * X.T\n",
    "    da.to_hdf5(\"K0_part1.hdf5\", \"/data\", X2_da + X2_da.T)\n",
    "    da.to_hdf5(\"K0_part2.hdf5\", \"/data\", -2 * X_da.dot(X_da.T))\n",
    "\n",
    "    # abre esses dois arquivos\n",
    "    K0_part1_file = read_hdf5_from_file(\"K0_part1.hdf5\", \"/data\")\n",
    "    K0_part2_file = read_hdf5_from_file(\"K0_part2.hdf5\", \"/data\")\n",
    "    \n",
    "    # le eles como chunks\n",
    "    K0_dask1 = da.from_array(K0_part1_file, chunks=(10000, 10000))\n",
    "    K0_dask2 = da.from_array(K0_part2_file, chunks=(10000, 10000))\n",
    "    \n",
    "    # Exporta a soma deles\n",
    "    da.to_hdf5(\"K_0.hdf5\", \"/data\", K0_dask1 + K0_dask2)\n",
    "    \n",
    "    K0_file = read_hdf5_from_file(\"K_0.hdf5\", \"/data\")\n",
    "    K0_dask = da.from_array(K0_file, chunks=(10000, 10000))\n",
    "    \n",
    "    print(\"Making K\")\n",
    "    # K = np.power(np.exp(-1.0 / sigma ** 2), K0)\n",
    "    da.to_hdf5(\"K.hdf5\", \"/data\", da.power(da.exp(-1.0/sigma ** 2), K0_dask))    "
   ]
  },
  {
   "cell_type": "code",
   "execution_count": 2,
   "metadata": {},
   "outputs": [
    {
     "data": {
      "text/plain": [
       "(109269, 109269)"
      ]
     },
     "execution_count": 2,
     "metadata": {},
     "output_type": "execute_result"
    }
   ],
   "source": [
    "f = h5py.File('K.hdf5') # HDF5 file\n",
    "d = f['/data']          # Pointer on on-disk array\n",
    "d.shape                 # d can be very large"
   ]
  },
  {
   "cell_type": "code",
   "execution_count": 3,
   "metadata": {
    "scrolled": true
   },
   "outputs": [
    {
     "data": {
      "text/html": [
       "<table>\n",
       "<tr>\n",
       "<td>\n",
       "<table>\n",
       "  <thead>\n",
       "    <tr><td> </td><th> Array </th><th> Chunk </th></tr>\n",
       "  </thead>\n",
       "  <tbody>\n",
       "    <tr><th> Bytes </th><td> 95.52 GB </td> <td> 800.00 MB </td></tr>\n",
       "    <tr><th> Shape </th><td> (109269, 109269) </td> <td> (10000, 10000) </td></tr>\n",
       "    <tr><th> Count </th><td> 122 Tasks </td><td> 121 Chunks </td></tr>\n",
       "    <tr><th> Type </th><td> float64 </td><td> numpy.ndarray </td></tr>\n",
       "  </tbody>\n",
       "</table>\n",
       "</td>\n",
       "<td>\n",
       "<svg width=\"170\" height=\"170\" style=\"stroke:rgb(0,0,0);stroke-width:1\" >\n",
       "\n",
       "  <!-- Horizontal lines -->\n",
       "  <line x1=\"0\" y1=\"0\" x2=\"120\" y2=\"0\" style=\"stroke-width:2\" />\n",
       "  <line x1=\"0\" y1=\"10\" x2=\"120\" y2=\"10\" />\n",
       "  <line x1=\"0\" y1=\"21\" x2=\"120\" y2=\"21\" />\n",
       "  <line x1=\"0\" y1=\"32\" x2=\"120\" y2=\"32\" />\n",
       "  <line x1=\"0\" y1=\"43\" x2=\"120\" y2=\"43\" />\n",
       "  <line x1=\"0\" y1=\"54\" x2=\"120\" y2=\"54\" />\n",
       "  <line x1=\"0\" y1=\"65\" x2=\"120\" y2=\"65\" />\n",
       "  <line x1=\"0\" y1=\"76\" x2=\"120\" y2=\"76\" />\n",
       "  <line x1=\"0\" y1=\"87\" x2=\"120\" y2=\"87\" />\n",
       "  <line x1=\"0\" y1=\"98\" x2=\"120\" y2=\"98\" />\n",
       "  <line x1=\"0\" y1=\"109\" x2=\"120\" y2=\"109\" />\n",
       "  <line x1=\"0\" y1=\"120\" x2=\"120\" y2=\"120\" style=\"stroke-width:2\" />\n",
       "\n",
       "  <!-- Vertical lines -->\n",
       "  <line x1=\"0\" y1=\"0\" x2=\"0\" y2=\"120\" style=\"stroke-width:2\" />\n",
       "  <line x1=\"10\" y1=\"0\" x2=\"10\" y2=\"120\" />\n",
       "  <line x1=\"21\" y1=\"0\" x2=\"21\" y2=\"120\" />\n",
       "  <line x1=\"32\" y1=\"0\" x2=\"32\" y2=\"120\" />\n",
       "  <line x1=\"43\" y1=\"0\" x2=\"43\" y2=\"120\" />\n",
       "  <line x1=\"54\" y1=\"0\" x2=\"54\" y2=\"120\" />\n",
       "  <line x1=\"65\" y1=\"0\" x2=\"65\" y2=\"120\" />\n",
       "  <line x1=\"76\" y1=\"0\" x2=\"76\" y2=\"120\" />\n",
       "  <line x1=\"87\" y1=\"0\" x2=\"87\" y2=\"120\" />\n",
       "  <line x1=\"98\" y1=\"0\" x2=\"98\" y2=\"120\" />\n",
       "  <line x1=\"109\" y1=\"0\" x2=\"109\" y2=\"120\" />\n",
       "  <line x1=\"120\" y1=\"0\" x2=\"120\" y2=\"120\" style=\"stroke-width:2\" />\n",
       "\n",
       "  <!-- Colored Rectangle -->\n",
       "  <polygon points=\"0.0,0.0 120.0,0.0 120.0,120.0 0.0,120.0\" style=\"fill:#ECB172A0;stroke-width:0\"/>\n",
       "\n",
       "  <!-- Text -->\n",
       "  <text x=\"60.000000\" y=\"140.000000\" font-size=\"1.0rem\" font-weight=\"100\" text-anchor=\"middle\" >109269</text>\n",
       "  <text x=\"140.000000\" y=\"60.000000\" font-size=\"1.0rem\" font-weight=\"100\" text-anchor=\"middle\" transform=\"rotate(-90,140.000000,60.000000)\">109269</text>\n",
       "</svg>\n",
       "</td>\n",
       "</tr>\n",
       "</table>"
      ],
      "text/plain": [
       "dask.array<array, shape=(109269, 109269), dtype=float64, chunksize=(10000, 10000), chunktype=numpy.ndarray>"
      ]
     },
     "execution_count": 3,
     "metadata": {},
     "output_type": "execute_result"
    }
   ],
   "source": [
    "x = da.from_array(d, chunks=(10000, 10000))\n",
    "x"
   ]
  },
  {
   "cell_type": "code",
   "execution_count": 9,
   "metadata": {},
   "outputs": [
    {
     "name": "stdout",
     "output_type": "stream",
     "text": [
      "(10, 109269)\n"
     ]
    }
   ],
   "source": [
    "print(x[:10].shape)"
   ]
  },
  {
   "cell_type": "code",
   "execution_count": 16,
   "metadata": {},
   "outputs": [
    {
     "name": "stdout",
     "output_type": "stream",
     "text": [
      "11939595562\n"
     ]
    }
   ],
   "source": [
    "y = da.count_nonzero(x==0)\n",
    "print(y.compute())"
   ]
  },
  {
   "cell_type": "code",
   "execution_count": null,
   "metadata": {},
   "outputs": [],
   "source": []
  }
 ],
 "metadata": {
  "kernelspec": {
   "display_name": "Python 3",
   "language": "python",
   "name": "python3"
  },
  "language_info": {
   "codemirror_mode": {
    "name": "ipython",
    "version": 3
   },
   "file_extension": ".py",
   "mimetype": "text/x-python",
   "name": "python",
   "nbconvert_exporter": "python",
   "pygments_lexer": "ipython3",
   "version": "3.8.5"
  }
 },
 "nbformat": 4,
 "nbformat_minor": 2
}

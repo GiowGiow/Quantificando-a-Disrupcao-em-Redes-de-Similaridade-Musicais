{
 "cells": [
  {
   "cell_type": "markdown",
   "metadata": {},
   "source": [
    "## Studying Higher Order Networks\n",
    "\n",
    "Here I hope to study examples using higher order networks"
   ]
  },
  {
   "cell_type": "code",
   "execution_count": 1,
   "metadata": {},
   "outputs": [
    {
     "output_type": "stream",
     "name": "stdout",
     "text": [
      "Total path count: \t\t1.0 \n[Unique / Sub paths / Total]: \t[1.0 / 5.0 / 6.0]\nNodes:\t\t\t\t3 \nEdges:\t\t\t\t2\nMax. path length:\t\t2\nAvg path length:\t\t2.0 \nPaths of length k = 0\t\t0.0 [ 0.0 / 3.0 / 3.0 ]\nPaths of length k = 1\t\t0.0 [ 0.0 / 2.0 / 2.0 ]\nPaths of length k = 2\t\t1.0 [ 1.0 / 0.0 / 1.0 ]\n\n"
     ]
    }
   ],
   "source": [
    "#%%\n",
    "import pathpy as pp\n",
    "paths = pp.Paths()\n",
    "paths.add_path('a,b,c')\n",
    "#%%\n",
    "print(paths)"
   ]
  },
  {
   "cell_type": "code",
   "execution_count": null,
   "metadata": {},
   "outputs": [],
   "source": []
  }
 ],
 "metadata": {
  "kernelspec": {
   "display_name": "venv",
   "language": "python",
   "name": "venv"
  },
  "language_info": {
   "codemirror_mode": {
    "name": "ipython",
    "version": 3
   },
   "file_extension": ".py",
   "mimetype": "text/x-python",
   "name": "python",
   "nbconvert_exporter": "python",
   "pygments_lexer": "ipython3",
   "version": "3.8.5"
  }
 },
 "nbformat": 4,
 "nbformat_minor": 4
}
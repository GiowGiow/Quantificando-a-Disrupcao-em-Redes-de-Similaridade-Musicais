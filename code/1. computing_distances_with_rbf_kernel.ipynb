{
 "cells": [
  {
   "cell_type": "markdown",
   "source": [
    "# Computing distances with RBF Kernel"
   ],
   "metadata": {}
  },
  {
   "cell_type": "markdown",
   "source": [
    "### This are the steps to calculate the disruption:\n",
    "1. Extract the feature representation of the audio\n",
    "2. Calculate the \"distance\" for each song against any other song and store this result (in a matrix)\n",
    "3. Use this \"distance\" or \"similarity\" matrix to build the network\n",
    "\n",
    "As the dataset is too big to use in its entirety, we use 1/3 of it (as it is the limit I can use to compute)\n",
    "\n",
    "Ps. When visualizing in EDA it seems that the cut dataset still is a good representation of the complete dataset"
   ],
   "metadata": {}
  },
  {
   "cell_type": "markdown",
   "source": [
    "### Loading dataset\n",
    "\n",
    "The first step is to load the dataset"
   ],
   "metadata": {}
  },
  {
   "cell_type": "code",
   "execution_count": 2,
   "source": [
    "import numpy as np\n",
    "import pandas as pd\n",
    "from tqdm import tqdm\n",
    "import matplotlib.pyplot as plt\n",
    "from pathlib import Path"
   ],
   "outputs": [],
   "metadata": {}
  },
  {
   "cell_type": "markdown",
   "source": [
    "This treated dataset contains the id, artists, song, album name, genres list, popularity, release and duration of each song"
   ],
   "metadata": {}
  },
  {
   "cell_type": "code",
   "execution_count": 3,
   "source": [
    "DATASETS_FOLDER = Path(\"./dataset\")\n",
    "DATAFRAME_PATH = DATASETS_FOLDER / \"input\" / \"csvs\"\n",
    "DF_FILENAME = \"song_info_release_dataset_29986_entries_filtered.csv\"\n",
    "\n",
    "dataframe = pd.read_csv(DATAFRAME_PATH / DF_FILENAME)\n",
    "print(f\"columns: {dataframe.columns}\\nsize: {len(dataframe)}\")"
   ],
   "outputs": [
    {
     "output_type": "stream",
     "name": "stdout",
     "text": [
      "columns: Index(['id', 'artist', 'song', 'album_name', 'genres', 'popularity', 'release',\n",
      "       'duration_ms'],\n",
      "      dtype='object')\n",
      "size: 29986\n"
     ]
    }
   ],
   "metadata": {}
  },
  {
   "cell_type": "markdown",
   "source": [
    "To work with our dataframe a good practice is to make a copy of it so we do not modify the original one"
   ],
   "metadata": {}
  },
  {
   "cell_type": "code",
   "execution_count": 4,
   "source": [
    "# Copy the dataframe\n",
    "working_dataframe = dataframe.copy(deep=True)"
   ],
   "outputs": [],
   "metadata": {}
  },
  {
   "cell_type": "markdown",
   "source": [
    "We'll have to fix some wrong release dates before we work with this dataset"
   ],
   "metadata": {}
  },
  {
   "cell_type": "code",
   "execution_count": 5,
   "source": [
    "# Los Espiritus album was released in 2013\n",
    "working_dataframe['release'].replace(1013, 2013, inplace=True)\n",
    "# Bukka White - Parchman Farm Blues was released in 1940\n",
    "working_dataframe['release'].replace(1899, 1940, inplace=True)\n",
    "# Sidney Polak\tOtwieram Wino - feat. Pezet according to amazon was released in 2018\n",
    "working_dataframe['release'].replace(1900, 2018, inplace=True)"
   ],
   "outputs": [],
   "metadata": {}
  },
  {
   "cell_type": "code",
   "execution_count": 6,
   "source": [
    "# Sort the dataframe by release date (as this is going to be important when generating the similarity matrix)\n",
    "dataframe_sorted = working_dataframe.sort_values(by=['release'])\n",
    "dataframe_sorted.head()"
   ],
   "outputs": [
    {
     "output_type": "execute_result",
     "data": {
      "text/html": [
       "<div>\n",
       "<style scoped>\n",
       "    .dataframe tbody tr th:only-of-type {\n",
       "        vertical-align: middle;\n",
       "    }\n",
       "\n",
       "    .dataframe tbody tr th {\n",
       "        vertical-align: top;\n",
       "    }\n",
       "\n",
       "    .dataframe thead th {\n",
       "        text-align: right;\n",
       "    }\n",
       "</style>\n",
       "<table border=\"1\" class=\"dataframe\">\n",
       "  <thead>\n",
       "    <tr style=\"text-align: right;\">\n",
       "      <th></th>\n",
       "      <th>id</th>\n",
       "      <th>artist</th>\n",
       "      <th>song</th>\n",
       "      <th>album_name</th>\n",
       "      <th>genres</th>\n",
       "      <th>popularity</th>\n",
       "      <th>release</th>\n",
       "      <th>duration_ms</th>\n",
       "    </tr>\n",
       "  </thead>\n",
       "  <tbody>\n",
       "    <tr>\n",
       "      <th>5987</th>\n",
       "      <td>3MEb9LZbB80nQ1a8</td>\n",
       "      <td>Louis Armstrong</td>\n",
       "      <td>St. James Infirmary</td>\n",
       "      <td>The Complete Hot Five And Hot Seven Recordings...</td>\n",
       "      <td>jazz,blues</td>\n",
       "      <td>29.0</td>\n",
       "      <td>1928</td>\n",
       "      <td>191867</td>\n",
       "    </tr>\n",
       "    <tr>\n",
       "      <th>24349</th>\n",
       "      <td>DqO2fLBqdVsERa1Z</td>\n",
       "      <td>Louis Armstrong</td>\n",
       "      <td>Mack the Knife</td>\n",
       "      <td>The Great American Songbook</td>\n",
       "      <td>jazz,swing,jazz,blues,swing</td>\n",
       "      <td>43.0</td>\n",
       "      <td>1929</td>\n",
       "      <td>201467</td>\n",
       "    </tr>\n",
       "    <tr>\n",
       "      <th>2841</th>\n",
       "      <td>1Z7Pb158yANCZ7zN</td>\n",
       "      <td>Billie Holiday</td>\n",
       "      <td>Georgia On My Mind</td>\n",
       "      <td>Lady Day: The Complete Billie Holiday On Colum...</td>\n",
       "      <td>jazz,vocal jazz,blues</td>\n",
       "      <td>24.0</td>\n",
       "      <td>1933</td>\n",
       "      <td>198560</td>\n",
       "    </tr>\n",
       "    <tr>\n",
       "      <th>822</th>\n",
       "      <td>0SI6oF0XlACvZdQT</td>\n",
       "      <td>Billie Holiday</td>\n",
       "      <td>All Of Me</td>\n",
       "      <td>Lady Day: The Complete Billie Holiday On Colum...</td>\n",
       "      <td>jazz,vocal jazz,blues,jazz,blues</td>\n",
       "      <td>54.0</td>\n",
       "      <td>1933</td>\n",
       "      <td>181440</td>\n",
       "    </tr>\n",
       "    <tr>\n",
       "      <th>15583</th>\n",
       "      <td>8rCzU7kVpoJ0Z37D</td>\n",
       "      <td>Billie Holiday</td>\n",
       "      <td>A Fine Romance</td>\n",
       "      <td>Lady Day: The Complete Billie Holiday On Colum...</td>\n",
       "      <td>jazz,jazz,blues</td>\n",
       "      <td>24.0</td>\n",
       "      <td>1933</td>\n",
       "      <td>171467</td>\n",
       "    </tr>\n",
       "  </tbody>\n",
       "</table>\n",
       "</div>"
      ],
      "text/plain": [
       "                     id           artist                 song  \\\n",
       "5987   3MEb9LZbB80nQ1a8  Louis Armstrong  St. James Infirmary   \n",
       "24349  DqO2fLBqdVsERa1Z  Louis Armstrong       Mack the Knife   \n",
       "2841   1Z7Pb158yANCZ7zN   Billie Holiday   Georgia On My Mind   \n",
       "822    0SI6oF0XlACvZdQT   Billie Holiday            All Of Me   \n",
       "15583  8rCzU7kVpoJ0Z37D   Billie Holiday       A Fine Romance   \n",
       "\n",
       "                                              album_name  \\\n",
       "5987   The Complete Hot Five And Hot Seven Recordings...   \n",
       "24349                        The Great American Songbook   \n",
       "2841   Lady Day: The Complete Billie Holiday On Colum...   \n",
       "822    Lady Day: The Complete Billie Holiday On Colum...   \n",
       "15583  Lady Day: The Complete Billie Holiday On Colum...   \n",
       "\n",
       "                                 genres  popularity  release  duration_ms  \n",
       "5987                         jazz,blues        29.0     1928       191867  \n",
       "24349       jazz,swing,jazz,blues,swing        43.0     1929       201467  \n",
       "2841              jazz,vocal jazz,blues        24.0     1933       198560  \n",
       "822    jazz,vocal jazz,blues,jazz,blues        54.0     1933       181440  \n",
       "15583                   jazz,jazz,blues        24.0     1933       171467  "
      ]
     },
     "metadata": {},
     "execution_count": 6
    }
   ],
   "metadata": {}
  },
  {
   "cell_type": "markdown",
   "source": [
    "## Mapping our dataframe to the transfer learning features\n",
    "\n",
    "The transfer learning features have the same ordering of the files of the folder they were extracted, which is not the same as the dataframe now (and the dataframe is now ordered)\n",
    "\n",
    "That means to use them we have to map each song to its corresponding index in the feature dataframe"
   ],
   "metadata": {}
  },
  {
   "cell_type": "code",
   "execution_count": 7,
   "source": [
    "# Loading Transfer Learning Features\n",
    "print(\"Loading Transfer Learning Features...\")\n",
    "transfer_learning_features = np.load(DATASETS_FOLDER / \"input\" / \"extracted_features\" / \"transfer_learning\" / \"features.npy\")\n",
    "print(\"Shape of the transfer learning features: \", np.shape(transfer_learning_features))\n",
    "\n",
    "# Open list of files.txt\n",
    "print(\"Open list of files to make the mapping...\")\n",
    "list_of_files = []\n",
    "with open(DATASETS_FOLDER / \"input\" / \"extracted_features\" / \"transfer_learning\" / \"list_of_files.txt\", \"r\") as files_list:\n",
    "    # split by line ending, each path is a line in this file\n",
    "    list_of_files = files_list.read().split(sep=\"\\n\")\n",
    "\n",
    "# The common information we have is the ID, so we can use it to map to our dataset.\n",
    "print(\"Getting only the IDs from file paths...\")\n",
    "only_ids = []\n",
    "# For all paths in the files list, get only the file name (which is the ID!)\n",
    "for file_name in tqdm(list_of_files):\n",
    "    temp_path = Path(file_name)\n",
    "    only_ids.append(temp_path.stem) # returns only the filename without the extension\n",
    "\n",
    "# Get every ID of our sorted dataframe\n",
    "print(\"Creating the mappings of song to the feature vector indexes \")\n",
    "ids_sorted = dataframe_sorted[\"id\"].to_numpy()\n",
    "\n",
    "# Now we only need to create a new column containing the indexes corresponding to the feature vector\n",
    "mapping_of_indexes = []\n",
    "# Make the mapping of the indexes\n",
    "for song_id in tqdm(ids_sorted):\n",
    "    mapping_of_indexes.append(only_ids.index(song_id))\n",
    "\n",
    "# Adding as a column\n",
    "print(\"Adding the new column with the mapping\")\n",
    "dataframe_sorted[\"mapping_to_fv_index\"] = mapping_of_indexes\n",
    "\n",
    "# Reseting the index so that iloc works\n",
    "print(\"Reseting the index so that iloc works in the sorted dataframe...\")\n",
    "df_sorted_reset_index = dataframe_sorted.reset_index()\n",
    "print(\"All done!\")\n",
    "df_sorted_reset_index.head()"
   ],
   "outputs": [
    {
     "output_type": "stream",
     "name": "stdout",
     "text": [
      "Loading Transfer Learning Features...\n",
      "Shape of the transfer learning features:  (109269, 160)\n",
      "Open list of files to make the mapping...\n",
      "Getting only the IDs from file paths...\n"
     ]
    },
    {
     "output_type": "stream",
     "name": "stderr",
     "text": [
      "100%|██████████| 109269/109269 [00:02<00:00, 53206.48it/s]\n"
     ]
    },
    {
     "output_type": "stream",
     "name": "stdout",
     "text": [
      "Creating the mappings of song to the feature vector indexes \n"
     ]
    },
    {
     "output_type": "stream",
     "name": "stderr",
     "text": [
      "100%|██████████| 29986/29986 [00:45<00:00, 661.21it/s]"
     ]
    },
    {
     "output_type": "stream",
     "name": "stdout",
     "text": [
      "Adding the new column with the mapping\n",
      "Reseting the index so that iloc works in the sorted dataframe...\n",
      "All done!\n"
     ]
    },
    {
     "output_type": "stream",
     "name": "stderr",
     "text": [
      "\n"
     ]
    },
    {
     "output_type": "execute_result",
     "data": {
      "text/html": [
       "<div>\n",
       "<style scoped>\n",
       "    .dataframe tbody tr th:only-of-type {\n",
       "        vertical-align: middle;\n",
       "    }\n",
       "\n",
       "    .dataframe tbody tr th {\n",
       "        vertical-align: top;\n",
       "    }\n",
       "\n",
       "    .dataframe thead th {\n",
       "        text-align: right;\n",
       "    }\n",
       "</style>\n",
       "<table border=\"1\" class=\"dataframe\">\n",
       "  <thead>\n",
       "    <tr style=\"text-align: right;\">\n",
       "      <th></th>\n",
       "      <th>index</th>\n",
       "      <th>id</th>\n",
       "      <th>artist</th>\n",
       "      <th>song</th>\n",
       "      <th>album_name</th>\n",
       "      <th>genres</th>\n",
       "      <th>popularity</th>\n",
       "      <th>release</th>\n",
       "      <th>duration_ms</th>\n",
       "      <th>mapping_to_fv_index</th>\n",
       "    </tr>\n",
       "  </thead>\n",
       "  <tbody>\n",
       "    <tr>\n",
       "      <th>0</th>\n",
       "      <td>5987</td>\n",
       "      <td>3MEb9LZbB80nQ1a8</td>\n",
       "      <td>Louis Armstrong</td>\n",
       "      <td>St. James Infirmary</td>\n",
       "      <td>The Complete Hot Five And Hot Seven Recordings...</td>\n",
       "      <td>jazz,blues</td>\n",
       "      <td>29.0</td>\n",
       "      <td>1928</td>\n",
       "      <td>191867</td>\n",
       "      <td>71045</td>\n",
       "    </tr>\n",
       "    <tr>\n",
       "      <th>1</th>\n",
       "      <td>24349</td>\n",
       "      <td>DqO2fLBqdVsERa1Z</td>\n",
       "      <td>Louis Armstrong</td>\n",
       "      <td>Mack the Knife</td>\n",
       "      <td>The Great American Songbook</td>\n",
       "      <td>jazz,swing,jazz,blues,swing</td>\n",
       "      <td>43.0</td>\n",
       "      <td>1929</td>\n",
       "      <td>201467</td>\n",
       "      <td>20950</td>\n",
       "    </tr>\n",
       "    <tr>\n",
       "      <th>2</th>\n",
       "      <td>2841</td>\n",
       "      <td>1Z7Pb158yANCZ7zN</td>\n",
       "      <td>Billie Holiday</td>\n",
       "      <td>Georgia On My Mind</td>\n",
       "      <td>Lady Day: The Complete Billie Holiday On Colum...</td>\n",
       "      <td>jazz,vocal jazz,blues</td>\n",
       "      <td>24.0</td>\n",
       "      <td>1933</td>\n",
       "      <td>198560</td>\n",
       "      <td>91346</td>\n",
       "    </tr>\n",
       "    <tr>\n",
       "      <th>3</th>\n",
       "      <td>822</td>\n",
       "      <td>0SI6oF0XlACvZdQT</td>\n",
       "      <td>Billie Holiday</td>\n",
       "      <td>All Of Me</td>\n",
       "      <td>Lady Day: The Complete Billie Holiday On Colum...</td>\n",
       "      <td>jazz,vocal jazz,blues,jazz,blues</td>\n",
       "      <td>54.0</td>\n",
       "      <td>1933</td>\n",
       "      <td>181440</td>\n",
       "      <td>65996</td>\n",
       "    </tr>\n",
       "    <tr>\n",
       "      <th>4</th>\n",
       "      <td>15583</td>\n",
       "      <td>8rCzU7kVpoJ0Z37D</td>\n",
       "      <td>Billie Holiday</td>\n",
       "      <td>A Fine Romance</td>\n",
       "      <td>Lady Day: The Complete Billie Holiday On Colum...</td>\n",
       "      <td>jazz,jazz,blues</td>\n",
       "      <td>24.0</td>\n",
       "      <td>1933</td>\n",
       "      <td>171467</td>\n",
       "      <td>108063</td>\n",
       "    </tr>\n",
       "  </tbody>\n",
       "</table>\n",
       "</div>"
      ],
      "text/plain": [
       "   index                id           artist                 song  \\\n",
       "0   5987  3MEb9LZbB80nQ1a8  Louis Armstrong  St. James Infirmary   \n",
       "1  24349  DqO2fLBqdVsERa1Z  Louis Armstrong       Mack the Knife   \n",
       "2   2841  1Z7Pb158yANCZ7zN   Billie Holiday   Georgia On My Mind   \n",
       "3    822  0SI6oF0XlACvZdQT   Billie Holiday            All Of Me   \n",
       "4  15583  8rCzU7kVpoJ0Z37D   Billie Holiday       A Fine Romance   \n",
       "\n",
       "                                          album_name  \\\n",
       "0  The Complete Hot Five And Hot Seven Recordings...   \n",
       "1                        The Great American Songbook   \n",
       "2  Lady Day: The Complete Billie Holiday On Colum...   \n",
       "3  Lady Day: The Complete Billie Holiday On Colum...   \n",
       "4  Lady Day: The Complete Billie Holiday On Colum...   \n",
       "\n",
       "                             genres  popularity  release  duration_ms  \\\n",
       "0                        jazz,blues        29.0     1928       191867   \n",
       "1       jazz,swing,jazz,blues,swing        43.0     1929       201467   \n",
       "2             jazz,vocal jazz,blues        24.0     1933       198560   \n",
       "3  jazz,vocal jazz,blues,jazz,blues        54.0     1933       181440   \n",
       "4                   jazz,jazz,blues        24.0     1933       171467   \n",
       "\n",
       "   mapping_to_fv_index  \n",
       "0                71045  \n",
       "1                20950  \n",
       "2                91346  \n",
       "3                65996  \n",
       "4               108063  "
      ]
     },
     "metadata": {},
     "execution_count": 7
    }
   ],
   "metadata": {}
  },
  {
   "cell_type": "markdown",
   "source": [
    "## Loading all features in a feature matrix"
   ],
   "metadata": {}
  },
  {
   "cell_type": "markdown",
   "source": [
    "This next step consists in appending the feature vectors in a list, correspoding to the new orderning of the dataset.\n",
    "That way we'll have a 1 to 1 mapping of song to its corresponding feature vector\n",
    "\n",
    "This way we'll have a 2 arrays of feature vectors:\n",
    "- One of MFCC features \n",
    "- One of Transfer Learning features \n",
    "\n",
    "And then they will be ready to use to make a `similarity matrix`"
   ],
   "metadata": {}
  },
  {
   "cell_type": "code",
   "execution_count": 8,
   "source": [
    "MFCC_FEATURES_PATH = Path(\"../../dataset/dataset_mfcc\")\n",
    "FILE_ENDING = \"_mfcc.npy\"\n",
    "\n",
    "def get_mfcc_feature_vector(df):\n",
    "    \"\"\" Load and append the feature vector extracted to a variable \n",
    "    This function is slower because every npy is in its separate file, that means heavy IO usage.\n",
    "    \"\"\"\n",
    "    feature_vector = []\n",
    "    ids_list = df['id'].to_list()\n",
    "    print(\"Loading MFCC Features...\")\n",
    "    for song_id in tqdm(ids_list):\n",
    "        file_name = song_id + FILE_ENDING\n",
    "        file_path = MFCC_FEATURES_PATH / file_name\n",
    "        feature_vector.append(np.load(file_path).tolist())\n",
    "    print(\"All done!\")\n",
    "    return feature_vector\n",
    "\n",
    "def get_transfer_learning_feature_vector(df, transfer_learning_feature_vector):\n",
    "    feature_vector = []\n",
    "    print(\"Loading Transfer Learning Features...\")\n",
    "    indexes_list = df['mapping_to_fv_index'].to_list()\n",
    "    for index in tqdm(indexes_list):\n",
    "        feature_vector.append(transfer_learning_feature_vector[index])\n",
    "    print(\"All done!\")\n",
    "    return feature_vector\n",
    "\n",
    "def get_feature_vector(df, feature_type, transfer_learning_feature_vector=None):\n",
    "    if feature_type.lower() == \"mfcc\":\n",
    "        return get_mfcc_feature_vector(df)\n",
    "    elif feature_type.lower() == \"transfer_learning\":\n",
    "        if type(transfer_learning_feature_vector) == None:\n",
    "            raise ValueError(\"transfer_learning_feature_vector cannot be empty!\")\n",
    "        return get_transfer_learning_feature_vector(df, transfer_learning_feature_vector)\n",
    "    else:\n",
    "        raise TypeError(\"Not a valid feature vector type!\")"
   ],
   "outputs": [],
   "metadata": {}
  },
  {
   "cell_type": "code",
   "execution_count": 59,
   "source": [
    "mfcc_feature_vector = get_feature_vector(df_sorted_reset_index, \"mfcc\")\n",
    "print(np.shape(mfcc_feature_vector))"
   ],
   "outputs": [
    {
     "output_type": "stream",
     "name": "stdout",
     "text": [
      "Loading MFCC Features...\n"
     ]
    },
    {
     "output_type": "stream",
     "name": "stderr",
     "text": [
      "100%|██████████| 29986/29986 [00:17<00:00, 1759.50it/s]"
     ]
    },
    {
     "output_type": "stream",
     "name": "stdout",
     "text": [
      "All done!\n",
      "(29986, 120)\n"
     ]
    },
    {
     "output_type": "stream",
     "name": "stderr",
     "text": [
      "\n"
     ]
    }
   ],
   "metadata": {}
  },
  {
   "cell_type": "code",
   "execution_count": 9,
   "source": [
    "transfer_learning_feature_vector = get_feature_vector(df_sorted_reset_index, \"transfer_learning\", transfer_learning_features)\n",
    "print(np.shape(transfer_learning_feature_vector))"
   ],
   "outputs": [
    {
     "output_type": "stream",
     "name": "stdout",
     "text": [
      "Loading Transfer Learning Features...\n"
     ]
    },
    {
     "output_type": "stream",
     "name": "stderr",
     "text": [
      "100%|██████████| 29986/29986 [00:00<00:00, 1015940.61it/s]"
     ]
    },
    {
     "output_type": "stream",
     "name": "stdout",
     "text": [
      "All done!\n",
      "(29986, 160)\n"
     ]
    },
    {
     "output_type": "stream",
     "name": "stderr",
     "text": [
      "\n"
     ]
    }
   ],
   "metadata": {}
  },
  {
   "cell_type": "markdown",
   "source": [
    "## Export to avoid computations again"
   ],
   "metadata": {}
  },
  {
   "cell_type": "code",
   "execution_count": 13,
   "source": [
    "def export_feature_vector(feature_vector, feat_type):\n",
    "    \"\"\" Saves a feature vector to avoid making this list again \"\"\"\n",
    "    size = np.shape(feature_vector)[0]\n",
    "    np.save( DATASETS_FOLDER / \"input\" / \"feature_vectors\" / feat_type / f\"{feat_type}_feature_vector_{size}_samples.npy\", feature_vector)\n",
    "    print(f\"Saving {feat_type} feature vector of {size} samples complete!\")\n",
    "\n",
    "export_feature_vector(transfer_learning_feature_vector, feat_type=\"transfer_learning\")\n",
    "# export_feature_vector(mfcc_feature_vector, feat_type=\"mfcc\")"
   ],
   "outputs": [
    {
     "output_type": "stream",
     "name": "stdout",
     "text": [
      "Saving transfer_learning feature vector of 29986 samples complete!\n"
     ]
    }
   ],
   "metadata": {}
  },
  {
   "cell_type": "markdown",
   "source": [
    "## Computing the similarity matrix using the RBF Kernel"
   ],
   "metadata": {}
  },
  {
   "cell_type": "code",
   "execution_count": 14,
   "source": [
    "from sklearn.metrics.pairwise import rbf_kernel\n",
    "\n",
    "gamma = 0.1\n",
    "similarity_matrix = rbf_kernel(transfer_learning_feature_vector, gamma=gamma)\n",
    "np.fill_diagonal(similarity_matrix, 0) # Just a measure to avoid comparing to itself when generating the network"
   ],
   "outputs": [],
   "metadata": {}
  },
  {
   "cell_type": "code",
   "execution_count": 15,
   "source": [
    "def save_similarity_matrix(gamma, matrix, feat_type):\n",
    "    size = np.shape(matrix)[0]\n",
    "    np.save(DATASETS_FOLDER / \"input\" / \"similarity_matrices\" / f\"{feat_type}_{size}_samples_{gamma}_gamma.npy\", matrix)\n",
    "    print(f\"Saving similarity matrix of size {size} complete!\")\n",
    "\n",
    "save_similarity_matrix(gamma, similarity_matrix, \"transfer_learning\")"
   ],
   "outputs": [
    {
     "output_type": "stream",
     "name": "stdout",
     "text": [
      "Saving similarity matrix of size 29986 complete!\n"
     ]
    }
   ],
   "metadata": {}
  },
  {
   "cell_type": "markdown",
   "source": [
    "# Helper functions to help analyze/filter the dataset "
   ],
   "metadata": {}
  },
  {
   "cell_type": "code",
   "execution_count": 16,
   "source": [
    "from math import ceil\n",
    "\n",
    "def show_similarity(df, similarity_matrix, song_index, song_two_index):\n",
    "    \"\"\" Shows the similarity of two entries of a similarity matrix \"\"\"\n",
    "    print()\n",
    "    print(df.iloc[song_index])\n",
    "    print(df.iloc[song_two_index])\n",
    "    print()\n",
    "    similarity = similarity_matrix[song_index, song_two_index]\n",
    "    print(f\"Similarity: {similarity}\")\n",
    "    \n",
    "def get_songs_list(df, similarity_matrix, similarity_threshold, limit=10):\n",
    "    \"\"\" Get the list of song similarities for a similarity threshold \"\"\"\n",
    "    rows, columns = np.where(similarity_matrix > similarity_threshold)\n",
    "    print(len(similarity_matrix[rows, columns]))\n",
    "    songs_list = np.array((rows, columns)).T\n",
    "    songs_list = songs_list[:ceil(len(songs_list)/2)]\n",
    "    for song in songs_list[:limit]:\n",
    "        show_similarity(df, similarity_matrix, song[0], song[1])\n"
   ],
   "outputs": [],
   "metadata": {}
  },
  {
   "cell_type": "markdown",
   "source": [
    "# Exporting the dataset filtered"
   ],
   "metadata": {}
  },
  {
   "cell_type": "code",
   "execution_count": 19,
   "source": [
    "import sys\n",
    "import gc\n",
    "\n",
    "def sizeof_fmt(num, suffix='B'):\n",
    "    ''' by Fred Cirera,  https://stackoverflow.com/a/1094933/1870254, modified'''\n",
    "    for unit in ['','Ki','Mi','Gi','Ti','Pi','Ei','Zi']:\n",
    "        if abs(num) < 1024.0:\n",
    "            return \"%3.1f %s%s\" % (num, unit, suffix)\n",
    "        num /= 1024.0\n",
    "    return \"%.1f %s%s\" % (num, 'Yi', suffix)\n",
    "\n",
    "for name, size in sorted(((name, sys.getsizeof(value)) for name, value in locals().items()),\n",
    "                            key= lambda x: -x[1])[:10]:\n",
    "    print(\"{:>30}: {:>8}\".format(name, sizeof_fmt(size)))\n",
    "\n",
    "#del similarity_matrix\n",
    "gc.collect()\n"
   ],
   "outputs": [
    {
     "output_type": "stream",
     "name": "stdout",
     "text": [
      "             similarity_matrix:  3.3 GiB\n",
      "    transfer_learning_features: 66.7 MiB\n",
      "                            __: 11.7 MiB\n",
      "         df_sorted_reset_index: 11.7 MiB\n",
      "                           _10: 11.7 MiB\n",
      "                           ___: 11.7 MiB\n",
      "              dataframe_sorted: 11.7 MiB\n",
      "                            _9: 11.7 MiB\n",
      "                     dataframe: 11.2 MiB\n",
      "                            _7: 11.2 MiB\n"
     ]
    },
    {
     "output_type": "execute_result",
     "data": {
      "text/plain": [
       "0"
      ]
     },
     "metadata": {},
     "execution_count": 19
    }
   ],
   "metadata": {}
  },
  {
   "cell_type": "markdown",
   "source": [
    "# Showing some songs with high similarity\n",
    "\n",
    "### When using gamma = 0.01, only masters and remasters of the same songs show as similar"
   ],
   "metadata": {}
  },
  {
   "cell_type": "code",
   "execution_count": 14,
   "source": [
    "get_songs_list(dataframe, similarity_matrix, 0.8)"
   ],
   "outputs": [
    {
     "output_type": "stream",
     "name": "stdout",
     "text": [
      "140\n",
      "\n",
      "id                                             06SC55N0G2GjCNuS\n",
      "artist                                              David Bowie\n",
      "song                                         Station to Station\n",
      "album_name         Station To Station (2016 Remastered Version)\n",
      "genres        rock,progressive rock,classic rock,art rock,ro...\n",
      "Name: 159, dtype: object\n",
      "id                                        7JmWTjyaKLzHmKBo\n",
      "artist                                         David Bowie\n",
      "song          Station To Station (2016 Remastered Version)\n",
      "album_name    Station To Station (2016 Remastered Version)\n",
      "genres                         glam rock,rock,classic rock\n",
      "Name: 12886, dtype: object\n",
      "\n",
      "Similarity: 0.9999999999995635\n",
      "\n",
      "id                    0EvGCDSvdzIZdcQ3\n",
      "artist                      Kid Abelha\n",
      "song                      Peito Aberto\n",
      "album_name                   Pega Vida\n",
      "genres        mpb,pop nacional,mpb,pop\n",
      "Name: 403, dtype: object\n",
      "id            6xboh6SVR8Z0qHXj\n",
      "artist              Kid Abelha\n",
      "song             Fala Meu Nome\n",
      "album_name           Pega Vida\n",
      "genres                 mpb,pop\n",
      "Name: 12248, dtype: object\n",
      "\n",
      "Similarity: 1.0\n",
      "\n",
      "id                                             0MPG1YPEzBIOsEFR\n",
      "artist                                 Electric Light Orchestra\n",
      "song                                                   Eldorado\n",
      "album_name                                             Eldorado\n",
      "genres        rock,classic rock,pop,progressive rock,symphon...\n",
      "Name: 632, dtype: object\n",
      "id                                  49bdTCRf7vvkxqZl\n",
      "artist                      Electric Light Orchestra\n",
      "song                     Can't Get It Out of My Head\n",
      "album_name                                  Eldorado\n",
      "genres        classic rock,rock,progressive rock,pop\n",
      "Name: 7403, dtype: object\n",
      "\n",
      "Similarity: 1.0\n",
      "\n",
      "id                            0PmpqNaTqNzRV19t\n",
      "artist                              Little Mix\n",
      "song                         No More Sad Songs\n",
      "album_name    Glory Days: The Platinum Edition\n",
      "genres                                     pop\n",
      "Name: 735, dtype: object\n",
      "id                                3CBvKFEF9qkGR7sg\n",
      "artist                                  Little Mix\n",
      "song          No More Sad Songs - Acoustic Version\n",
      "album_name        Glory Days: The Platinum Edition\n",
      "genres                                     pop,pop\n",
      "Name: 5698, dtype: object\n",
      "\n",
      "Similarity: 1.0\n",
      "\n",
      "id                       0YG71J60HAJ5Glxd\n",
      "artist                                UFO\n",
      "song                        Doctor Doctor\n",
      "album_name     Phenomenon (2007 Remaster)\n",
      "genres        hard rock,classic rock,rock\n",
      "Name: 1000, dtype: object\n",
      "id                         1H7yQe1NljCbMapi\n",
      "artist                                  UFO\n",
      "song          Doctor Doctor - 2007 Remaster\n",
      "album_name       Phenomenon (2007 Remaster)\n",
      "genres                       hard rock,rock\n",
      "Name: 2317, dtype: object\n",
      "\n",
      "Similarity: 0.9945247144500841\n",
      "\n",
      "id                            0eYMyFT6MQ11hm68\n",
      "artist                              Little Mix\n",
      "song                          Touch - Acoustic\n",
      "album_name    Glory Days: The Platinum Edition\n",
      "genres                                     pop\n",
      "Name: 1185, dtype: object\n",
      "id                            B2D76p4YqZPLEImB\n",
      "artist                              Little Mix\n",
      "song                                     Touch\n",
      "album_name    Glory Days: The Platinum Edition\n",
      "genres                                     pop\n",
      "Name: 19433, dtype: object\n",
      "\n",
      "Similarity: 0.9999999999998544\n",
      "\n",
      "id                                             0nTJwKgAotSVunDM\n",
      "artist                                    The Smashing Pumpkins\n",
      "song                                     Siva - Remastered 2011\n",
      "album_name                                Gish (Deluxe Edition)\n",
      "genres        alternative rock,grunge,rock,alternative rock,...\n",
      "Name: 1436, dtype: object\n",
      "id                        7SKAFUzD5tVo4yAi\n",
      "artist               The Smashing Pumpkins\n",
      "song                                  Siva\n",
      "album_name           Gish (Deluxe Edition)\n",
      "genres        alternative rock,rock,grunge\n",
      "Name: 13136, dtype: object\n",
      "\n",
      "Similarity: 0.9999999999982537\n",
      "\n",
      "id                        0vAvl1yw6ePzypaY\n",
      "artist                        All Time Low\n",
      "song                     Life of the Party\n",
      "album_name             Last Young Renegade\n",
      "genres        pop rock,rock,pop,electropop\n",
      "Name: 1656, dtype: object\n",
      "id                                       5uAjesvDt7mRJCqO\n",
      "artist                                       All Time Low\n",
      "song                               Dark Side of Your Room\n",
      "album_name                            Last Young Renegade\n",
      "genres        pop punk,pop rock,alternative rock,rock,pop\n",
      "Name: 10491, dtype: object\n",
      "\n",
      "Similarity: 0.9999999999999636\n",
      "\n",
      "id                       0zmrxUHKXRslsrVe\n",
      "artist                        Sonic Youth\n",
      "song                           Star Power\n",
      "album_name    Star Power (2009; Acoustic)\n",
      "genres          post-punk,noise rock,rock\n",
      "Name: 1784, dtype: object\n",
      "id                       6zvBm3jtkQZuGEOh\n",
      "artist                        Sonic Youth\n",
      "song                            Starpower\n",
      "album_name                           Evol\n",
      "genres        alternative rock,noise rock\n",
      "Name: 12311, dtype: object\n",
      "\n",
      "Similarity: 0.9999999999991269\n",
      "\n",
      "id                  1DxHjPS6xQpp5vqz\n",
      "artist                          Mika\n",
      "song                       Good Wife\n",
      "album_name        No Place In Heaven\n",
      "genres        pop,britpop,electronic\n",
      "Name: 2227, dtype: object\n",
      "id             5WKOH9Bg4jHrbptT\n",
      "artist               Tori Kelly\n",
      "song          Should've Been Us\n",
      "album_name    Unbreakable Smile\n",
      "genres                      pop\n",
      "Name: 9800, dtype: object\n",
      "\n",
      "Similarity: 0.962793000717607\n"
     ]
    }
   ],
   "metadata": {}
  },
  {
   "cell_type": "markdown",
   "source": [
    "# Showing the same information but for the beatles"
   ],
   "metadata": {}
  },
  {
   "cell_type": "code",
   "execution_count": 15,
   "source": [
    "beatles_df = dataframe.query(\"artist == 'The Beatles'\")\n",
    "print(len(beatles_df))\n",
    "beatles_feature_vector = get_feature_vector(beatles_df)\n",
    "beatles_similarity_matrix = rbf_kernel(beatles_feature_vector, gamma=0.001)\n",
    "np.fill_diagonal(beatles_similarity_matrix, 0)\n",
    "get_songs_list(beatles_df, beatles_similarity_matrix, 0.7)"
   ],
   "outputs": [
    {
     "output_type": "stream",
     "name": "stdout",
     "text": [
      "37\n",
      "2\n",
      "\n",
      "id                                      6NRxkIqKybHZZGvZ\n",
      "artist                                       The Beatles\n",
      "song          Why Don't We Do It In The Road? - 2018 Mix\n",
      "album_name                                   The Beatles\n",
      "genres                             classic rock,rock,pop\n",
      "Name: 11252, dtype: object\n",
      "id                                             BD1AtNm4DiD3tjQ0\n",
      "artist                                              The Beatles\n",
      "song          Why Don't We Do It In The Road? - Remastered 2009\n",
      "album_name                             The Beatles (Remastered)\n",
      "genres                   rock,classic rock,pop,psychedelic rock\n",
      "Name: 19734, dtype: object\n",
      "\n",
      "Similarity: 1.0\n"
     ]
    }
   ],
   "metadata": {}
  }
 ],
 "metadata": {
  "orig_nbformat": 4,
  "language_info": {
   "name": "python",
   "version": "3.8.10",
   "mimetype": "text/x-python",
   "codemirror_mode": {
    "name": "ipython",
    "version": 3
   },
   "pygments_lexer": "ipython3",
   "nbconvert_exporter": "python",
   "file_extension": ".py"
  },
  "kernelspec": {
   "name": "python3",
   "display_name": "Python 3.8.10 64-bit ('venv': venv)"
  },
  "interpreter": {
   "hash": "a1b5e73f98ecc5046ac4ff6f8b5b285cd0127d9ded83ed20db3ab3b6bcfe82a1"
  }
 },
 "nbformat": 4,
 "nbformat_minor": 2
}
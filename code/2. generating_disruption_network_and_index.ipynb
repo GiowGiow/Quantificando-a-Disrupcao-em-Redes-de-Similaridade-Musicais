{
 "cells": [
  {
   "cell_type": "markdown",
   "source": [
    "# Generating the disruption network\n",
    "## And calculating the disruption index\n",
    "\n",
    "One of the most important steps in studying the effect of disruption in songs is actually calculating it based on the similarity matrix we obtained before. That way we use the same list of songs that was used to generate the similarity matrix and use to calculate the disruption score for each song in our dataset. That means that after calculating we can find who were the songs most disruptive in our dataset based on its metadata."
   ],
   "metadata": {}
  },
  {
   "cell_type": "markdown",
   "source": [
    "## The code below generates a songs disruption network using:\n",
    "1. list of songs (in the same order as the similarity matrix)\n",
    "2. A similarity matrix (ordered by release) so we know that the next song i + 1 is a song released after i\n",
    "3. A similarity threshold that will determine if there is an edge between nodes"
   ],
   "metadata": {}
  },
  {
   "cell_type": "code",
   "execution_count": 1,
   "source": [
    "import networkx as nx\n",
    "import pandas as pd\n",
    "import numpy as np\n",
    "import collections\n",
    "\n",
    "from tqdm import tqdm\n",
    "from networkx.drawing.nx_pylab import draw_networkx"
   ],
   "outputs": [],
   "metadata": {}
  },
  {
   "cell_type": "code",
   "execution_count": 2,
   "source": [
    "def generate_network(list_of_songs, similarity_matrix, similarity_threshold=0.80):\n",
    "    \"\"\" Generate a disruption network based on: \n",
    "    If a song has a similarity with another over the threshold than an edge is made to connect both of them.\n",
    "\n",
    "    Args:\n",
    "        1. list of songs (in the same order as the similarity matrix)\n",
    "        2. A similarity matrix (ordered by release) so we know that the next song i + 1 is a song released after i\n",
    "        3. A similarity threshold that will determine if there is an edge between nodes\n",
    "    Returns:\n",
    "        A network as a networkx.DiGraph Object\n",
    "    \"\"\"\n",
    "    slice_index = 0\n",
    "    G = nx.DiGraph()\n",
    "\n",
    "    for i in tqdm(range(len(list_of_songs))):\n",
    "        edge_count = 0\n",
    "        \n",
    "        G.add_node(i)\n",
    "        \n",
    "        for j in range(i + 1, len(list_of_songs)):\n",
    "            # If there is a high similarity, create an edge between the nodes\n",
    "            if similarity_matrix[i][j] > similarity_threshold:\n",
    "                G.add_edge(j, i)\n",
    "                edge_count += 1\n",
    "        \n",
    "        # If this node does not have a similarity with any other node, then remove the node\n",
    "        if edge_count < 1:\n",
    "            G.remove_node(i)\n",
    "\n",
    "    return G\n",
    "\n",
    "def get_disruption_index_for_nodes(list_of_songs, graph):\n",
    "    \"\"\" Compute the actual disruption indexes for the graph based on the nodes(songs) and its\n",
    "    connections (if its influenced or if it influenced another song) \"\"\"\n",
    "    disruption_info = {}\n",
    "\n",
    "    for i in tqdm(range(len(list_of_songs))):    \n",
    "        if graph.has_node(i):\n",
    "            songs_after = range(i + 1, len(list_of_songs))\n",
    "            song_influences = [edge[1] for edge in graph.edges(i) if edge[1] != i]\n",
    "\n",
    "            ni = 0\n",
    "            nj = 0\n",
    "            nk = 0\n",
    "            \n",
    "            for song_after in tqdm(songs_after):\n",
    "                consolidating_influence = False\n",
    "                if graph.has_edge(song_after , i):\n",
    "                \n",
    "                    for influence in song_influences:\n",
    "                        if graph.has_edge(song_after, influence):\n",
    "                            consolidating_influence = True\n",
    "                            break\n",
    "                \n",
    "                    if consolidating_influence:\n",
    "                        nj += 1\n",
    "                    else:\n",
    "                        ni += 1\n",
    "                \n",
    "                else:\n",
    "                    for influence in song_influences:\n",
    "                        if graph.has_edge(song_after, influence):\n",
    "                            nk += 1\n",
    "    \n",
    "            disruption_info[list_of_songs.iloc[i]['id']] = [ni, nj, nk, float((ni-nj)) / float((ni+nj+nk))] if (ni + nj + nk) > 0 else [ni, nj, nk, 0]\n",
    "    \n",
    "    return disruption_info\n"
   ],
   "outputs": [],
   "metadata": {}
  },
  {
   "cell_type": "markdown",
   "source": [
    "## Loading our features, matrix and dataframe\n",
    "The first step to build the network it is to load the files generated in prior steps\n",
    "\n",
    "### `Information about the dataset:`\n",
    " - The filtered dataset refers removed the songs that their mp3 had no sound.\n",
    "\n",
    "### `Information about the feature vectors:`\n",
    " -  Features can be both calculated using the MFCC or the concatenation of the features from the transfer learning convnet\n",
    "\n",
    "\n",
    "### `Information about the similarity matrix:`\n",
    "\n",
    "Similarity matrix can have more or less similarities between songs based on the gamma value\n",
    " - Higher means it is more strict\n",
    " - Lesser means that songs that are different will be deemed as similar"
   ],
   "metadata": {}
  },
  {
   "cell_type": "code",
   "execution_count": 26,
   "source": [
    "from pathlib import Path\n",
    "\n",
    "DATASET_PATH = Path(\"./dataset\")\n",
    "\n",
    "def load_npy(file_path):\n",
    "    print(f\"Loading: {file_path} ...\")\n",
    "    return np.load(file_path)\n",
    "\n",
    "def load_features_from_file(file_name, feature_type):\n",
    "    if feature_type == \"mfcc\":\n",
    "        return load_npy(DATASET_PATH / \"input\" / \"feature_vectors\" / \"mfcc\" / file_name)\n",
    "    elif feature_type == \"transfer_learning\":\n",
    "        return load_npy(DATASET_PATH / \"input\" / \"feature_vectors\" / \"transfer_learning\" / file_name)\n",
    "    else:\n",
    "        raise TypeError(\"This feature type is not supported\")\n",
    "\n",
    "def load_similarity_matrix(file_name, feature_type):\n",
    "    if feature_type == \"mfcc\":\n",
    "        return load_npy(DATASET_PATH / \"input\" / \"similarity_matrices\" / \"mfcc\" / file_name)\n",
    "    elif feature_type == \"transfer_learning\":\n",
    "        return load_npy(DATASET_PATH / \"input\" / \"similarity_matrices\" / \"transfer_learning\" / file_name)\n",
    "    else:\n",
    "        raise TypeError(\"This feature type is not supported\")\n",
    "\n",
    "def load_dataframe(dataframe_file):\n",
    "    return pd.read_csv(DATASET_PATH / \"input\" / \"csvs\" / dataframe_file)\n",
    "\n",
    "DF_PATH = \"song_info_dataset_29986_entries_filtered.csv\"\n",
    "FEATS_PATH = \"transfer_learning_feature_vector_29986_samples.npy\"\n",
    "SIMILARITY_MATRIX_PATH = \"transfer_learning_29986_samples_0.1_gamma.npy\"\n",
    "\n",
    "dataframe = load_dataframe(DF_PATH)\n",
    "features = load_features_from_file(FEATS_PATH, \"transfer_learning\")\n",
    "similarity_matrix = load_similarity_matrix(SIMILARITY_MATRIX_PATH, \"transfer_learning\")"
   ],
   "outputs": [
    {
     "output_type": "stream",
     "name": "stdout",
     "text": [
      "Loading: dataset/input/feature_vectors/transfer_learning/transfer_learning_feature_vector_29986_samples.npy ...\n",
      "Loading: dataset/input/similarity_matrices/transfer_learning/transfer_learning_29986_samples_0.1_gamma.npy ...\n"
     ]
    }
   ],
   "metadata": {}
  },
  {
   "cell_type": "markdown",
   "source": [
    "Now we can call the functions defined above to generate the network and calculate the disruption index!"
   ],
   "metadata": {}
  },
  {
   "cell_type": "code",
   "execution_count": 28,
   "source": [
    "graph = generate_network(dataframe, similarity_matrix)"
   ],
   "outputs": [
    {
     "output_type": "stream",
     "name": "stderr",
     "text": [
      "  0%|          | 4/29986 [00:00<1:27:35,  5.71it/s]\n"
     ]
    },
    {
     "output_type": "error",
     "ename": "KeyboardInterrupt",
     "evalue": "",
     "traceback": [
      "\u001b[0;31m---------------------------------------------------------------------------\u001b[0m",
      "\u001b[0;31mKeyboardInterrupt\u001b[0m                         Traceback (most recent call last)",
      "\u001b[0;32m<ipython-input-28-d8edd11aa51e>\u001b[0m in \u001b[0;36m<module>\u001b[0;34m\u001b[0m\n\u001b[0;32m----> 1\u001b[0;31m \u001b[0mgraph\u001b[0m \u001b[0;34m=\u001b[0m \u001b[0mgenerate_network\u001b[0m\u001b[0;34m(\u001b[0m\u001b[0mdataframe\u001b[0m\u001b[0;34m,\u001b[0m \u001b[0msimilarity_matrix\u001b[0m\u001b[0;34m)\u001b[0m\u001b[0;34m\u001b[0m\u001b[0;34m\u001b[0m\u001b[0m\n\u001b[0m",
      "\u001b[0;32m<ipython-input-2-83ff59f67d9d>\u001b[0m in \u001b[0;36mgenerate_network\u001b[0;34m(list_of_songs, similarity_matrix, similarity_threshold)\u001b[0m\n\u001b[1;32m     20\u001b[0m         \u001b[0;32mfor\u001b[0m \u001b[0mj\u001b[0m \u001b[0;32min\u001b[0m \u001b[0mrange\u001b[0m\u001b[0;34m(\u001b[0m\u001b[0mi\u001b[0m \u001b[0;34m+\u001b[0m \u001b[0;36m1\u001b[0m\u001b[0;34m,\u001b[0m \u001b[0mlen\u001b[0m\u001b[0;34m(\u001b[0m\u001b[0mlist_of_songs\u001b[0m\u001b[0;34m)\u001b[0m\u001b[0;34m)\u001b[0m\u001b[0;34m:\u001b[0m\u001b[0;34m\u001b[0m\u001b[0;34m\u001b[0m\u001b[0m\n\u001b[1;32m     21\u001b[0m             \u001b[0;31m# If there is a high similarity, create an edge between the nodes\u001b[0m\u001b[0;34m\u001b[0m\u001b[0;34m\u001b[0m\u001b[0;34m\u001b[0m\u001b[0m\n\u001b[0;32m---> 22\u001b[0;31m             \u001b[0;32mif\u001b[0m \u001b[0msimilarity_matrix\u001b[0m\u001b[0;34m[\u001b[0m\u001b[0mi\u001b[0m\u001b[0;34m]\u001b[0m\u001b[0;34m[\u001b[0m\u001b[0mj\u001b[0m\u001b[0;34m]\u001b[0m \u001b[0;34m>\u001b[0m \u001b[0msimilarity_threshold\u001b[0m\u001b[0;34m:\u001b[0m\u001b[0;34m\u001b[0m\u001b[0;34m\u001b[0m\u001b[0m\n\u001b[0m\u001b[1;32m     23\u001b[0m                 \u001b[0mG\u001b[0m\u001b[0;34m.\u001b[0m\u001b[0madd_edge\u001b[0m\u001b[0;34m(\u001b[0m\u001b[0mj\u001b[0m\u001b[0;34m,\u001b[0m \u001b[0mi\u001b[0m\u001b[0;34m)\u001b[0m\u001b[0;34m\u001b[0m\u001b[0;34m\u001b[0m\u001b[0m\n\u001b[1;32m     24\u001b[0m                 \u001b[0medge_count\u001b[0m \u001b[0;34m+=\u001b[0m \u001b[0;36m1\u001b[0m\u001b[0;34m\u001b[0m\u001b[0;34m\u001b[0m\u001b[0m\n",
      "\u001b[0;31mKeyboardInterrupt\u001b[0m: "
     ]
    }
   ],
   "metadata": {}
  },
  {
   "cell_type": "code",
   "execution_count": null,
   "source": [
    "disruption_index = get_disruption_index_for_nodes(dataframe, graph)"
   ],
   "outputs": [],
   "metadata": {}
  },
  {
   "cell_type": "markdown",
   "source": [
    "Some of 29000+ songs used to build the network had no connection with any other, so they didn't even enter the network:\n",
    "\n",
    "```\n",
    "# If this node does not have a similarity with any other node, then remove the node\n",
    "if edge_count < 1:\n",
    "    G.remove_node(i)\n",
    "```\n",
    "\n",
    "That is why we have only 26091 with a disruption index"
   ],
   "metadata": {}
  },
  {
   "cell_type": "code",
   "execution_count": 15,
   "source": [
    "len(disruption_index)"
   ],
   "outputs": [
    {
     "output_type": "execute_result",
     "data": {
      "text/plain": [
       "26091"
      ]
     },
     "metadata": {},
     "execution_count": 15
    }
   ],
   "metadata": {}
  },
  {
   "cell_type": "markdown",
   "source": [
    "# Exporting the graph generated\n",
    "\n",
    "Here we export the generated graph in a way we can analyse it on Gephi later"
   ],
   "metadata": {}
  },
  {
   "cell_type": "code",
   "execution_count": 11,
   "source": [
    "nx.write_gexf(graph, \"transfer_learning_feats_gamma_0.1.gexf\")"
   ],
   "outputs": [],
   "metadata": {}
  },
  {
   "cell_type": "markdown",
   "source": [
    "# Exporting the disruption index"
   ],
   "metadata": {}
  },
  {
   "cell_type": "code",
   "execution_count": 29,
   "source": [
    "import pickle"
   ],
   "outputs": [],
   "metadata": {}
  },
  {
   "cell_type": "code",
   "execution_count": 14,
   "source": [
    "# Store data (serialize)\n",
    "with open(DATASET_PATH / \"output\" / \"disruption_index\" / 'disruption_index.pickle', 'wb') as handle:\n",
    "    pickle.dump(disruption_index, handle, protocol=pickle.HIGHEST_PROTOCOL)"
   ],
   "outputs": [],
   "metadata": {}
  },
  {
   "cell_type": "markdown",
   "source": [
    "### We should store as a dataframe too"
   ],
   "metadata": {}
  },
  {
   "cell_type": "code",
   "execution_count": 32,
   "source": [
    "with open(DATASET_PATH / \"output\" / \"disruption_index\" / 'transfer-learning-disruption-index-gamma-0-1.pickle', 'rb') as handle:\n",
    "    loaded_disruption_index = pickle.load(handle)\n"
   ],
   "outputs": [],
   "metadata": {}
  },
  {
   "cell_type": "markdown",
   "source": [
    "### Generating the dataframe with the disruption index"
   ],
   "metadata": {}
  },
  {
   "cell_type": "code",
   "execution_count": 40,
   "source": [
    "disruption_index_df = pd.DataFrame(loaded_disruption_index).T\n",
    "disruption_index_df.reset_index(inplace=True)\n",
    "disruption_index_df.columns = ['id', 'ni', 'nj', 'nk', 'disruption']\n",
    "disruption_index_df.head()\n"
   ],
   "outputs": [
    {
     "output_type": "execute_result",
     "data": {
      "text/html": [
       "<div>\n",
       "<style scoped>\n",
       "    .dataframe tbody tr th:only-of-type {\n",
       "        vertical-align: middle;\n",
       "    }\n",
       "\n",
       "    .dataframe tbody tr th {\n",
       "        vertical-align: top;\n",
       "    }\n",
       "\n",
       "    .dataframe thead th {\n",
       "        text-align: right;\n",
       "    }\n",
       "</style>\n",
       "<table border=\"1\" class=\"dataframe\">\n",
       "  <thead>\n",
       "    <tr style=\"text-align: right;\">\n",
       "      <th></th>\n",
       "      <th>id</th>\n",
       "      <th>ni</th>\n",
       "      <th>nj</th>\n",
       "      <th>nk</th>\n",
       "      <th>disruption</th>\n",
       "    </tr>\n",
       "  </thead>\n",
       "  <tbody>\n",
       "    <tr>\n",
       "      <th>0</th>\n",
       "      <td>5pClePd8cdUOGQe2</td>\n",
       "      <td>37.0</td>\n",
       "      <td>0.0</td>\n",
       "      <td>0.0</td>\n",
       "      <td>1.0</td>\n",
       "    </tr>\n",
       "    <tr>\n",
       "      <th>1</th>\n",
       "      <td>3MEb9LZbB80nQ1a8</td>\n",
       "      <td>1.0</td>\n",
       "      <td>0.0</td>\n",
       "      <td>0.0</td>\n",
       "      <td>1.0</td>\n",
       "    </tr>\n",
       "    <tr>\n",
       "      <th>2</th>\n",
       "      <td>7TEMzPqSHWOHiojK</td>\n",
       "      <td>93.0</td>\n",
       "      <td>0.0</td>\n",
       "      <td>0.0</td>\n",
       "      <td>1.0</td>\n",
       "    </tr>\n",
       "    <tr>\n",
       "      <th>3</th>\n",
       "      <td>8rCzU7kVpoJ0Z37D</td>\n",
       "      <td>1.0</td>\n",
       "      <td>0.0</td>\n",
       "      <td>0.0</td>\n",
       "      <td>1.0</td>\n",
       "    </tr>\n",
       "    <tr>\n",
       "      <th>4</th>\n",
       "      <td>AHJbjIlp98gVY3Pj</td>\n",
       "      <td>2.0</td>\n",
       "      <td>0.0</td>\n",
       "      <td>0.0</td>\n",
       "      <td>1.0</td>\n",
       "    </tr>\n",
       "  </tbody>\n",
       "</table>\n",
       "</div>"
      ],
      "text/plain": [
       "                 id    ni   nj   nk  disruption\n",
       "0  5pClePd8cdUOGQe2  37.0  0.0  0.0         1.0\n",
       "1  3MEb9LZbB80nQ1a8   1.0  0.0  0.0         1.0\n",
       "2  7TEMzPqSHWOHiojK  93.0  0.0  0.0         1.0\n",
       "3  8rCzU7kVpoJ0Z37D   1.0  0.0  0.0         1.0\n",
       "4  AHJbjIlp98gVY3Pj   2.0  0.0  0.0         1.0"
      ]
     },
     "metadata": {},
     "execution_count": 40
    }
   ],
   "metadata": {}
  },
  {
   "cell_type": "markdown",
   "source": [
    "Joining song info and song disruption datasets "
   ],
   "metadata": {}
  },
  {
   "cell_type": "code",
   "execution_count": 42,
   "source": [
    "song_info_with_disruption = pd.merge(disruption_index_df, dataframe, on='id')\n",
    "song_info_with_disruption.head()"
   ],
   "outputs": [
    {
     "output_type": "execute_result",
     "data": {
      "text/html": [
       "<div>\n",
       "<style scoped>\n",
       "    .dataframe tbody tr th:only-of-type {\n",
       "        vertical-align: middle;\n",
       "    }\n",
       "\n",
       "    .dataframe tbody tr th {\n",
       "        vertical-align: top;\n",
       "    }\n",
       "\n",
       "    .dataframe thead th {\n",
       "        text-align: right;\n",
       "    }\n",
       "</style>\n",
       "<table border=\"1\" class=\"dataframe\">\n",
       "  <thead>\n",
       "    <tr style=\"text-align: right;\">\n",
       "      <th></th>\n",
       "      <th>id</th>\n",
       "      <th>ni</th>\n",
       "      <th>nj</th>\n",
       "      <th>nk</th>\n",
       "      <th>disruption</th>\n",
       "      <th>artist</th>\n",
       "      <th>song</th>\n",
       "      <th>album_name</th>\n",
       "      <th>genres</th>\n",
       "      <th>popularity</th>\n",
       "      <th>release</th>\n",
       "      <th>duration_ms</th>\n",
       "    </tr>\n",
       "  </thead>\n",
       "  <tbody>\n",
       "    <tr>\n",
       "      <th>0</th>\n",
       "      <td>5pClePd8cdUOGQe2</td>\n",
       "      <td>37.0</td>\n",
       "      <td>0.0</td>\n",
       "      <td>0.0</td>\n",
       "      <td>1.0</td>\n",
       "      <td>Los Espíritus</td>\n",
       "      <td>Lo Echaron del Bar</td>\n",
       "      <td>Los Espíritus</td>\n",
       "      <td>latin,rock,psychedelic rock,latin,rock,psyched...</td>\n",
       "      <td>35.0</td>\n",
       "      <td>2013</td>\n",
       "      <td>268507</td>\n",
       "    </tr>\n",
       "    <tr>\n",
       "      <th>1</th>\n",
       "      <td>3MEb9LZbB80nQ1a8</td>\n",
       "      <td>1.0</td>\n",
       "      <td>0.0</td>\n",
       "      <td>0.0</td>\n",
       "      <td>1.0</td>\n",
       "      <td>Louis Armstrong</td>\n",
       "      <td>St. James Infirmary</td>\n",
       "      <td>The Complete Hot Five And Hot Seven Recordings...</td>\n",
       "      <td>jazz,blues</td>\n",
       "      <td>29.0</td>\n",
       "      <td>1928</td>\n",
       "      <td>191867</td>\n",
       "    </tr>\n",
       "    <tr>\n",
       "      <th>2</th>\n",
       "      <td>7TEMzPqSHWOHiojK</td>\n",
       "      <td>93.0</td>\n",
       "      <td>0.0</td>\n",
       "      <td>0.0</td>\n",
       "      <td>1.0</td>\n",
       "      <td>Art Tatum</td>\n",
       "      <td>Tea for Two</td>\n",
       "      <td>Piano Starts Here</td>\n",
       "      <td>jazz,jazz piano</td>\n",
       "      <td>46.0</td>\n",
       "      <td>1933</td>\n",
       "      <td>193867</td>\n",
       "    </tr>\n",
       "    <tr>\n",
       "      <th>3</th>\n",
       "      <td>8rCzU7kVpoJ0Z37D</td>\n",
       "      <td>1.0</td>\n",
       "      <td>0.0</td>\n",
       "      <td>0.0</td>\n",
       "      <td>1.0</td>\n",
       "      <td>Billie Holiday</td>\n",
       "      <td>A Fine Romance</td>\n",
       "      <td>Lady Day: The Complete Billie Holiday On Colum...</td>\n",
       "      <td>jazz,jazz,blues</td>\n",
       "      <td>24.0</td>\n",
       "      <td>1933</td>\n",
       "      <td>171467</td>\n",
       "    </tr>\n",
       "    <tr>\n",
       "      <th>4</th>\n",
       "      <td>AHJbjIlp98gVY3Pj</td>\n",
       "      <td>2.0</td>\n",
       "      <td>0.0</td>\n",
       "      <td>0.0</td>\n",
       "      <td>1.0</td>\n",
       "      <td>Billie Holiday</td>\n",
       "      <td>Gloomy Sunday</td>\n",
       "      <td>Lady Day: The Complete Billie Holiday On Colum...</td>\n",
       "      <td>jazz,blues,vocal jazz</td>\n",
       "      <td>49.0</td>\n",
       "      <td>1933</td>\n",
       "      <td>190800</td>\n",
       "    </tr>\n",
       "  </tbody>\n",
       "</table>\n",
       "</div>"
      ],
      "text/plain": [
       "                 id    ni   nj   nk  disruption           artist  \\\n",
       "0  5pClePd8cdUOGQe2  37.0  0.0  0.0         1.0    Los Espíritus   \n",
       "1  3MEb9LZbB80nQ1a8   1.0  0.0  0.0         1.0  Louis Armstrong   \n",
       "2  7TEMzPqSHWOHiojK  93.0  0.0  0.0         1.0        Art Tatum   \n",
       "3  8rCzU7kVpoJ0Z37D   1.0  0.0  0.0         1.0   Billie Holiday   \n",
       "4  AHJbjIlp98gVY3Pj   2.0  0.0  0.0         1.0   Billie Holiday   \n",
       "\n",
       "                  song                                         album_name  \\\n",
       "0   Lo Echaron del Bar                                      Los Espíritus   \n",
       "1  St. James Infirmary  The Complete Hot Five And Hot Seven Recordings...   \n",
       "2          Tea for Two                                  Piano Starts Here   \n",
       "3       A Fine Romance  Lady Day: The Complete Billie Holiday On Colum...   \n",
       "4        Gloomy Sunday  Lady Day: The Complete Billie Holiday On Colum...   \n",
       "\n",
       "                                              genres  popularity  release  \\\n",
       "0  latin,rock,psychedelic rock,latin,rock,psyched...        35.0     2013   \n",
       "1                                         jazz,blues        29.0     1928   \n",
       "2                                    jazz,jazz piano        46.0     1933   \n",
       "3                                    jazz,jazz,blues        24.0     1933   \n",
       "4                              jazz,blues,vocal jazz        49.0     1933   \n",
       "\n",
       "   duration_ms  \n",
       "0       268507  \n",
       "1       191867  \n",
       "2       193867  \n",
       "3       171467  \n",
       "4       190800  "
      ]
     },
     "metadata": {},
     "execution_count": 42
    }
   ],
   "metadata": {}
  },
  {
   "cell_type": "code",
   "execution_count": null,
   "source": [
    "song_info_with_disruption.to_csv(\"song_info_with_disruption.csv\", index=False)"
   ],
   "outputs": [],
   "metadata": {}
  },
  {
   "cell_type": "code",
   "execution_count": 17,
   "source": [
    "# sort by disruption and then ni\n",
    "sorted_x = sorted(disruption_index.items(), key=lambda kv: (kv[1][3], kv[1][0]), reverse=True)\n",
    "sorted_dict = collections.OrderedDict(sorted_x)"
   ],
   "outputs": [],
   "metadata": {}
  },
  {
   "cell_type": "code",
   "execution_count": 25,
   "source": [
    "list_of_songs = []\n",
    "for song in sorted_dict.keys():\n",
    "    #print(\"%s - %s\" % (dataframe[dataframe['id'] ==  song][['song', 'artist', \"release\"]], sorted_dict[song]))\n",
    "    list_of_songs.append(song)"
   ],
   "outputs": [],
   "metadata": {}
  },
  {
   "cell_type": "code",
   "execution_count": 26,
   "source": [
    "list_of_songs_df = dataframe[dataframe['id'].isin(list_of_songs)]\n",
    "def plot_genre_distribution(df):\n",
    "    # Needs a genre column\n",
    "    genres = \",\".join(df['genres']).split(\",\")\n",
    "    genres_count = pd.Series(genres).value_counts()\n",
    "    most_popular_genres = genres_count[:100]\n",
    "    # Plot the 15 most popular\n",
    "    ax = most_popular_genres[:15].plot.bar(title=\"Distribuição de Gêneros no dataset\")\n",
    "\n",
    "plot_genre_distribution(list_of_songs_df)"
   ],
   "outputs": [
    {
     "output_type": "display_data",
     "data": {
      "image/png": "[encoded data removed]",
      "text/plain": [
       "<Figure size 432x288 with 1 Axes>"
      ]
     },
     "metadata": {
      "needs_background": "light"
     }
    }
   ],
   "metadata": {}
  },
  {
   "cell_type": "code",
   "execution_count": 30,
   "source": [
    "dataframe[dataframe['artist'] ==  'Frank Ocean']"
   ],
   "outputs": [
    {
     "output_type": "execute_result",
     "data": {
      "text/html": [
       "<div>\n",
       "<style scoped>\n",
       "    .dataframe tbody tr th:only-of-type {\n",
       "        vertical-align: middle;\n",
       "    }\n",
       "\n",
       "    .dataframe tbody tr th {\n",
       "        vertical-align: top;\n",
       "    }\n",
       "\n",
       "    .dataframe thead th {\n",
       "        text-align: right;\n",
       "    }\n",
       "</style>\n",
       "<table border=\"1\" class=\"dataframe\">\n",
       "  <thead>\n",
       "    <tr style=\"text-align: right;\">\n",
       "      <th></th>\n",
       "      <th>id</th>\n",
       "      <th>artist</th>\n",
       "      <th>song</th>\n",
       "      <th>album_name</th>\n",
       "      <th>genres</th>\n",
       "      <th>popularity</th>\n",
       "      <th>release</th>\n",
       "      <th>duration_ms</th>\n",
       "    </tr>\n",
       "  </thead>\n",
       "  <tbody>\n",
       "    <tr>\n",
       "      <th>16708</th>\n",
       "      <td>3ZbcYuQtZUtcGtxe</td>\n",
       "      <td>Frank Ocean</td>\n",
       "      <td>Fertilizer</td>\n",
       "      <td>channel ORANGE</td>\n",
       "      <td>hip hop</td>\n",
       "      <td>51.0</td>\n",
       "      <td>2012</td>\n",
       "      <td>39640</td>\n",
       "    </tr>\n",
       "    <tr>\n",
       "      <th>16962</th>\n",
       "      <td>DEB4d9cP1YXgpOGJ</td>\n",
       "      <td>Frank Ocean</td>\n",
       "      <td>Crack Rock</td>\n",
       "      <td>channel ORANGE</td>\n",
       "      <td>soul</td>\n",
       "      <td>55.0</td>\n",
       "      <td>2012</td>\n",
       "      <td>224147</td>\n",
       "    </tr>\n",
       "    <tr>\n",
       "      <th>22224</th>\n",
       "      <td>78XDhPEcFuLGxB4t</td>\n",
       "      <td>Frank Ocean</td>\n",
       "      <td>Pretty Sweet</td>\n",
       "      <td>Blonde</td>\n",
       "      <td>experimental,noise</td>\n",
       "      <td>56.0</td>\n",
       "      <td>2016</td>\n",
       "      <td>158478</td>\n",
       "    </tr>\n",
       "    <tr>\n",
       "      <th>22323</th>\n",
       "      <td>FEI4yctSyeux0vOb</td>\n",
       "      <td>Frank Ocean</td>\n",
       "      <td>Ivy</td>\n",
       "      <td>Blonde</td>\n",
       "      <td>soul</td>\n",
       "      <td>72.0</td>\n",
       "      <td>2016</td>\n",
       "      <td>249191</td>\n",
       "    </tr>\n",
       "    <tr>\n",
       "      <th>25184</th>\n",
       "      <td>5q2bv4u2NNpv0h3o</td>\n",
       "      <td>Frank Ocean</td>\n",
       "      <td>Chanel</td>\n",
       "      <td>Chanel</td>\n",
       "      <td>hip hop,pop,art pop</td>\n",
       "      <td>73.0</td>\n",
       "      <td>2017</td>\n",
       "      <td>210285</td>\n",
       "    </tr>\n",
       "  </tbody>\n",
       "</table>\n",
       "</div>"
      ],
      "text/plain": [
       "                     id       artist          song      album_name  \\\n",
       "16708  3ZbcYuQtZUtcGtxe  Frank Ocean    Fertilizer  channel ORANGE   \n",
       "16962  DEB4d9cP1YXgpOGJ  Frank Ocean    Crack Rock  channel ORANGE   \n",
       "22224  78XDhPEcFuLGxB4t  Frank Ocean  Pretty Sweet          Blonde   \n",
       "22323  FEI4yctSyeux0vOb  Frank Ocean           Ivy          Blonde   \n",
       "25184  5q2bv4u2NNpv0h3o  Frank Ocean        Chanel          Chanel   \n",
       "\n",
       "                    genres  popularity  release  duration_ms  \n",
       "16708              hip hop        51.0     2012        39640  \n",
       "16962                 soul        55.0     2012       224147  \n",
       "22224   experimental,noise        56.0     2016       158478  \n",
       "22323                 soul        72.0     2016       249191  \n",
       "25184  hip hop,pop,art pop        73.0     2017       210285  "
      ]
     },
     "metadata": {},
     "execution_count": 30
    }
   ],
   "metadata": {}
  },
  {
   "cell_type": "code",
   "execution_count": 32,
   "source": [
    "# Using this to visualize other attributes on gephi\n",
    "dataframe_to_export = dataframe.copy(deep=True)\n",
    "dataframe_to_export['id'] = dataframe.index\n",
    "dataframe_to_export.to_csv(\"df_with_id.csv\", index=False)"
   ],
   "outputs": [],
   "metadata": {}
  },
  {
   "cell_type": "code",
   "execution_count": 38,
   "source": [
    "count = 0\n",
    "for song in sorted_dict.keys():\n",
    "    print(\"%s - %s\" % (dataframe[dataframe['id'] ==  song][['song', 'artist', \"release\"]], sorted_dict[song]))\n",
    "    count += 1\n",
    "    if count >= 10:\n",
    "        break"
   ],
   "outputs": [
    {
     "output_type": "stream",
     "name": "stdout",
     "text": [
      "                                  song                  artist  release\n",
      "1140  Nineteen Hundred And Eighty Five  Paul McCartney & Wings     1973 - [657, 0, 0, 1.0]\n",
      "             song      artist  release\n",
      "128  If I Had You  Etta Jones     1960 - [424, 0, 0, 1.0]\n",
      "             song artist  release\n",
      "315  Orange Skies   Love     1966 - [290, 0, 0, 1.0]\n",
      "              song         artist  release\n",
      "1767  Fingerprints  Leonard Cohen     1977 - [277, 0, 0, 1.0]\n",
      "                          song      artist  release\n",
      "2098  Every Woman in the World  Air Supply     1980 - [266, 0, 0, 1.0]\n",
      "                       song          artist  release\n",
      "1036  Andromeda's Suffering  Alice Coltrane     1972 - [226, 0, 0, 1.0]\n",
      "                        song       artist  release\n",
      "222  House of the Rising Sun  The Animals     1964 - [217, 0, 0, 1.0]\n",
      "       song     artist  release\n",
      "1166  Rosie  Tom Waits     1973 - [217, 0, 0, 1.0]\n",
      "                                 song     artist  release\n",
      "255  Never Met a Girl Like You Before  The Kinks     1965 - [207, 0, 0, 1.0]\n",
      "                             song       artist  release\n",
      "160  Do You Want to Know a Secret  The Beatles     1963 - [202, 0, 0, 1.0]\n"
     ]
    }
   ],
   "metadata": {}
  },
  {
   "cell_type": "code",
   "execution_count": null,
   "source": [],
   "outputs": [],
   "metadata": {}
  }
 ],
 "metadata": {
  "orig_nbformat": 4,
  "language_info": {
   "name": "python",
   "version": "3.8.10",
   "mimetype": "text/x-python",
   "codemirror_mode": {
    "name": "ipython",
    "version": 3
   },
   "pygments_lexer": "ipython3",
   "nbconvert_exporter": "python",
   "file_extension": ".py"
  },
  "kernelspec": {
   "name": "python3",
   "display_name": "Python 3.8.10 64-bit ('venv': venv)"
  },
  "interpreter": {
   "hash": "a1b5e73f98ecc5046ac4ff6f8b5b285cd0127d9ded83ed20db3ab3b6bcfe82a1"
  }
 },
 "nbformat": 4,
 "nbformat_minor": 2
}
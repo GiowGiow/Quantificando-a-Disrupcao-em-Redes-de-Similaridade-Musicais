{
 "cells": [
  {
   "cell_type": "code",
   "execution_count": 2,
   "source": [
    "import numpy as np\n",
    "import pandas as pd\n",
    "import matplotlib.pyplot as plt\n",
    "\n",
    "from pathlib import Path\n",
    "\n",
    "dataset_name = \"music4all\"\n",
    "dataset_relative_location = \"../../dataset\"\n",
    "\n",
    "dataset_path = Path(dataset_relative_location) / dataset_name\n",
    "\n",
    "datasets = {}\n",
    "\n",
    "csvsPattern = \"*.csv\"\n",
    "csvs = list(dataset_path.glob(csvsPattern))\n",
    "csvs\n",
    "\n",
    "for csv in csvs:\n",
    "    datasets[csv.stem] = pd.read_csv(csv, delimiter=\"\\t\")\n",
    "\n",
    "# Taking a look at the datasets we have\n",
    "datasets.keys()"
   ],
   "outputs": [
    {
     "output_type": "execute_result",
     "data": {
      "text/plain": [
       "dict_keys(['id_tags', 'id_metadata', 'id_information', 'listening_history', 'id_lang', 'id_genres'])"
      ]
     },
     "metadata": {},
     "execution_count": 2
    }
   ],
   "metadata": {}
  },
  {
   "cell_type": "code",
   "execution_count": 19,
   "source": [
    "listening_history = datasets[\"listening_history\"].copy(deep=True)\n",
    "listening_history"
   ],
   "outputs": [
    {
     "output_type": "execute_result",
     "data": {
      "text/plain": [
       "                  user              song         timestamp\n",
       "0        user_007XIjOr  DaTQ53TUmfP93FSr  2019-02-20 12:28\n",
       "1        user_007XIjOr  dGeyvi5WCOjDU7da  2019-02-20 12:35\n",
       "2        user_007XIjOr  qUm54NYOjeFhmKYx  2019-02-20 12:48\n",
       "3        user_007XIjOr  FtnuMT1DlevSR2n5  2019-02-20 12:52\n",
       "4        user_007XIjOr  LHETTZcSZLeaVOGh  2019-02-20 13:09\n",
       "...                ...               ...               ...\n",
       "5109587  user_zzWscYTy  BBiswLufo26YQCT7  2019-01-10 15:57\n",
       "5109588  user_zzWscYTy  5ZHgff3sjETIiedr  2019-01-10 16:21\n",
       "5109589  user_zzWscYTy  m4O1iLh6fC43xjRy  2019-01-10 16:48\n",
       "5109590  user_zzWscYTy  mvUaP8k67qOFfA65  2019-01-10 21:13\n",
       "5109591  user_zzWscYTy  BBiswLufo26YQCT7  2019-01-10 21:16\n",
       "\n",
       "[5109592 rows x 3 columns]"
      ],
      "text/html": [
       "<div>\n",
       "<style scoped>\n",
       "    .dataframe tbody tr th:only-of-type {\n",
       "        vertical-align: middle;\n",
       "    }\n",
       "\n",
       "    .dataframe tbody tr th {\n",
       "        vertical-align: top;\n",
       "    }\n",
       "\n",
       "    .dataframe thead th {\n",
       "        text-align: right;\n",
       "    }\n",
       "</style>\n",
       "<table border=\"1\" class=\"dataframe\">\n",
       "  <thead>\n",
       "    <tr style=\"text-align: right;\">\n",
       "      <th></th>\n",
       "      <th>user</th>\n",
       "      <th>song</th>\n",
       "      <th>timestamp</th>\n",
       "    </tr>\n",
       "  </thead>\n",
       "  <tbody>\n",
       "    <tr>\n",
       "      <th>0</th>\n",
       "      <td>user_007XIjOr</td>\n",
       "      <td>DaTQ53TUmfP93FSr</td>\n",
       "      <td>2019-02-20 12:28</td>\n",
       "    </tr>\n",
       "    <tr>\n",
       "      <th>1</th>\n",
       "      <td>user_007XIjOr</td>\n",
       "      <td>dGeyvi5WCOjDU7da</td>\n",
       "      <td>2019-02-20 12:35</td>\n",
       "    </tr>\n",
       "    <tr>\n",
       "      <th>2</th>\n",
       "      <td>user_007XIjOr</td>\n",
       "      <td>qUm54NYOjeFhmKYx</td>\n",
       "      <td>2019-02-20 12:48</td>\n",
       "    </tr>\n",
       "    <tr>\n",
       "      <th>3</th>\n",
       "      <td>user_007XIjOr</td>\n",
       "      <td>FtnuMT1DlevSR2n5</td>\n",
       "      <td>2019-02-20 12:52</td>\n",
       "    </tr>\n",
       "    <tr>\n",
       "      <th>4</th>\n",
       "      <td>user_007XIjOr</td>\n",
       "      <td>LHETTZcSZLeaVOGh</td>\n",
       "      <td>2019-02-20 13:09</td>\n",
       "    </tr>\n",
       "    <tr>\n",
       "      <th>...</th>\n",
       "      <td>...</td>\n",
       "      <td>...</td>\n",
       "      <td>...</td>\n",
       "    </tr>\n",
       "    <tr>\n",
       "      <th>5109587</th>\n",
       "      <td>user_zzWscYTy</td>\n",
       "      <td>BBiswLufo26YQCT7</td>\n",
       "      <td>2019-01-10 15:57</td>\n",
       "    </tr>\n",
       "    <tr>\n",
       "      <th>5109588</th>\n",
       "      <td>user_zzWscYTy</td>\n",
       "      <td>5ZHgff3sjETIiedr</td>\n",
       "      <td>2019-01-10 16:21</td>\n",
       "    </tr>\n",
       "    <tr>\n",
       "      <th>5109589</th>\n",
       "      <td>user_zzWscYTy</td>\n",
       "      <td>m4O1iLh6fC43xjRy</td>\n",
       "      <td>2019-01-10 16:48</td>\n",
       "    </tr>\n",
       "    <tr>\n",
       "      <th>5109590</th>\n",
       "      <td>user_zzWscYTy</td>\n",
       "      <td>mvUaP8k67qOFfA65</td>\n",
       "      <td>2019-01-10 21:13</td>\n",
       "    </tr>\n",
       "    <tr>\n",
       "      <th>5109591</th>\n",
       "      <td>user_zzWscYTy</td>\n",
       "      <td>BBiswLufo26YQCT7</td>\n",
       "      <td>2019-01-10 21:16</td>\n",
       "    </tr>\n",
       "  </tbody>\n",
       "</table>\n",
       "<p>5109592 rows × 3 columns</p>\n",
       "</div>"
      ]
     },
     "metadata": {},
     "execution_count": 19
    }
   ],
   "metadata": {}
  },
  {
   "cell_type": "code",
   "execution_count": 9,
   "source": [
    "import pickle\n",
    "# Loading disruption index:\n",
    "\n",
    "with open('dataset/disruption_index/transfer-learning-disruption-index-gamma-0-1.pickle', 'rb') as handle:\n",
    "    disruption_index_dict = pickle.load(handle)"
   ],
   "outputs": [],
   "metadata": {}
  },
  {
   "cell_type": "code",
   "execution_count": 14,
   "source": [
    "\n",
    "from collections import OrderedDict\n",
    "\n",
    "def sort_disruption_dict(disruption_dict):\n",
    "    # [ni, nj, nk, float((ni-nj)) / float((ni+nj+nk))]\n",
    "    sorting = sorted(disruption_index_dict.items(), key=lambda kv: (kv[1][3], kv[1][0]), reverse=True)\n",
    "    return OrderedDict(sorting)\n",
    "\n",
    "ordered_disruption_dict = sort_disruption_dict(disruption_index_dict)"
   ],
   "outputs": [],
   "metadata": {}
  },
  {
   "cell_type": "code",
   "execution_count": 20,
   "source": [
    "\n",
    "\n",
    "for index, row in listening_history.iterrows():\n",
    "    print(row['user'], row['song'])\n",
    "    break\n",
    "\n",
    "ordered_disruption_dict[\"7DQI6hI5KiggQHkB\"]"
   ],
   "outputs": [
    {
     "output_type": "stream",
     "name": "stdout",
     "text": [
      "user_007XIjOr DaTQ53TUmfP93FSr\n"
     ]
    },
    {
     "output_type": "execute_result",
     "data": {
      "text/plain": [
       "[657, 0, 0, 1.0]"
      ]
     },
     "metadata": {},
     "execution_count": 20
    }
   ],
   "metadata": {}
  },
  {
   "cell_type": "code",
   "execution_count": 34,
   "source": [
    "grouped_users = listening_history.groupby(\"user\")\n",
    "\n",
    "user_set = set()\n",
    "\n",
    "# Check for users that listened at least one of the songs in the partitioned dataset\n",
    "for user, songs_listened_by_user in grouped_users:\n",
    "    for _, row in songs_listened_by_user.iterrows():\n",
    "        if row[\"song\"] in ordered_disruption_dict:\n",
    "            user_set.add(user)\n",
    "            break"
   ],
   "outputs": [],
   "metadata": {}
  },
  {
   "cell_type": "code",
   "execution_count": 42,
   "source": [
    "len(user_set)"
   ],
   "outputs": [
    {
     "output_type": "execute_result",
     "data": {
      "text/plain": [
       "14113"
      ]
     },
     "metadata": {},
     "execution_count": 42
    }
   ],
   "metadata": {}
  },
  {
   "cell_type": "code",
   "execution_count": 41,
   "source": [
    "len(pd.unique(listening_history[\"user\"]))"
   ],
   "outputs": [
    {
     "output_type": "execute_result",
     "data": {
      "text/plain": [
       "0.9990089898775395"
      ]
     },
     "metadata": {},
     "execution_count": 41
    }
   ],
   "metadata": {}
  },
  {
   "cell_type": "code",
   "execution_count": null,
   "source": [],
   "outputs": [],
   "metadata": {}
  }
 ],
 "metadata": {
  "orig_nbformat": 4,
  "language_info": {
   "name": "python",
   "version": "3.8.10",
   "mimetype": "text/x-python",
   "codemirror_mode": {
    "name": "ipython",
    "version": 3
   },
   "pygments_lexer": "ipython3",
   "nbconvert_exporter": "python",
   "file_extension": ".py"
  },
  "kernelspec": {
   "name": "python3",
   "display_name": "Python 3.8.10 64-bit ('venv': venv)"
  },
  "interpreter": {
   "hash": "5011be7a47e1e13ca54e74193af96a944194234ccbc7f55e408de2ef70abf28e"
  }
 },
 "nbformat": 4,
 "nbformat_minor": 2
}
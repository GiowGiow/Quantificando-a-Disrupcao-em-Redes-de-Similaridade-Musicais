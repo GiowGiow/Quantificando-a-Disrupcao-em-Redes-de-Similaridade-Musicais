{
 "cells": [
  {
   "cell_type": "code",
   "execution_count": 1,
   "metadata": {
    "scrolled": true
   },
   "outputs": [],
   "source": [
    "import numpy as np\n",
    "import pandas as pd\n",
    "import matplotlib.pyplot as plt\n",
    "\n",
    "from pathlib import Path\n",
    "\n",
    "# IPython Magic Functions\n",
    "# will make plot outputs appear and be stored within the notebook.\n",
    "%matplotlib inline \n",
    "\n",
    "# Defaults fot better plots\n",
    "plt.rcParams['figure.figsize']  = (18, 10)\n",
    "plt.rcParams['axes.labelsize']  = 20\n",
    "plt.rcParams['axes.titlesize']  = 20\n",
    "plt.rcParams['legend.fontsize'] = 20\n",
    "plt.rcParams['xtick.labelsize'] = 20\n",
    "plt.rcParams['ytick.labelsize'] = 20\n",
    "plt.rcParams['lines.linewidth'] = 4\n",
    "\n",
    "# Turn on interactive mode\n",
    "plt.ion() \n",
    "plt.style.use('seaborn-colorblind')\n",
    "plt.rcParams['figure.figsize']  = (12, 8)"
   ]
  },
  {
   "cell_type": "markdown",
   "metadata": {},
   "source": [
    "# Loading datasets into Dataframes"
   ]
  },
  {
   "cell_type": "code",
   "execution_count": 2,
   "metadata": {},
   "outputs": [],
   "source": [
    "dataset_name = \"music4all\"\n",
    "dataset_relative_location = \"./dataset\"\n",
    "\n",
    "dataset_path = Path(dataset_relative_location) / dataset_name"
   ]
  },
  {
   "cell_type": "code",
   "execution_count": 3,
   "metadata": {},
   "outputs": [
    {
     "data": {
      "text/plain": "[PosixPath('dataset/music4all/id_tags.csv'),\n PosixPath('dataset/music4all/id_genres.csv'),\n PosixPath('dataset/music4all/id_lang.csv'),\n PosixPath('dataset/music4all/listening_history.csv'),\n PosixPath('dataset/music4all/id_metadata.csv'),\n PosixPath('dataset/music4all/id_information.csv')]"
     },
     "execution_count": 3,
     "metadata": {},
     "output_type": "execute_result"
    }
   ],
   "source": [
    "### Get datset CSVs\n",
    "csvsPattern = \"*.csv\"\n",
    "csvs = list(dataset_path.glob(csvsPattern))\n",
    "csvs"
   ]
  },
  {
   "cell_type": "code",
   "execution_count": 4,
   "metadata": {},
   "outputs": [],
   "source": [
    "datasets = {}\n",
    "\n",
    "for csv in csvs:\n",
    "    datasets[csv.stem] = pd.read_csv(csv, delimiter=\"\\t\")"
   ]
  },
  {
   "cell_type": "code",
   "execution_count": 5,
   "metadata": {},
   "outputs": [
    {
     "data": {
      "text/plain": "dict_keys(['id_tags', 'id_genres', 'id_lang', 'listening_history', 'id_metadata', 'id_information'])"
     },
     "execution_count": 5,
     "metadata": {},
     "output_type": "execute_result"
    }
   ],
   "source": [
    "# Taking a look at the datasets we have\n",
    "datasets.keys()"
   ]
  },
  {
   "cell_type": "code",
   "execution_count": 6,
   "metadata": {},
   "outputs": [],
   "source": [
    "listening_history_copy = datasets['listening_history'].copy(deep=True)"
   ]
  },
  {
   "cell_type": "code",
   "execution_count": 7,
   "metadata": {},
   "outputs": [
    {
     "data": {
      "text/html": "<div>\n<style scoped>\n    .dataframe tbody tr th:only-of-type {\n        vertical-align: middle;\n    }\n\n    .dataframe tbody tr th {\n        vertical-align: top;\n    }\n\n    .dataframe thead th {\n        text-align: right;\n    }\n</style>\n<table border=\"1\" class=\"dataframe\">\n  <thead>\n    <tr style=\"text-align: right;\">\n      <th></th>\n      <th>user</th>\n      <th>id</th>\n      <th>timestamp</th>\n    </tr>\n  </thead>\n  <tbody>\n    <tr>\n      <th>0</th>\n      <td>user_007XIjOr</td>\n      <td>DaTQ53TUmfP93FSr</td>\n      <td>2019-02-20 12:28</td>\n    </tr>\n    <tr>\n      <th>1</th>\n      <td>user_007XIjOr</td>\n      <td>dGeyvi5WCOjDU7da</td>\n      <td>2019-02-20 12:35</td>\n    </tr>\n    <tr>\n      <th>2</th>\n      <td>user_007XIjOr</td>\n      <td>qUm54NYOjeFhmKYx</td>\n      <td>2019-02-20 12:48</td>\n    </tr>\n    <tr>\n      <th>3</th>\n      <td>user_007XIjOr</td>\n      <td>FtnuMT1DlevSR2n5</td>\n      <td>2019-02-20 12:52</td>\n    </tr>\n    <tr>\n      <th>4</th>\n      <td>user_007XIjOr</td>\n      <td>LHETTZcSZLeaVOGh</td>\n      <td>2019-02-20 13:09</td>\n    </tr>\n    <tr>\n      <th>...</th>\n      <td>...</td>\n      <td>...</td>\n      <td>...</td>\n    </tr>\n    <tr>\n      <th>5109587</th>\n      <td>user_zzWscYTy</td>\n      <td>BBiswLufo26YQCT7</td>\n      <td>2019-01-10 15:57</td>\n    </tr>\n    <tr>\n      <th>5109588</th>\n      <td>user_zzWscYTy</td>\n      <td>5ZHgff3sjETIiedr</td>\n      <td>2019-01-10 16:21</td>\n    </tr>\n    <tr>\n      <th>5109589</th>\n      <td>user_zzWscYTy</td>\n      <td>m4O1iLh6fC43xjRy</td>\n      <td>2019-01-10 16:48</td>\n    </tr>\n    <tr>\n      <th>5109590</th>\n      <td>user_zzWscYTy</td>\n      <td>mvUaP8k67qOFfA65</td>\n      <td>2019-01-10 21:13</td>\n    </tr>\n    <tr>\n      <th>5109591</th>\n      <td>user_zzWscYTy</td>\n      <td>BBiswLufo26YQCT7</td>\n      <td>2019-01-10 21:16</td>\n    </tr>\n  </tbody>\n</table>\n<p>5109592 rows × 3 columns</p>\n</div>",
      "text/plain": "                  user                id         timestamp\n0        user_007XIjOr  DaTQ53TUmfP93FSr  2019-02-20 12:28\n1        user_007XIjOr  dGeyvi5WCOjDU7da  2019-02-20 12:35\n2        user_007XIjOr  qUm54NYOjeFhmKYx  2019-02-20 12:48\n3        user_007XIjOr  FtnuMT1DlevSR2n5  2019-02-20 12:52\n4        user_007XIjOr  LHETTZcSZLeaVOGh  2019-02-20 13:09\n...                ...               ...               ...\n5109587  user_zzWscYTy  BBiswLufo26YQCT7  2019-01-10 15:57\n5109588  user_zzWscYTy  5ZHgff3sjETIiedr  2019-01-10 16:21\n5109589  user_zzWscYTy  m4O1iLh6fC43xjRy  2019-01-10 16:48\n5109590  user_zzWscYTy  mvUaP8k67qOFfA65  2019-01-10 21:13\n5109591  user_zzWscYTy  BBiswLufo26YQCT7  2019-01-10 21:16\n\n[5109592 rows x 3 columns]"
     },
     "execution_count": 7,
     "metadata": {},
     "output_type": "execute_result"
    }
   ],
   "source": [
    "# Renaming the column to ID so we can merge with the song info dataset\n",
    "listening_history_copy.rename(columns={\"song\":\"id\"}, inplace=True)\n",
    "listening_history_copy"
   ]
  },
  {
   "cell_type": "code",
   "execution_count": 8,
   "metadata": {},
   "outputs": [
    {
     "data": {
      "text/html": "<div>\n<style scoped>\n    .dataframe tbody tr th:only-of-type {\n        vertical-align: middle;\n    }\n\n    .dataframe tbody tr th {\n        vertical-align: top;\n    }\n\n    .dataframe thead th {\n        text-align: right;\n    }\n</style>\n<table border=\"1\" class=\"dataframe\">\n  <thead>\n    <tr style=\"text-align: right;\">\n      <th></th>\n      <th>id</th>\n      <th>artist</th>\n      <th>song</th>\n      <th>album_name</th>\n      <th>genres</th>\n      <th>popularity</th>\n      <th>release</th>\n      <th>user</th>\n      <th>timestamp</th>\n    </tr>\n  </thead>\n  <tbody>\n    <tr>\n      <th>0</th>\n      <td>0009fFIM1eYThaPg</td>\n      <td>Cheryl</td>\n      <td>Rain on Me</td>\n      <td>3 Words</td>\n      <td>pop</td>\n      <td>12.0</td>\n      <td>2009</td>\n      <td>user_39RWe73b</td>\n      <td>2019-01-06 16:56</td>\n    </tr>\n    <tr>\n      <th>1</th>\n      <td>0009fFIM1eYThaPg</td>\n      <td>Cheryl</td>\n      <td>Rain on Me</td>\n      <td>3 Words</td>\n      <td>pop</td>\n      <td>12.0</td>\n      <td>2009</td>\n      <td>user_6golQVBC</td>\n      <td>2019-02-13 11:47</td>\n    </tr>\n    <tr>\n      <th>2</th>\n      <td>0009fFIM1eYThaPg</td>\n      <td>Cheryl</td>\n      <td>Rain on Me</td>\n      <td>3 Words</td>\n      <td>pop</td>\n      <td>12.0</td>\n      <td>2009</td>\n      <td>user_95s7ZWFG</td>\n      <td>2019-02-11 11:36</td>\n    </tr>\n    <tr>\n      <th>3</th>\n      <td>0009fFIM1eYThaPg</td>\n      <td>Cheryl</td>\n      <td>Rain on Me</td>\n      <td>3 Words</td>\n      <td>pop</td>\n      <td>12.0</td>\n      <td>2009</td>\n      <td>user_Avd2E7q2</td>\n      <td>2019-01-07 21:34</td>\n    </tr>\n    <tr>\n      <th>4</th>\n      <td>0009fFIM1eYThaPg</td>\n      <td>Cheryl</td>\n      <td>Rain on Me</td>\n      <td>3 Words</td>\n      <td>pop</td>\n      <td>12.0</td>\n      <td>2009</td>\n      <td>user_CmTctYpP</td>\n      <td>2019-02-27 17:41</td>\n    </tr>\n    <tr>\n      <th>...</th>\n      <td>...</td>\n      <td>...</td>\n      <td>...</td>\n      <td>...</td>\n      <td>...</td>\n      <td>...</td>\n      <td>...</td>\n      <td>...</td>\n      <td>...</td>\n    </tr>\n    <tr>\n      <th>5109587</th>\n      <td>zzzwh2ktIWjsR7xp</td>\n      <td>Snow Patrol</td>\n      <td>In the End</td>\n      <td>Fallen Empires</td>\n      <td>indie rock,alternative rock,rock</td>\n      <td>27.0</td>\n      <td>2011</td>\n      <td>user_MzHAWiW5</td>\n      <td>2019-01-21 08:59</td>\n    </tr>\n    <tr>\n      <th>5109588</th>\n      <td>zzzwh2ktIWjsR7xp</td>\n      <td>Snow Patrol</td>\n      <td>In the End</td>\n      <td>Fallen Empires</td>\n      <td>indie rock,alternative rock,rock</td>\n      <td>27.0</td>\n      <td>2011</td>\n      <td>user_MzHAWiW5</td>\n      <td>2019-01-30 19:30</td>\n    </tr>\n    <tr>\n      <th>5109589</th>\n      <td>zzzwh2ktIWjsR7xp</td>\n      <td>Snow Patrol</td>\n      <td>In the End</td>\n      <td>Fallen Empires</td>\n      <td>indie rock,alternative rock,rock</td>\n      <td>27.0</td>\n      <td>2011</td>\n      <td>user_b5Xfilqj</td>\n      <td>2019-02-17 17:11</td>\n    </tr>\n    <tr>\n      <th>5109590</th>\n      <td>zzzwh2ktIWjsR7xp</td>\n      <td>Snow Patrol</td>\n      <td>In the End</td>\n      <td>Fallen Empires</td>\n      <td>indie rock,alternative rock,rock</td>\n      <td>27.0</td>\n      <td>2011</td>\n      <td>user_dowNLkkH</td>\n      <td>2019-01-06 11:43</td>\n    </tr>\n    <tr>\n      <th>5109591</th>\n      <td>zzzwh2ktIWjsR7xp</td>\n      <td>Snow Patrol</td>\n      <td>In the End</td>\n      <td>Fallen Empires</td>\n      <td>indie rock,alternative rock,rock</td>\n      <td>27.0</td>\n      <td>2011</td>\n      <td>user_jxzwTrtk</td>\n      <td>2019-03-07 19:54</td>\n    </tr>\n  </tbody>\n</table>\n<p>5109592 rows × 9 columns</p>\n</div>",
      "text/plain": "                       id       artist        song      album_name  \\\n0        0009fFIM1eYThaPg       Cheryl  Rain on Me         3 Words   \n1        0009fFIM1eYThaPg       Cheryl  Rain on Me         3 Words   \n2        0009fFIM1eYThaPg       Cheryl  Rain on Me         3 Words   \n3        0009fFIM1eYThaPg       Cheryl  Rain on Me         3 Words   \n4        0009fFIM1eYThaPg       Cheryl  Rain on Me         3 Words   \n...                   ...          ...         ...             ...   \n5109587  zzzwh2ktIWjsR7xp  Snow Patrol  In the End  Fallen Empires   \n5109588  zzzwh2ktIWjsR7xp  Snow Patrol  In the End  Fallen Empires   \n5109589  zzzwh2ktIWjsR7xp  Snow Patrol  In the End  Fallen Empires   \n5109590  zzzwh2ktIWjsR7xp  Snow Patrol  In the End  Fallen Empires   \n5109591  zzzwh2ktIWjsR7xp  Snow Patrol  In the End  Fallen Empires   \n\n                                   genres  popularity  release           user  \\\n0                                     pop        12.0     2009  user_39RWe73b   \n1                                     pop        12.0     2009  user_6golQVBC   \n2                                     pop        12.0     2009  user_95s7ZWFG   \n3                                     pop        12.0     2009  user_Avd2E7q2   \n4                                     pop        12.0     2009  user_CmTctYpP   \n...                                   ...         ...      ...            ...   \n5109587  indie rock,alternative rock,rock        27.0     2011  user_MzHAWiW5   \n5109588  indie rock,alternative rock,rock        27.0     2011  user_MzHAWiW5   \n5109589  indie rock,alternative rock,rock        27.0     2011  user_b5Xfilqj   \n5109590  indie rock,alternative rock,rock        27.0     2011  user_dowNLkkH   \n5109591  indie rock,alternative rock,rock        27.0     2011  user_jxzwTrtk   \n\n                timestamp  \n0        2019-01-06 16:56  \n1        2019-02-13 11:47  \n2        2019-02-11 11:36  \n3        2019-01-07 21:34  \n4        2019-02-27 17:41  \n...                   ...  \n5109587  2019-01-21 08:59  \n5109588  2019-01-30 19:30  \n5109589  2019-02-17 17:11  \n5109590  2019-01-06 11:43  \n5109591  2019-03-07 19:54  \n\n[5109592 rows x 9 columns]"
     },
     "execution_count": 8,
     "metadata": {},
     "output_type": "execute_result"
    }
   ],
   "source": [
    "song_info = pd.merge(datasets['id_information'], datasets['id_genres'], on='id')\n",
    "song_info = pd.merge(song_info, datasets['id_metadata'], on='id') # has release date info\n",
    "selected_song_info = song_info.drop(columns=[\"spotify_id\", \"danceability\", \"energy\", \"key\", \"mode\", \"valence\", \"tempo\", \"duration_ms\"])\n",
    "listening_history_complete = pd.merge(selected_song_info, listening_history_copy, on='id')\n",
    "listening_history_complete"
   ]
  },
  {
   "cell_type": "code",
   "execution_count": 9,
   "metadata": {},
   "outputs": [
    {
     "data": {
      "text/plain": "0         2019-01-06 16:56:00\n1         2019-02-13 11:47:00\n2         2019-02-11 11:36:00\n3         2019-01-07 21:34:00\n4         2019-02-27 17:41:00\n                  ...        \n5109587   2019-01-21 08:59:00\n5109588   2019-01-30 19:30:00\n5109589   2019-02-17 17:11:00\n5109590   2019-01-06 11:43:00\n5109591   2019-03-07 19:54:00\nName: timestamp, Length: 5109592, dtype: datetime64[ns]"
     },
     "execution_count": 9,
     "metadata": {},
     "output_type": "execute_result"
    }
   ],
   "source": [
    "pd.to_datetime(listening_history_complete[\"timestamp\"], format=\"%Y-%m-%d %H:%M\")\n",
    "#selected_song_info.query(\"user == 'user_39RWe73b'\").sort_values(by=[\"timestamp\"])[\"song\"].to_list()\n"
   ]
  },
  {
   "cell_type": "code",
   "execution_count": 10,
   "metadata": {},
   "outputs": [],
   "source": [
    "# Sorting dataset so any query will result in the correct order for users\n",
    "listening_history_complete = listening_history_complete.sort_values(by=[\"timestamp\"])"
   ]
  },
  {
   "cell_type": "code",
   "execution_count": 13,
   "metadata": {},
   "outputs": [],
   "source": [
    "def get_user_song_list(user, max_songs=50):\n",
    "    return listening_history_complete.query(f\"user == '{user}'\")[\"song\"].to_list()[:max_songs]\n",
    "\n",
    "def get_user_song_id_list(max_songs=50):\n",
    "    return listening_history_complete.query(\"user == 'user_39RWe73b'\")[\"id\"].to_list()[:max_songs]"
   ]
  },
  {
   "cell_type": "code",
   "execution_count": 14,
   "metadata": {},
   "outputs": [
    {
     "name": "stderr",
     "output_type": "stream",
     "text": [
      "100%|██████████| 14127/14127 [39:07<00:00,  6.02it/s]\n"
     ]
    }
   ],
   "source": [
    "from tqdm import tqdm\n",
    "\n",
    "unique_users = listening_history_complete[\"user\"].unique()\n",
    "\n",
    "listening_history_ngram = []\n",
    "\n",
    "count = 0\n",
    "\n",
    "for user in tqdm(unique_users[:]):\n",
    "    listening_history_ngram.append(get_user_song_list(user))"
   ]
  },
  {
   "cell_type": "code",
   "execution_count": 15,
   "metadata": {},
   "outputs": [
    {
     "data": {
      "text/plain": "14127"
     },
     "execution_count": 15,
     "metadata": {},
     "output_type": "execute_result"
    }
   ],
   "source": [
    "len(listening_history_ngram)"
   ]
  },
  {
   "cell_type": "code",
   "execution_count": 16,
   "metadata": {},
   "outputs": [],
   "source": [
    "with open(f\"listening_history_{len(listening_history_ngram)}.ngram\", \"w\") as file:\n",
    "    for row in listening_history_ngram:\n",
    "        file.write(','.join([str(a) for a in row]) + '\\n')"
   ]
  },
  {
   "cell_type": "code",
   "execution_count": null,
   "metadata": {},
   "outputs": [],
   "source": []
  }
 ],
 "metadata": {
  "kernelspec": {
   "display_name": "Python 3.8.6 64-bit ('venv': venv)",
   "language": "python",
   "name": "python386jvsc74a57bd08762cd49cb32eb61accd4f8ea3c9cbf9341391e1bfedbe7c80265e104529b74a"
  },
  "language_info": {
   "codemirror_mode": {
    "name": "ipython",
    "version": 3
   },
   "file_extension": ".py",
   "mimetype": "text/x-python",
   "name": "python",
   "nbconvert_exporter": "python",
   "pygments_lexer": "ipython3",
   "version": "3.8.6"
  },
  "orig_nbformat": 2
 },
 "nbformat": 4,
 "nbformat_minor": 2
}
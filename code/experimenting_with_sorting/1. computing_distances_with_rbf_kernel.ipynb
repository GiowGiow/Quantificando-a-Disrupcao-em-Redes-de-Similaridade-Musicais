{
 "cells": [
  {
   "cell_type": "markdown",
   "source": [
    "# Computing distances with RBF Kernel"
   ],
   "metadata": {}
  },
  {
   "cell_type": "markdown",
   "source": [
    "### This are the steps to calculate the disruption:\n",
    "1. Extract the feature representation of the audio\n",
    "2. Calculate the \"distance\" for each song against any other song and store this result (in a matrix)\n",
    "3. Use this \"distance\" or \"similarity\" matrix to build the network\n",
    "\n",
    "As the dataset is too big to use in its entirety, we use 1/3 of it (as it is the limit I can use to compute)\n",
    "\n",
    "Ps. When visualizing in EDA it seems that the cut dataset still is a good representation of the complete dataset"
   ],
   "metadata": {}
  },
  {
   "cell_type": "markdown",
   "source": [
    "### Loading dataset\n",
    "\n",
    "The first step is to load the dataset"
   ],
   "metadata": {}
  },
  {
   "cell_type": "code",
   "execution_count": 2,
   "source": [
    "import numpy as np\n",
    "import pandas as pd\n",
    "from tqdm import tqdm\n",
    "import matplotlib.pyplot as plt\n",
    "from pathlib import Path"
   ],
   "outputs": [],
   "metadata": {}
  },
  {
   "cell_type": "markdown",
   "source": [
    "This treated dataset contains the id, artists, song, album name, genres list, popularity, release and duration of each song"
   ],
   "metadata": {}
  },
  {
   "cell_type": "markdown",
   "source": [
    "# In this experiment we are ordering and then selecting the first 30000 songs, that way our amostration is skewed so it doesn't represent the full dataset.\n",
    "# but in comparison it can inform us a lot more until 2002 (which is the release year for the last song partitioning this way)"
   ],
   "metadata": {}
  },
  {
   "cell_type": "code",
   "execution_count": 3,
   "source": [
    "dataset_size = 30001\n",
    "feat_type = \"transfer_learning\"\n",
    "\n",
    "DATASETS_FOLDER = Path(\"../dataset\")\n",
    "DATAFRAME_PATH = DATASETS_FOLDER / \"cleaned_datasets\" \n",
    "DF_FILENAME = f\"cleaned_song_info_109178_entries.csv\"\n",
    "\n",
    "dataframe = pd.read_csv(DATAFRAME_PATH / DF_FILENAME)\n",
    "print(f\"columns: {dataframe.columns}\\nsize: {len(dataframe)}\")"
   ],
   "outputs": [
    {
     "output_type": "stream",
     "name": "stdout",
     "text": [
      "columns: Index(['id', 'artist', 'song', 'album_name', 'genres', 'spotify_id',\n",
      "       'popularity', 'release', 'danceability', 'energy', 'key', 'mode',\n",
      "       'valence', 'tempo', 'duration_ms'],\n",
      "      dtype='object')\n",
      "size: 109178\n"
     ]
    }
   ],
   "metadata": {}
  },
  {
   "cell_type": "markdown",
   "source": [
    "To work with our dataframe a good practice is to make a copy of it so we do not modify the original one"
   ],
   "metadata": {}
  },
  {
   "cell_type": "code",
   "execution_count": 4,
   "source": [
    "# Copy the dataframe\n",
    "working_dataframe = dataframe.copy(deep=True)"
   ],
   "outputs": [],
   "metadata": {}
  },
  {
   "cell_type": "markdown",
   "source": [
    "We'll have to fix some wrong release dates before we work with this dataset"
   ],
   "metadata": {}
  },
  {
   "cell_type": "code",
   "execution_count": 8,
   "source": [
    "# Sort the dataframe by release date (as this is going to be important when generating the similarity matrix)\n",
    "dataframe_sorted = working_dataframe.sort_values(by=['release'])\n",
    "dataframe_sorted = dataframe_sorted[:dataset_size]\n",
    "dataframe_sorted.head()"
   ],
   "outputs": [
    {
     "output_type": "execute_result",
     "data": {
      "text/html": [
       "<div>\n",
       "<style scoped>\n",
       "    .dataframe tbody tr th:only-of-type {\n",
       "        vertical-align: middle;\n",
       "    }\n",
       "\n",
       "    .dataframe tbody tr th {\n",
       "        vertical-align: top;\n",
       "    }\n",
       "\n",
       "    .dataframe thead th {\n",
       "        text-align: right;\n",
       "    }\n",
       "</style>\n",
       "<table border=\"1\" class=\"dataframe\">\n",
       "  <thead>\n",
       "    <tr style=\"text-align: right;\">\n",
       "      <th></th>\n",
       "      <th>id</th>\n",
       "      <th>artist</th>\n",
       "      <th>song</th>\n",
       "      <th>album_name</th>\n",
       "      <th>genres</th>\n",
       "      <th>spotify_id</th>\n",
       "      <th>popularity</th>\n",
       "      <th>release</th>\n",
       "      <th>danceability</th>\n",
       "      <th>energy</th>\n",
       "      <th>key</th>\n",
       "      <th>mode</th>\n",
       "      <th>valence</th>\n",
       "      <th>tempo</th>\n",
       "      <th>duration_ms</th>\n",
       "    </tr>\n",
       "  </thead>\n",
       "  <tbody>\n",
       "    <tr>\n",
       "      <th>88900</th>\n",
       "      <td>oXEbiIPUippqpNjc</td>\n",
       "      <td>Bessie Smith</td>\n",
       "      <td>Nobody Knows You When You're Down and Out</td>\n",
       "      <td>The Best of Bessie Smith</td>\n",
       "      <td>blues,jazz</td>\n",
       "      <td>2wAfHM7Whz67VFbdanhZlk</td>\n",
       "      <td>43.0</td>\n",
       "      <td>1923</td>\n",
       "      <td>0.614</td>\n",
       "      <td>0.0423</td>\n",
       "      <td>4.0</td>\n",
       "      <td>1.0</td>\n",
       "      <td>0.211</td>\n",
       "      <td>89.822</td>\n",
       "      <td>177133</td>\n",
       "    </tr>\n",
       "    <tr>\n",
       "      <th>47168</th>\n",
       "      <td>QjxUmiXnnXxYDt72</td>\n",
       "      <td>Fats Waller</td>\n",
       "      <td>Ain't Misbehavin'</td>\n",
       "      <td>If You Got To Ask, You Ain't Got It!</td>\n",
       "      <td>jazz</td>\n",
       "      <td>3BFRqZFLSrqtQr6cjHbAxU</td>\n",
       "      <td>37.0</td>\n",
       "      <td>1926</td>\n",
       "      <td>0.515</td>\n",
       "      <td>0.2220</td>\n",
       "      <td>0.0</td>\n",
       "      <td>0.0</td>\n",
       "      <td>0.350</td>\n",
       "      <td>98.358</td>\n",
       "      <td>237773</td>\n",
       "    </tr>\n",
       "    <tr>\n",
       "      <th>67033</th>\n",
       "      <td>c94tTSauKXFhFJDI</td>\n",
       "      <td>Blind Willie Johnson</td>\n",
       "      <td>Let Your Light Shine On Me</td>\n",
       "      <td>Dark Was The Night (Mojo Workin'- Blues For Th...</td>\n",
       "      <td>blues,gospel,gospel blues</td>\n",
       "      <td>51qp3WsYjiDuBhzR7AON69</td>\n",
       "      <td>24.0</td>\n",
       "      <td>1928</td>\n",
       "      <td>0.439</td>\n",
       "      <td>0.2150</td>\n",
       "      <td>7.0</td>\n",
       "      <td>1.0</td>\n",
       "      <td>0.440</td>\n",
       "      <td>165.549</td>\n",
       "      <td>188373</td>\n",
       "    </tr>\n",
       "    <tr>\n",
       "      <th>5986</th>\n",
       "      <td>3MEb9LZbB80nQ1a8</td>\n",
       "      <td>Louis Armstrong</td>\n",
       "      <td>St. James Infirmary</td>\n",
       "      <td>The Complete Hot Five And Hot Seven Recordings...</td>\n",
       "      <td>jazz,blues</td>\n",
       "      <td>7fAa9rz4UmwuB4AGh50Gmp</td>\n",
       "      <td>29.0</td>\n",
       "      <td>1928</td>\n",
       "      <td>0.693</td>\n",
       "      <td>0.1820</td>\n",
       "      <td>5.0</td>\n",
       "      <td>0.0</td>\n",
       "      <td>0.588</td>\n",
       "      <td>116.508</td>\n",
       "      <td>191867</td>\n",
       "    </tr>\n",
       "    <tr>\n",
       "      <th>75336</th>\n",
       "      <td>gq0GkmZzoepZzQm3</td>\n",
       "      <td>Blind Willie Johnson</td>\n",
       "      <td>Dark Was the Night, Cold Was the Ground</td>\n",
       "      <td>Dark Was The Night (Mojo Workin'- Blues For Th...</td>\n",
       "      <td>blues,delta blues</td>\n",
       "      <td>2P9nh9pTK96dE0b6NBbTSs</td>\n",
       "      <td>43.0</td>\n",
       "      <td>1928</td>\n",
       "      <td>0.394</td>\n",
       "      <td>0.0406</td>\n",
       "      <td>9.0</td>\n",
       "      <td>1.0</td>\n",
       "      <td>0.200</td>\n",
       "      <td>116.117</td>\n",
       "      <td>198560</td>\n",
       "    </tr>\n",
       "  </tbody>\n",
       "</table>\n",
       "</div>"
      ],
      "text/plain": [
       "                     id                artist  \\\n",
       "88900  oXEbiIPUippqpNjc          Bessie Smith   \n",
       "47168  QjxUmiXnnXxYDt72           Fats Waller   \n",
       "67033  c94tTSauKXFhFJDI  Blind Willie Johnson   \n",
       "5986   3MEb9LZbB80nQ1a8       Louis Armstrong   \n",
       "75336  gq0GkmZzoepZzQm3  Blind Willie Johnson   \n",
       "\n",
       "                                            song  \\\n",
       "88900  Nobody Knows You When You're Down and Out   \n",
       "47168                          Ain't Misbehavin'   \n",
       "67033                 Let Your Light Shine On Me   \n",
       "5986                         St. James Infirmary   \n",
       "75336    Dark Was the Night, Cold Was the Ground   \n",
       "\n",
       "                                              album_name  \\\n",
       "88900                           The Best of Bessie Smith   \n",
       "47168               If You Got To Ask, You Ain't Got It!   \n",
       "67033  Dark Was The Night (Mojo Workin'- Blues For Th...   \n",
       "5986   The Complete Hot Five And Hot Seven Recordings...   \n",
       "75336  Dark Was The Night (Mojo Workin'- Blues For Th...   \n",
       "\n",
       "                          genres              spotify_id  popularity  release  \\\n",
       "88900                 blues,jazz  2wAfHM7Whz67VFbdanhZlk        43.0     1923   \n",
       "47168                       jazz  3BFRqZFLSrqtQr6cjHbAxU        37.0     1926   \n",
       "67033  blues,gospel,gospel blues  51qp3WsYjiDuBhzR7AON69        24.0     1928   \n",
       "5986                  jazz,blues  7fAa9rz4UmwuB4AGh50Gmp        29.0     1928   \n",
       "75336          blues,delta blues  2P9nh9pTK96dE0b6NBbTSs        43.0     1928   \n",
       "\n",
       "       danceability  energy  key  mode  valence    tempo  duration_ms  \n",
       "88900         0.614  0.0423  4.0   1.0    0.211   89.822       177133  \n",
       "47168         0.515  0.2220  0.0   0.0    0.350   98.358       237773  \n",
       "67033         0.439  0.2150  7.0   1.0    0.440  165.549       188373  \n",
       "5986          0.693  0.1820  5.0   0.0    0.588  116.508       191867  \n",
       "75336         0.394  0.0406  9.0   1.0    0.200  116.117       198560  "
      ]
     },
     "metadata": {},
     "execution_count": 8
    }
   ],
   "metadata": {}
  },
  {
   "cell_type": "code",
   "execution_count": 9,
   "source": [
    "len(dataframe_sorted)"
   ],
   "outputs": [
    {
     "output_type": "execute_result",
     "data": {
      "text/plain": [
       "30001"
      ]
     },
     "metadata": {},
     "execution_count": 9
    }
   ],
   "metadata": {}
  },
  {
   "cell_type": "markdown",
   "source": [
    "## Mapping our dataframe to the transfer learning features\n",
    "\n",
    "The transfer learning features have the same ordering of the files of the folder they were extracted, which is not the same as the dataframe now (and the dataframe is now ordered)\n",
    "\n",
    "That means to use them we have to map each song to its corresponding index in the feature dataframe"
   ],
   "metadata": {}
  },
  {
   "cell_type": "code",
   "execution_count": 10,
   "source": [
    "# Loading Transfer Learning Features\n",
    "print(\"Loading Transfer Learning Features...\")\n",
    "transfer_learning_features = np.load(DATASETS_FOLDER / \"input\" / \"extracted_features\" / \"transfer_learning\" / \"features.npy\")\n",
    "print(\"Shape of the transfer learning features: \", np.shape(transfer_learning_features))\n",
    "\n",
    "# Open list of files.txt\n",
    "print(\"Open list of files to make the mapping...\")\n",
    "list_of_files = []\n",
    "with open(DATASETS_FOLDER / \"input\" / \"extracted_features\" / \"transfer_learning\" / \"list_of_files.txt\", \"r\") as files_list:\n",
    "    # split by line ending, each path is a line in this file\n",
    "    list_of_files = files_list.read().split(sep=\"\\n\")\n",
    "\n",
    "# The common information we have is the ID, so we can use it to map to our dataset.\n",
    "print(\"Getting only the IDs from file paths...\")\n",
    "only_ids = []\n",
    "# For all paths in the files list, get only the file name (which is the ID!)\n",
    "for file_name in tqdm(list_of_files):\n",
    "    temp_path = Path(file_name)\n",
    "    only_ids.append(temp_path.stem) # returns only the filename without the extension\n",
    "\n",
    "# Get every ID of our sorted dataframe\n",
    "print(\"Creating the mappings of song to the feature vector indexes \")\n",
    "ids_sorted = dataframe_sorted[\"id\"].to_numpy()\n",
    "\n",
    "# Now we only need to create a new column containing the indexes corresponding to the feature vector\n",
    "mapping_of_indexes = []\n",
    "# Make the mapping of the indexes\n",
    "for song_id in tqdm(ids_sorted):\n",
    "    mapping_of_indexes.append(only_ids.index(song_id))\n",
    "\n",
    "# Adding as a column\n",
    "print(\"Adding the new column with the mapping\")\n",
    "dataframe_sorted[\"mapping_to_fv_index\"] = mapping_of_indexes\n",
    "\n",
    "# Reseting the index so that iloc works\n",
    "print(\"Reseting the index so that iloc works in the sorted dataframe...\")\n",
    "df_sorted_reset_index = dataframe_sorted.reset_index()\n",
    "print(\"All done!\")\n",
    "df_sorted_reset_index.head()"
   ],
   "outputs": [
    {
     "output_type": "stream",
     "name": "stdout",
     "text": [
      "Loading Transfer Learning Features...\n",
      "Shape of the transfer learning features:  (109269, 160)\n",
      "Open list of files to make the mapping...\n",
      "Getting only the IDs from file paths...\n"
     ]
    },
    {
     "output_type": "stream",
     "name": "stderr",
     "text": [
      "100%|██████████| 109269/109269 [00:02<00:00, 53557.60it/s]\n"
     ]
    },
    {
     "output_type": "stream",
     "name": "stdout",
     "text": [
      "Creating the mappings of song to the feature vector indexes \n"
     ]
    },
    {
     "output_type": "stream",
     "name": "stderr",
     "text": [
      "100%|██████████| 30001/30001 [00:45<00:00, 657.13it/s]"
     ]
    },
    {
     "output_type": "stream",
     "name": "stdout",
     "text": [
      "Adding the new column with the mapping\n",
      "Reseting the index so that iloc works in the sorted dataframe...\n",
      "All done!\n"
     ]
    },
    {
     "output_type": "stream",
     "name": "stderr",
     "text": [
      "\n"
     ]
    },
    {
     "output_type": "execute_result",
     "data": {
      "text/html": [
       "<div>\n",
       "<style scoped>\n",
       "    .dataframe tbody tr th:only-of-type {\n",
       "        vertical-align: middle;\n",
       "    }\n",
       "\n",
       "    .dataframe tbody tr th {\n",
       "        vertical-align: top;\n",
       "    }\n",
       "\n",
       "    .dataframe thead th {\n",
       "        text-align: right;\n",
       "    }\n",
       "</style>\n",
       "<table border=\"1\" class=\"dataframe\">\n",
       "  <thead>\n",
       "    <tr style=\"text-align: right;\">\n",
       "      <th></th>\n",
       "      <th>index</th>\n",
       "      <th>id</th>\n",
       "      <th>artist</th>\n",
       "      <th>song</th>\n",
       "      <th>album_name</th>\n",
       "      <th>genres</th>\n",
       "      <th>spotify_id</th>\n",
       "      <th>popularity</th>\n",
       "      <th>release</th>\n",
       "      <th>danceability</th>\n",
       "      <th>energy</th>\n",
       "      <th>key</th>\n",
       "      <th>mode</th>\n",
       "      <th>valence</th>\n",
       "      <th>tempo</th>\n",
       "      <th>duration_ms</th>\n",
       "      <th>mapping_to_fv_index</th>\n",
       "    </tr>\n",
       "  </thead>\n",
       "  <tbody>\n",
       "    <tr>\n",
       "      <th>0</th>\n",
       "      <td>88900</td>\n",
       "      <td>oXEbiIPUippqpNjc</td>\n",
       "      <td>Bessie Smith</td>\n",
       "      <td>Nobody Knows You When You're Down and Out</td>\n",
       "      <td>The Best of Bessie Smith</td>\n",
       "      <td>blues,jazz</td>\n",
       "      <td>2wAfHM7Whz67VFbdanhZlk</td>\n",
       "      <td>43.0</td>\n",
       "      <td>1923</td>\n",
       "      <td>0.614</td>\n",
       "      <td>0.0423</td>\n",
       "      <td>4.0</td>\n",
       "      <td>1.0</td>\n",
       "      <td>0.211</td>\n",
       "      <td>89.822</td>\n",
       "      <td>177133</td>\n",
       "      <td>6465</td>\n",
       "    </tr>\n",
       "    <tr>\n",
       "      <th>1</th>\n",
       "      <td>47168</td>\n",
       "      <td>QjxUmiXnnXxYDt72</td>\n",
       "      <td>Fats Waller</td>\n",
       "      <td>Ain't Misbehavin'</td>\n",
       "      <td>If You Got To Ask, You Ain't Got It!</td>\n",
       "      <td>jazz</td>\n",
       "      <td>3BFRqZFLSrqtQr6cjHbAxU</td>\n",
       "      <td>37.0</td>\n",
       "      <td>1926</td>\n",
       "      <td>0.515</td>\n",
       "      <td>0.2220</td>\n",
       "      <td>0.0</td>\n",
       "      <td>0.0</td>\n",
       "      <td>0.350</td>\n",
       "      <td>98.358</td>\n",
       "      <td>237773</td>\n",
       "      <td>69082</td>\n",
       "    </tr>\n",
       "    <tr>\n",
       "      <th>2</th>\n",
       "      <td>67033</td>\n",
       "      <td>c94tTSauKXFhFJDI</td>\n",
       "      <td>Blind Willie Johnson</td>\n",
       "      <td>Let Your Light Shine On Me</td>\n",
       "      <td>Dark Was The Night (Mojo Workin'- Blues For Th...</td>\n",
       "      <td>blues,gospel,gospel blues</td>\n",
       "      <td>51qp3WsYjiDuBhzR7AON69</td>\n",
       "      <td>24.0</td>\n",
       "      <td>1928</td>\n",
       "      <td>0.439</td>\n",
       "      <td>0.2150</td>\n",
       "      <td>7.0</td>\n",
       "      <td>1.0</td>\n",
       "      <td>0.440</td>\n",
       "      <td>165.549</td>\n",
       "      <td>188373</td>\n",
       "      <td>51783</td>\n",
       "    </tr>\n",
       "    <tr>\n",
       "      <th>3</th>\n",
       "      <td>5986</td>\n",
       "      <td>3MEb9LZbB80nQ1a8</td>\n",
       "      <td>Louis Armstrong</td>\n",
       "      <td>St. James Infirmary</td>\n",
       "      <td>The Complete Hot Five And Hot Seven Recordings...</td>\n",
       "      <td>jazz,blues</td>\n",
       "      <td>7fAa9rz4UmwuB4AGh50Gmp</td>\n",
       "      <td>29.0</td>\n",
       "      <td>1928</td>\n",
       "      <td>0.693</td>\n",
       "      <td>0.1820</td>\n",
       "      <td>5.0</td>\n",
       "      <td>0.0</td>\n",
       "      <td>0.588</td>\n",
       "      <td>116.508</td>\n",
       "      <td>191867</td>\n",
       "      <td>71045</td>\n",
       "    </tr>\n",
       "    <tr>\n",
       "      <th>4</th>\n",
       "      <td>75336</td>\n",
       "      <td>gq0GkmZzoepZzQm3</td>\n",
       "      <td>Blind Willie Johnson</td>\n",
       "      <td>Dark Was the Night, Cold Was the Ground</td>\n",
       "      <td>Dark Was The Night (Mojo Workin'- Blues For Th...</td>\n",
       "      <td>blues,delta blues</td>\n",
       "      <td>2P9nh9pTK96dE0b6NBbTSs</td>\n",
       "      <td>43.0</td>\n",
       "      <td>1928</td>\n",
       "      <td>0.394</td>\n",
       "      <td>0.0406</td>\n",
       "      <td>9.0</td>\n",
       "      <td>1.0</td>\n",
       "      <td>0.200</td>\n",
       "      <td>116.117</td>\n",
       "      <td>198560</td>\n",
       "      <td>14852</td>\n",
       "    </tr>\n",
       "  </tbody>\n",
       "</table>\n",
       "</div>"
      ],
      "text/plain": [
       "   index                id                artist  \\\n",
       "0  88900  oXEbiIPUippqpNjc          Bessie Smith   \n",
       "1  47168  QjxUmiXnnXxYDt72           Fats Waller   \n",
       "2  67033  c94tTSauKXFhFJDI  Blind Willie Johnson   \n",
       "3   5986  3MEb9LZbB80nQ1a8       Louis Armstrong   \n",
       "4  75336  gq0GkmZzoepZzQm3  Blind Willie Johnson   \n",
       "\n",
       "                                        song  \\\n",
       "0  Nobody Knows You When You're Down and Out   \n",
       "1                          Ain't Misbehavin'   \n",
       "2                 Let Your Light Shine On Me   \n",
       "3                        St. James Infirmary   \n",
       "4    Dark Was the Night, Cold Was the Ground   \n",
       "\n",
       "                                          album_name  \\\n",
       "0                           The Best of Bessie Smith   \n",
       "1               If You Got To Ask, You Ain't Got It!   \n",
       "2  Dark Was The Night (Mojo Workin'- Blues For Th...   \n",
       "3  The Complete Hot Five And Hot Seven Recordings...   \n",
       "4  Dark Was The Night (Mojo Workin'- Blues For Th...   \n",
       "\n",
       "                      genres              spotify_id  popularity  release  \\\n",
       "0                 blues,jazz  2wAfHM7Whz67VFbdanhZlk        43.0     1923   \n",
       "1                       jazz  3BFRqZFLSrqtQr6cjHbAxU        37.0     1926   \n",
       "2  blues,gospel,gospel blues  51qp3WsYjiDuBhzR7AON69        24.0     1928   \n",
       "3                 jazz,blues  7fAa9rz4UmwuB4AGh50Gmp        29.0     1928   \n",
       "4          blues,delta blues  2P9nh9pTK96dE0b6NBbTSs        43.0     1928   \n",
       "\n",
       "   danceability  energy  key  mode  valence    tempo  duration_ms  \\\n",
       "0         0.614  0.0423  4.0   1.0    0.211   89.822       177133   \n",
       "1         0.515  0.2220  0.0   0.0    0.350   98.358       237773   \n",
       "2         0.439  0.2150  7.0   1.0    0.440  165.549       188373   \n",
       "3         0.693  0.1820  5.0   0.0    0.588  116.508       191867   \n",
       "4         0.394  0.0406  9.0   1.0    0.200  116.117       198560   \n",
       "\n",
       "   mapping_to_fv_index  \n",
       "0                 6465  \n",
       "1                69082  \n",
       "2                51783  \n",
       "3                71045  \n",
       "4                14852  "
      ]
     },
     "metadata": {},
     "execution_count": 10
    }
   ],
   "metadata": {}
  },
  {
   "cell_type": "markdown",
   "source": [
    "Exporting this dataset"
   ],
   "metadata": {}
  },
  {
   "cell_type": "code",
   "execution_count": 11,
   "source": [
    "df_sorted_reset_index.to_csv(DATASETS_FOLDER / \"input\" / \"csvs\" / f\"sorted_song_info_{len(df_sorted_reset_index)}.csv\")"
   ],
   "outputs": [],
   "metadata": {}
  },
  {
   "cell_type": "markdown",
   "source": [
    "## Loading all features in a feature matrix"
   ],
   "metadata": {}
  },
  {
   "cell_type": "markdown",
   "source": [
    "This next step consists in appending the feature vectors in a list, correspoding to the new orderning of the dataset.\n",
    "That way we'll have a 1 to 1 mapping of song to its corresponding feature vector\n",
    "\n",
    "This way we'll have a 2 arrays of feature vectors:\n",
    "- One of MFCC features \n",
    "- One of Transfer Learning features \n",
    "\n",
    "And then they will be ready to use to make a `similarity matrix`"
   ],
   "metadata": {}
  },
  {
   "cell_type": "code",
   "execution_count": 12,
   "source": [
    "MFCC_FEATURES_PATH = Path(\"../../dataset/dataset_mfcc\")\n",
    "FILE_ENDING = \"_mfcc.npy\"\n",
    "\n",
    "def get_mfcc_feature_vector(df):\n",
    "    \"\"\" Load and append the feature vector extracted to a variable \n",
    "    This function is slower because every npy is in its separate file, that means heavy IO usage.\n",
    "    \"\"\"\n",
    "    feature_vector = []\n",
    "    ids_list = df['id'].to_list()\n",
    "    print(\"Loading MFCC Features...\")\n",
    "    for song_id in tqdm(ids_list):\n",
    "        file_name = song_id + FILE_ENDING\n",
    "        file_path = MFCC_FEATURES_PATH / file_name\n",
    "        feature_vector.append(np.load(file_path).tolist())\n",
    "    print(\"All done!\")\n",
    "    return feature_vector\n",
    "\n",
    "def get_transfer_learning_feature_vector(df, transfer_learning_feature_vector):\n",
    "    feature_vector = []\n",
    "    print(\"Loading Transfer Learning Features...\")\n",
    "    indexes_list = df['mapping_to_fv_index'].to_list()\n",
    "    for index in tqdm(indexes_list):\n",
    "        feature_vector.append(transfer_learning_feature_vector[index])\n",
    "    print(\"All done!\")\n",
    "    return feature_vector\n",
    "\n",
    "def get_feature_vector(df, feature_type, transfer_learning_feature_vector=None):\n",
    "    if feature_type.lower() == \"mfcc\":\n",
    "        return get_mfcc_feature_vector(df)\n",
    "    elif feature_type.lower() == \"transfer_learning\":\n",
    "        if type(transfer_learning_feature_vector) == None:\n",
    "            raise ValueError(\"transfer_learning_feature_vector cannot be empty!\")\n",
    "        return get_transfer_learning_feature_vector(df, transfer_learning_feature_vector)\n",
    "    else:\n",
    "        raise TypeError(\"Not a valid feature vector type!\")"
   ],
   "outputs": [],
   "metadata": {}
  },
  {
   "cell_type": "code",
   "execution_count": 13,
   "source": [
    "#mfcc_feature_vector = get_feature_vector(df_sorted_reset_index, \"mfcc\")\n",
    "#print(np.shape(mfcc_feature_vector))"
   ],
   "outputs": [],
   "metadata": {}
  },
  {
   "cell_type": "code",
   "execution_count": 14,
   "source": [
    "transfer_learning_feature_vector = get_feature_vector(df_sorted_reset_index, \"transfer_learning\", transfer_learning_features)\n",
    "print(np.shape(transfer_learning_feature_vector))"
   ],
   "outputs": [
    {
     "output_type": "stream",
     "name": "stdout",
     "text": [
      "Loading Transfer Learning Features...\n"
     ]
    },
    {
     "output_type": "stream",
     "name": "stderr",
     "text": [
      "100%|██████████| 30001/30001 [00:00<00:00, 1120440.53it/s]"
     ]
    },
    {
     "output_type": "stream",
     "name": "stdout",
     "text": [
      "All done!\n",
      "(30001, 160)\n"
     ]
    },
    {
     "output_type": "stream",
     "name": "stderr",
     "text": [
      "\n"
     ]
    }
   ],
   "metadata": {}
  },
  {
   "cell_type": "markdown",
   "source": [
    "## Export to avoid computations again"
   ],
   "metadata": {}
  },
  {
   "cell_type": "code",
   "execution_count": 15,
   "source": [
    "def export_feature_vector(feature_vector, feat_type):\n",
    "    \"\"\" Saves a feature vector to avoid making this list again \"\"\"\n",
    "    size = np.shape(feature_vector)[0]\n",
    "    np.save( DATASETS_FOLDER / \"input\" / \"feature_vectors\" / feat_type / f\"{feat_type}_feature_vector_{size}_samples.npy\", feature_vector)\n",
    "    print(f\"Saving {feat_type} feature vector of {size} samples complete!\")\n",
    "\n",
    "export_feature_vector(transfer_learning_feature_vector, feat_type=\"transfer_learning\")\n",
    "# export_feature_vector(mfcc_feature_vector, feat_type=\"mfcc\")"
   ],
   "outputs": [
    {
     "output_type": "stream",
     "name": "stdout",
     "text": [
      "Saving transfer_learning feature vector of 30001 samples complete!\n"
     ]
    }
   ],
   "metadata": {}
  },
  {
   "cell_type": "markdown",
   "source": [
    "## Computing the similarity matrix using the RBF Kernel"
   ],
   "metadata": {}
  },
  {
   "cell_type": "code",
   "execution_count": 16,
   "source": [
    "from sklearn.metrics.pairwise import rbf_kernel\n",
    "\n",
    "gamma = 0.1\n",
    "similarity_matrix = rbf_kernel(transfer_learning_feature_vector, gamma=gamma)\n",
    "np.fill_diagonal(similarity_matrix, 0) # Just a measure to avoid comparing to itself when generating the network"
   ],
   "outputs": [],
   "metadata": {}
  },
  {
   "cell_type": "code",
   "execution_count": 17,
   "source": [
    "def save_similarity_matrix(gamma, matrix, feat_type):\n",
    "    size = np.shape(matrix)[0]\n",
    "    np.save(DATASETS_FOLDER / \"input\" / \"similarity_matrices\" / feat_type / f\"{feat_type}_{size}_samples_{gamma}_gamma.npy\", matrix)\n",
    "    print(f\"Saving similarity matrix of size {size} complete!\")\n",
    "\n",
    "save_similarity_matrix(gamma, similarity_matrix, \"transfer_learning\")"
   ],
   "outputs": [
    {
     "output_type": "stream",
     "name": "stdout",
     "text": [
      "Saving similarity matrix of size 30001 complete!\n"
     ]
    }
   ],
   "metadata": {}
  }
 ],
 "metadata": {
  "orig_nbformat": 4,
  "language_info": {
   "name": "python",
   "version": "3.8.10",
   "mimetype": "text/x-python",
   "codemirror_mode": {
    "name": "ipython",
    "version": 3
   },
   "pygments_lexer": "ipython3",
   "nbconvert_exporter": "python",
   "file_extension": ".py"
  },
  "kernelspec": {
   "name": "python3",
   "display_name": "Python 3.8.10 64-bit ('venv': venv)"
  },
  "interpreter": {
   "hash": "a1b5e73f98ecc5046ac4ff6f8b5b285cd0127d9ded83ed20db3ab3b6bcfe82a1"
  }
 },
 "nbformat": 4,
 "nbformat_minor": 2
}